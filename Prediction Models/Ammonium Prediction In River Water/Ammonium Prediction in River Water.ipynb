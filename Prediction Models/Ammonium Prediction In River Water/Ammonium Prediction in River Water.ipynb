{
 "cells": [
  {
   "cell_type": "code",
   "execution_count": 1,
   "metadata": {
    "_cell_guid": "b1076dfc-b9ad-4769-8c92-a6c4dae69d19",
    "_uuid": "8f2839f25d086af736a60e9eeb907d3b93b6e0e5",
    "execution": {
     "iopub.execute_input": "2022-06-19T10:53:16.252120Z",
     "iopub.status.busy": "2022-06-19T10:53:16.251454Z",
     "iopub.status.idle": "2022-06-19T10:53:23.802584Z",
     "shell.execute_reply": "2022-06-19T10:53:23.801915Z",
     "shell.execute_reply.started": "2022-06-19T10:46:03.133969Z"
    },
    "papermill": {
     "duration": 7.594043,
     "end_time": "2022-06-19T10:53:23.802719",
     "exception": false,
     "start_time": "2022-06-19T10:53:16.208676",
     "status": "completed"
    },
    "tags": []
   },
   "outputs": [],
   "source": [
    "# Work with Data - the main Python libraries\n",
    "import numpy as np\n",
    "import pandas as pd\n",
    "import pandas_profiling as pp\n",
    "\n",
    "# Visualization\n",
    "import matplotlib.pyplot as plt\n",
    "\n",
    "# Preprocessing\n",
    "from sklearn.preprocessing import StandardScaler\n",
    "from sklearn.model_selection import train_test_split, KFold, ShuffleSplit, GridSearchCV\n",
    "\n",
    "# Modelling - sklearn\n",
    "from sklearn.neural_network import MLPRegressor\n",
    "from sklearn.ensemble import RandomForestRegressor\n",
    "\n",
    "# Modeling - NN models\n",
    "import keras\n",
    "from keras.models import Sequential\n",
    "from keras.layers import Dense, Dropout\n",
    "from keras import optimizers\n",
    "from keras.wrappers.scikit_learn import KerasRegressor\n",
    "from keras.callbacks import ReduceLROnPlateau\n",
    "#import tensorflow as tf\n",
    "\n",
    "# Metrics\n",
    "from sklearn.metrics import r2_score\n",
    "from sklearn.metrics import mean_squared_error as mse\n",
    "\n",
    "import warnings\n",
    "warnings.simplefilter('ignore')"
   ]
  },
  {
   "cell_type": "code",
   "execution_count": 2,
   "metadata": {
    "execution": {
     "iopub.execute_input": "2022-06-19T10:53:23.974266Z",
     "iopub.status.busy": "2022-06-19T10:53:23.973544Z",
     "iopub.status.idle": "2022-06-19T10:53:23.989910Z",
     "shell.execute_reply": "2022-06-19T10:53:23.990521Z",
     "shell.execute_reply.started": "2022-06-19T10:46:03.145522Z"
    },
    "papermill": {
     "duration": 0.066858,
     "end_time": "2022-06-19T10:53:23.990692",
     "exception": false,
     "start_time": "2022-06-19T10:53:23.923834",
     "status": "completed"
    },
    "tags": []
   },
   "outputs": [],
   "source": [
    "# Download training data\n",
    "train = pd.read_csv('../input/ammonium-prediction-in-river-water/train.csv')"
   ]
  },
  {
   "cell_type": "code",
   "execution_count": 3,
   "metadata": {
    "execution": {
     "iopub.execute_input": "2022-06-19T10:53:24.075599Z",
     "iopub.status.busy": "2022-06-19T10:53:24.074860Z",
     "iopub.status.idle": "2022-06-19T10:53:24.102818Z",
     "shell.execute_reply": "2022-06-19T10:53:24.102129Z",
     "shell.execute_reply.started": "2022-06-19T10:46:03.165248Z"
    },
    "papermill": {
     "duration": 0.071722,
     "end_time": "2022-06-19T10:53:24.102948",
     "exception": false,
     "start_time": "2022-06-19T10:53:24.031226",
     "status": "completed"
    },
    "tags": []
   },
   "outputs": [
    {
     "data": {
      "text/html": [
       "<div>\n",
       "<style scoped>\n",
       "    .dataframe tbody tr th:only-of-type {\n",
       "        vertical-align: middle;\n",
       "    }\n",
       "\n",
       "    .dataframe tbody tr th {\n",
       "        vertical-align: top;\n",
       "    }\n",
       "\n",
       "    .dataframe thead th {\n",
       "        text-align: right;\n",
       "    }\n",
       "</style>\n",
       "<table border=\"1\" class=\"dataframe\">\n",
       "  <thead>\n",
       "    <tr style=\"text-align: right;\">\n",
       "      <th></th>\n",
       "      <th>Id</th>\n",
       "      <th>target</th>\n",
       "      <th>1</th>\n",
       "      <th>2</th>\n",
       "      <th>3</th>\n",
       "      <th>4</th>\n",
       "      <th>5</th>\n",
       "      <th>6</th>\n",
       "      <th>7</th>\n",
       "    </tr>\n",
       "  </thead>\n",
       "  <tbody>\n",
       "    <tr>\n",
       "      <th>0</th>\n",
       "      <td>0</td>\n",
       "      <td>1.10</td>\n",
       "      <td>0.69</td>\n",
       "      <td>1.04</td>\n",
       "      <td>NaN</td>\n",
       "      <td>NaN</td>\n",
       "      <td>NaN</td>\n",
       "      <td>NaN</td>\n",
       "      <td>NaN</td>\n",
       "    </tr>\n",
       "    <tr>\n",
       "      <th>1</th>\n",
       "      <td>3</td>\n",
       "      <td>0.41</td>\n",
       "      <td>0.71</td>\n",
       "      <td>0.72</td>\n",
       "      <td>NaN</td>\n",
       "      <td>NaN</td>\n",
       "      <td>NaN</td>\n",
       "      <td>NaN</td>\n",
       "      <td>NaN</td>\n",
       "    </tr>\n",
       "    <tr>\n",
       "      <th>2</th>\n",
       "      <td>4</td>\n",
       "      <td>1.70</td>\n",
       "      <td>2.21</td>\n",
       "      <td>2.21</td>\n",
       "      <td>NaN</td>\n",
       "      <td>NaN</td>\n",
       "      <td>NaN</td>\n",
       "      <td>NaN</td>\n",
       "      <td>NaN</td>\n",
       "    </tr>\n",
       "    <tr>\n",
       "      <th>3</th>\n",
       "      <td>5</td>\n",
       "      <td>0.62</td>\n",
       "      <td>0.60</td>\n",
       "      <td>0.68</td>\n",
       "      <td>NaN</td>\n",
       "      <td>NaN</td>\n",
       "      <td>NaN</td>\n",
       "      <td>NaN</td>\n",
       "      <td>NaN</td>\n",
       "    </tr>\n",
       "    <tr>\n",
       "      <th>4</th>\n",
       "      <td>6</td>\n",
       "      <td>0.60</td>\n",
       "      <td>0.60</td>\n",
       "      <td>0.90</td>\n",
       "      <td>NaN</td>\n",
       "      <td>NaN</td>\n",
       "      <td>NaN</td>\n",
       "      <td>NaN</td>\n",
       "      <td>NaN</td>\n",
       "    </tr>\n",
       "  </tbody>\n",
       "</table>\n",
       "</div>"
      ],
      "text/plain": [
       "   Id  target     1     2   3   4   5   6   7\n",
       "0   0    1.10  0.69  1.04 NaN NaN NaN NaN NaN\n",
       "1   3    0.41  0.71  0.72 NaN NaN NaN NaN NaN\n",
       "2   4    1.70  2.21  2.21 NaN NaN NaN NaN NaN\n",
       "3   5    0.62  0.60  0.68 NaN NaN NaN NaN NaN\n",
       "4   6    0.60  0.60  0.90 NaN NaN NaN NaN NaN"
      ]
     },
     "execution_count": 3,
     "metadata": {},
     "output_type": "execute_result"
    }
   ],
   "source": [
    "# Display the first 5 rows of the training dataframe.\n",
    "train.head()"
   ]
  },
  {
   "cell_type": "code",
   "execution_count": 4,
   "metadata": {
    "execution": {
     "iopub.execute_input": "2022-06-19T10:53:24.200956Z",
     "iopub.status.busy": "2022-06-19T10:53:24.200284Z",
     "iopub.status.idle": "2022-06-19T10:53:24.203302Z",
     "shell.execute_reply": "2022-06-19T10:53:24.203825Z",
     "shell.execute_reply.started": "2022-06-19T10:46:03.184685Z"
    },
    "papermill": {
     "duration": 0.059833,
     "end_time": "2022-06-19T10:53:24.203971",
     "exception": false,
     "start_time": "2022-06-19T10:53:24.144138",
     "status": "completed"
    },
    "tags": []
   },
   "outputs": [
    {
     "name": "stdout",
     "output_type": "stream",
     "text": [
      "<class 'pandas.core.frame.DataFrame'>\n",
      "RangeIndex: 147 entries, 0 to 146\n",
      "Data columns (total 9 columns):\n",
      " #   Column  Non-Null Count  Dtype  \n",
      "---  ------  --------------  -----  \n",
      " 0   Id      147 non-null    int64  \n",
      " 1   target  147 non-null    float64\n",
      " 2   1       145 non-null    float64\n",
      " 3   2       145 non-null    float64\n",
      " 4   3       32 non-null     float64\n",
      " 5   4       31 non-null     float64\n",
      " 6   5       33 non-null     float64\n",
      " 7   6       37 non-null     float64\n",
      " 8   7       37 non-null     float64\n",
      "dtypes: float64(8), int64(1)\n",
      "memory usage: 10.5 KB\n"
     ]
    }
   ],
   "source": [
    "# Information for training data\n",
    "train.info()"
   ]
  },
  {
   "cell_type": "code",
   "execution_count": 5,
   "metadata": {
    "execution": {
     "iopub.execute_input": "2022-06-19T10:53:24.289600Z",
     "iopub.status.busy": "2022-06-19T10:53:24.288925Z",
     "iopub.status.idle": "2022-06-19T10:53:24.299516Z",
     "shell.execute_reply": "2022-06-19T10:53:24.300155Z",
     "shell.execute_reply.started": "2022-06-19T10:46:03.198018Z"
    },
    "papermill": {
     "duration": 0.05476,
     "end_time": "2022-06-19T10:53:24.300319",
     "exception": false,
     "start_time": "2022-06-19T10:53:24.245559",
     "status": "completed"
    },
    "tags": []
   },
   "outputs": [],
   "source": [
    "# Download test data\n",
    "test = pd.read_csv('../input/ammonium-prediction-in-river-water/test.csv')"
   ]
  },
  {
   "cell_type": "code",
   "execution_count": 6,
   "metadata": {
    "execution": {
     "iopub.execute_input": "2022-06-19T10:53:24.386465Z",
     "iopub.status.busy": "2022-06-19T10:53:24.385798Z",
     "iopub.status.idle": "2022-06-19T10:53:24.399691Z",
     "shell.execute_reply": "2022-06-19T10:53:24.400340Z",
     "shell.execute_reply.started": "2022-06-19T10:46:03.211449Z"
    },
    "papermill": {
     "duration": 0.058672,
     "end_time": "2022-06-19T10:53:24.400492",
     "exception": false,
     "start_time": "2022-06-19T10:53:24.341820",
     "status": "completed"
    },
    "tags": []
   },
   "outputs": [
    {
     "data": {
      "text/html": [
       "<div>\n",
       "<style scoped>\n",
       "    .dataframe tbody tr th:only-of-type {\n",
       "        vertical-align: middle;\n",
       "    }\n",
       "\n",
       "    .dataframe tbody tr th {\n",
       "        vertical-align: top;\n",
       "    }\n",
       "\n",
       "    .dataframe thead th {\n",
       "        text-align: right;\n",
       "    }\n",
       "</style>\n",
       "<table border=\"1\" class=\"dataframe\">\n",
       "  <thead>\n",
       "    <tr style=\"text-align: right;\">\n",
       "      <th></th>\n",
       "      <th>Id</th>\n",
       "      <th>1</th>\n",
       "      <th>2</th>\n",
       "      <th>3</th>\n",
       "      <th>4</th>\n",
       "      <th>5</th>\n",
       "      <th>6</th>\n",
       "      <th>7</th>\n",
       "    </tr>\n",
       "  </thead>\n",
       "  <tbody>\n",
       "    <tr>\n",
       "      <th>58</th>\n",
       "      <td>206</td>\n",
       "      <td>0.37</td>\n",
       "      <td>0.26</td>\n",
       "      <td>0.71</td>\n",
       "      <td>18.28</td>\n",
       "      <td>24.99</td>\n",
       "      <td>0.57</td>\n",
       "      <td>1.57</td>\n",
       "    </tr>\n",
       "    <tr>\n",
       "      <th>59</th>\n",
       "      <td>209</td>\n",
       "      <td>0.39</td>\n",
       "      <td>0.32</td>\n",
       "      <td>NaN</td>\n",
       "      <td>NaN</td>\n",
       "      <td>NaN</td>\n",
       "      <td>NaN</td>\n",
       "      <td>NaN</td>\n",
       "    </tr>\n",
       "    <tr>\n",
       "      <th>60</th>\n",
       "      <td>210</td>\n",
       "      <td>0.43</td>\n",
       "      <td>0.21</td>\n",
       "      <td>NaN</td>\n",
       "      <td>NaN</td>\n",
       "      <td>NaN</td>\n",
       "      <td>NaN</td>\n",
       "      <td>NaN</td>\n",
       "    </tr>\n",
       "    <tr>\n",
       "      <th>61</th>\n",
       "      <td>215</td>\n",
       "      <td>0.36</td>\n",
       "      <td>0.42</td>\n",
       "      <td>NaN</td>\n",
       "      <td>NaN</td>\n",
       "      <td>NaN</td>\n",
       "      <td>NaN</td>\n",
       "      <td>NaN</td>\n",
       "    </tr>\n",
       "    <tr>\n",
       "      <th>62</th>\n",
       "      <td>216</td>\n",
       "      <td>0.35</td>\n",
       "      <td>0.30</td>\n",
       "      <td>NaN</td>\n",
       "      <td>NaN</td>\n",
       "      <td>NaN</td>\n",
       "      <td>NaN</td>\n",
       "      <td>NaN</td>\n",
       "    </tr>\n",
       "  </tbody>\n",
       "</table>\n",
       "</div>"
      ],
      "text/plain": [
       "     Id     1     2     3      4      5     6     7\n",
       "58  206  0.37  0.26  0.71  18.28  24.99  0.57  1.57\n",
       "59  209  0.39  0.32   NaN    NaN    NaN   NaN   NaN\n",
       "60  210  0.43  0.21   NaN    NaN    NaN   NaN   NaN\n",
       "61  215  0.36  0.42   NaN    NaN    NaN   NaN   NaN\n",
       "62  216  0.35  0.30   NaN    NaN    NaN   NaN   NaN"
      ]
     },
     "execution_count": 6,
     "metadata": {},
     "output_type": "execute_result"
    }
   ],
   "source": [
    "# Display the 7 last rows of the training dataframe\n",
    "test.tail()"
   ]
  },
  {
   "cell_type": "code",
   "execution_count": 7,
   "metadata": {
    "execution": {
     "iopub.execute_input": "2022-06-19T10:53:24.486567Z",
     "iopub.status.busy": "2022-06-19T10:53:24.485906Z",
     "iopub.status.idle": "2022-06-19T10:53:24.499134Z",
     "shell.execute_reply": "2022-06-19T10:53:24.500101Z",
     "shell.execute_reply.started": "2022-06-19T10:46:03.229409Z"
    },
    "papermill": {
     "duration": 0.058218,
     "end_time": "2022-06-19T10:53:24.500323",
     "exception": false,
     "start_time": "2022-06-19T10:53:24.442105",
     "status": "completed"
    },
    "tags": []
   },
   "outputs": [
    {
     "name": "stdout",
     "output_type": "stream",
     "text": [
      "<class 'pandas.core.frame.DataFrame'>\n",
      "RangeIndex: 63 entries, 0 to 62\n",
      "Data columns (total 8 columns):\n",
      " #   Column  Non-Null Count  Dtype  \n",
      "---  ------  --------------  -----  \n",
      " 0   Id      63 non-null     int64  \n",
      " 1   1       63 non-null     float64\n",
      " 2   2       63 non-null     float64\n",
      " 3   3       15 non-null     float64\n",
      " 4   4       15 non-null     float64\n",
      " 5   5       16 non-null     float64\n",
      " 6   6       14 non-null     float64\n",
      " 7   7       14 non-null     float64\n",
      "dtypes: float64(7), int64(1)\n",
      "memory usage: 4.1 KB\n"
     ]
    }
   ],
   "source": [
    "test.info()"
   ]
  },
  {
   "cell_type": "code",
   "execution_count": 8,
   "metadata": {
    "execution": {
     "iopub.execute_input": "2022-06-19T10:53:24.837802Z",
     "iopub.status.busy": "2022-06-19T10:53:24.837164Z",
     "iopub.status.idle": "2022-06-19T10:53:24.870591Z",
     "shell.execute_reply": "2022-06-19T10:53:24.869966Z",
     "shell.execute_reply.started": "2022-06-19T10:46:03.247242Z"
    },
    "papermill": {
     "duration": 0.078003,
     "end_time": "2022-06-19T10:53:24.870722",
     "exception": false,
     "start_time": "2022-06-19T10:53:24.792719",
     "status": "completed"
    },
    "tags": []
   },
   "outputs": [
    {
     "name": "stdout",
     "output_type": "stream",
     "text": [
      "<class 'pandas.core.frame.DataFrame'>\n",
      "RangeIndex: 144 entries, 0 to 143\n",
      "Data columns (total 3 columns):\n",
      " #   Column  Non-Null Count  Dtype  \n",
      "---  ------  --------------  -----  \n",
      " 0   target  144 non-null    float64\n",
      " 1   1       144 non-null    float64\n",
      " 2   2       144 non-null    float64\n",
      "dtypes: float64(3)\n",
      "memory usage: 3.5 KB\n"
     ]
    }
   ],
   "source": [
    "# Select the stations with the most data in training dataset\n",
    "train = train.drop(['Id','3','4','5','6','7'], axis = 1)\n",
    "train = train.dropna().reset_index(drop=True)\n",
    "train.info()"
   ]
  },
  {
   "cell_type": "code",
   "execution_count": 9,
   "metadata": {
    "execution": {
     "iopub.execute_input": "2022-06-19T10:53:24.960306Z",
     "iopub.status.busy": "2022-06-19T10:53:24.959657Z",
     "iopub.status.idle": "2022-06-19T10:53:24.983615Z",
     "shell.execute_reply": "2022-06-19T10:53:24.983054Z",
     "shell.execute_reply.started": "2022-06-19T10:46:03.263157Z"
    },
    "papermill": {
     "duration": 0.070686,
     "end_time": "2022-06-19T10:53:24.983752",
     "exception": false,
     "start_time": "2022-06-19T10:53:24.913066",
     "status": "completed"
    },
    "tags": []
   },
   "outputs": [
    {
     "data": {
      "text/html": [
       "<div>\n",
       "<style scoped>\n",
       "    .dataframe tbody tr th:only-of-type {\n",
       "        vertical-align: middle;\n",
       "    }\n",
       "\n",
       "    .dataframe tbody tr th {\n",
       "        vertical-align: top;\n",
       "    }\n",
       "\n",
       "    .dataframe thead th {\n",
       "        text-align: right;\n",
       "    }\n",
       "</style>\n",
       "<table border=\"1\" class=\"dataframe\">\n",
       "  <thead>\n",
       "    <tr style=\"text-align: right;\">\n",
       "      <th></th>\n",
       "      <th>target</th>\n",
       "      <th>1</th>\n",
       "      <th>2</th>\n",
       "    </tr>\n",
       "  </thead>\n",
       "  <tbody>\n",
       "    <tr>\n",
       "      <th>count</th>\n",
       "      <td>144.000000</td>\n",
       "      <td>144.000000</td>\n",
       "      <td>144.000000</td>\n",
       "    </tr>\n",
       "    <tr>\n",
       "      <th>mean</th>\n",
       "      <td>0.580486</td>\n",
       "      <td>0.588264</td>\n",
       "      <td>0.664653</td>\n",
       "    </tr>\n",
       "    <tr>\n",
       "      <th>std</th>\n",
       "      <td>0.434269</td>\n",
       "      <td>0.463758</td>\n",
       "      <td>0.592069</td>\n",
       "    </tr>\n",
       "    <tr>\n",
       "      <th>min</th>\n",
       "      <td>0.040000</td>\n",
       "      <td>0.040000</td>\n",
       "      <td>0.020000</td>\n",
       "    </tr>\n",
       "    <tr>\n",
       "      <th>25%</th>\n",
       "      <td>0.250000</td>\n",
       "      <td>0.227500</td>\n",
       "      <td>0.220000</td>\n",
       "    </tr>\n",
       "    <tr>\n",
       "      <th>50%</th>\n",
       "      <td>0.425000</td>\n",
       "      <td>0.415000</td>\n",
       "      <td>0.455000</td>\n",
       "    </tr>\n",
       "    <tr>\n",
       "      <th>75%</th>\n",
       "      <td>0.827500</td>\n",
       "      <td>0.802500</td>\n",
       "      <td>0.920000</td>\n",
       "    </tr>\n",
       "    <tr>\n",
       "      <th>max</th>\n",
       "      <td>1.930000</td>\n",
       "      <td>2.400000</td>\n",
       "      <td>3.600000</td>\n",
       "    </tr>\n",
       "  </tbody>\n",
       "</table>\n",
       "</div>"
      ],
      "text/plain": [
       "           target           1           2\n",
       "count  144.000000  144.000000  144.000000\n",
       "mean     0.580486    0.588264    0.664653\n",
       "std      0.434269    0.463758    0.592069\n",
       "min      0.040000    0.040000    0.020000\n",
       "25%      0.250000    0.227500    0.220000\n",
       "50%      0.425000    0.415000    0.455000\n",
       "75%      0.827500    0.802500    0.920000\n",
       "max      1.930000    2.400000    3.600000"
      ]
     },
     "execution_count": 9,
     "metadata": {},
     "output_type": "execute_result"
    }
   ],
   "source": [
    "# Display the statistics for training data\n",
    "train.describe()"
   ]
  },
  {
   "cell_type": "code",
   "execution_count": 10,
   "metadata": {
    "execution": {
     "iopub.execute_input": "2022-06-19T10:53:25.075127Z",
     "iopub.status.busy": "2022-06-19T10:53:25.074462Z",
     "iopub.status.idle": "2022-06-19T10:53:25.077901Z",
     "shell.execute_reply": "2022-06-19T10:53:25.077368Z",
     "shell.execute_reply.started": "2022-06-19T10:46:03.289648Z"
    },
    "papermill": {
     "duration": 0.051285,
     "end_time": "2022-06-19T10:53:25.078038",
     "exception": false,
     "start_time": "2022-06-19T10:53:25.026753",
     "status": "completed"
    },
    "tags": []
   },
   "outputs": [],
   "source": [
    "# Selecting a target featute and removing it from training dataset\n",
    "target = train.pop('target')"
   ]
  },
  {
   "cell_type": "code",
   "execution_count": 11,
   "metadata": {
    "execution": {
     "iopub.execute_input": "2022-06-19T10:53:25.173433Z",
     "iopub.status.busy": "2022-06-19T10:53:25.172717Z",
     "iopub.status.idle": "2022-06-19T10:53:25.175822Z",
     "shell.execute_reply": "2022-06-19T10:53:25.175293Z",
     "shell.execute_reply.started": "2022-06-19T10:46:03.296267Z"
    },
    "papermill": {
     "duration": 0.055048,
     "end_time": "2022-06-19T10:53:25.175935",
     "exception": false,
     "start_time": "2022-06-19T10:53:25.120887",
     "status": "completed"
    },
    "tags": []
   },
   "outputs": [],
   "source": [
    "# Select the stations with the most data in test dataset\n",
    "test = test.drop(['Id','3','4','5','6','7'], axis = 1)\n",
    "test = test.dropna().reset_index(drop=True)"
   ]
  },
  {
   "cell_type": "code",
   "execution_count": 12,
   "metadata": {
    "execution": {
     "iopub.execute_input": "2022-06-19T10:53:25.272187Z",
     "iopub.status.busy": "2022-06-19T10:53:25.271505Z",
     "iopub.status.idle": "2022-06-19T10:53:25.275287Z",
     "shell.execute_reply": "2022-06-19T10:53:25.274639Z",
     "shell.execute_reply.started": "2022-06-19T10:46:03.309855Z"
    },
    "papermill": {
     "duration": 0.056528,
     "end_time": "2022-06-19T10:53:25.275403",
     "exception": false,
     "start_time": "2022-06-19T10:53:25.218875",
     "status": "completed"
    },
    "tags": []
   },
   "outputs": [
    {
     "name": "stdout",
     "output_type": "stream",
     "text": [
      "<class 'pandas.core.frame.DataFrame'>\n",
      "RangeIndex: 63 entries, 0 to 62\n",
      "Data columns (total 2 columns):\n",
      " #   Column  Non-Null Count  Dtype  \n",
      "---  ------  --------------  -----  \n",
      " 0   1       63 non-null     float64\n",
      " 1   2       63 non-null     float64\n",
      "dtypes: float64(2)\n",
      "memory usage: 1.1 KB\n"
     ]
    }
   ],
   "source": [
    "# Display basic information about the test data\n",
    "test.info()"
   ]
  },
  {
   "cell_type": "code",
   "execution_count": 13,
   "metadata": {
    "execution": {
     "iopub.execute_input": "2022-06-19T10:53:25.455556Z",
     "iopub.status.busy": "2022-06-19T10:53:25.454831Z",
     "iopub.status.idle": "2022-06-19T10:53:25.458285Z",
     "shell.execute_reply": "2022-06-19T10:53:25.457601Z",
     "shell.execute_reply.started": "2022-06-19T10:46:03.325138Z"
    },
    "papermill": {
     "duration": 0.054471,
     "end_time": "2022-06-19T10:53:25.458431",
     "exception": false,
     "start_time": "2022-06-19T10:53:25.403960",
     "status": "completed"
    },
    "tags": []
   },
   "outputs": [],
   "source": [
    "# Training data splitting to new training (part of the all training) and validation data\n",
    "train_all = train.copy()\n",
    "target_all = target.copy()\n",
    "train, valid, target_train, target_valid = train_test_split(train_all, target_all, test_size=0.2, random_state=0)"
   ]
  },
  {
   "cell_type": "code",
   "execution_count": 14,
   "metadata": {
    "execution": {
     "iopub.execute_input": "2022-06-19T10:53:25.559149Z",
     "iopub.status.busy": "2022-06-19T10:53:25.558420Z",
     "iopub.status.idle": "2022-06-19T10:53:25.562940Z",
     "shell.execute_reply": "2022-06-19T10:53:25.562390Z",
     "shell.execute_reply.started": "2022-06-19T10:46:03.337471Z"
    },
    "papermill": {
     "duration": 0.06092,
     "end_time": "2022-06-19T10:53:25.563074",
     "exception": false,
     "start_time": "2022-06-19T10:53:25.502154",
     "status": "completed"
    },
    "tags": []
   },
   "outputs": [
    {
     "data": {
      "text/html": [
       "<div>\n",
       "<style scoped>\n",
       "    .dataframe tbody tr th:only-of-type {\n",
       "        vertical-align: middle;\n",
       "    }\n",
       "\n",
       "    .dataframe tbody tr th {\n",
       "        vertical-align: top;\n",
       "    }\n",
       "\n",
       "    .dataframe thead th {\n",
       "        text-align: right;\n",
       "    }\n",
       "</style>\n",
       "<table border=\"1\" class=\"dataframe\">\n",
       "  <thead>\n",
       "    <tr style=\"text-align: right;\">\n",
       "      <th></th>\n",
       "      <th>1</th>\n",
       "      <th>2</th>\n",
       "    </tr>\n",
       "  </thead>\n",
       "  <tbody>\n",
       "    <tr>\n",
       "      <th>18</th>\n",
       "      <td>1.10</td>\n",
       "      <td>0.70</td>\n",
       "    </tr>\n",
       "    <tr>\n",
       "      <th>71</th>\n",
       "      <td>0.27</td>\n",
       "      <td>0.26</td>\n",
       "    </tr>\n",
       "    <tr>\n",
       "      <th>27</th>\n",
       "      <td>0.41</td>\n",
       "      <td>0.47</td>\n",
       "    </tr>\n",
       "    <tr>\n",
       "      <th>141</th>\n",
       "      <td>2.40</td>\n",
       "      <td>3.60</td>\n",
       "    </tr>\n",
       "    <tr>\n",
       "      <th>2</th>\n",
       "      <td>2.21</td>\n",
       "      <td>2.21</td>\n",
       "    </tr>\n",
       "    <tr>\n",
       "      <th>...</th>\n",
       "      <td>...</td>\n",
       "      <td>...</td>\n",
       "    </tr>\n",
       "    <tr>\n",
       "      <th>9</th>\n",
       "      <td>0.39</td>\n",
       "      <td>0.41</td>\n",
       "    </tr>\n",
       "    <tr>\n",
       "      <th>103</th>\n",
       "      <td>0.12</td>\n",
       "      <td>0.12</td>\n",
       "    </tr>\n",
       "    <tr>\n",
       "      <th>67</th>\n",
       "      <td>0.70</td>\n",
       "      <td>0.82</td>\n",
       "    </tr>\n",
       "    <tr>\n",
       "      <th>117</th>\n",
       "      <td>0.20</td>\n",
       "      <td>0.16</td>\n",
       "    </tr>\n",
       "    <tr>\n",
       "      <th>47</th>\n",
       "      <td>0.90</td>\n",
       "      <td>0.99</td>\n",
       "    </tr>\n",
       "  </tbody>\n",
       "</table>\n",
       "<p>115 rows × 2 columns</p>\n",
       "</div>"
      ],
      "text/plain": [
       "        1     2\n",
       "18   1.10  0.70\n",
       "71   0.27  0.26\n",
       "27   0.41  0.47\n",
       "141  2.40  3.60\n",
       "2    2.21  2.21\n",
       "..    ...   ...\n",
       "9    0.39  0.41\n",
       "103  0.12  0.12\n",
       "67   0.70  0.82\n",
       "117  0.20  0.16\n",
       "47   0.90  0.99\n",
       "\n",
       "[115 rows x 2 columns]"
      ]
     },
     "execution_count": 14,
     "metadata": {},
     "output_type": "execute_result"
    }
   ],
   "source": [
    "train"
   ]
  },
  {
   "cell_type": "code",
   "execution_count": 15,
   "metadata": {
    "execution": {
     "iopub.execute_input": "2022-06-19T10:53:25.662287Z",
     "iopub.status.busy": "2022-06-19T10:53:25.661550Z",
     "iopub.status.idle": "2022-06-19T10:53:25.665613Z",
     "shell.execute_reply": "2022-06-19T10:53:25.664955Z",
     "shell.execute_reply.started": "2022-06-19T10:46:03.362802Z"
    },
    "papermill": {
     "duration": 0.058538,
     "end_time": "2022-06-19T10:53:25.665729",
     "exception": false,
     "start_time": "2022-06-19T10:53:25.607191",
     "status": "completed"
    },
    "tags": []
   },
   "outputs": [
    {
     "name": "stdout",
     "output_type": "stream",
     "text": [
      "<class 'pandas.core.frame.DataFrame'>\n",
      "Int64Index: 115 entries, 18 to 47\n",
      "Data columns (total 2 columns):\n",
      " #   Column  Non-Null Count  Dtype  \n",
      "---  ------  --------------  -----  \n",
      " 0   1       115 non-null    float64\n",
      " 1   2       115 non-null    float64\n",
      "dtypes: float64(2)\n",
      "memory usage: 2.7 KB\n"
     ]
    }
   ],
   "source": [
    "# Display information about new training data\n",
    "train.info()"
   ]
  },
  {
   "cell_type": "code",
   "execution_count": 16,
   "metadata": {
    "execution": {
     "iopub.execute_input": "2022-06-19T10:53:25.764563Z",
     "iopub.status.busy": "2022-06-19T10:53:25.763829Z",
     "iopub.status.idle": "2022-06-19T10:53:25.768274Z",
     "shell.execute_reply": "2022-06-19T10:53:25.768772Z",
     "shell.execute_reply.started": "2022-06-19T10:46:03.376841Z"
    },
    "papermill": {
     "duration": 0.058955,
     "end_time": "2022-06-19T10:53:25.768925",
     "exception": false,
     "start_time": "2022-06-19T10:53:25.709970",
     "status": "completed"
    },
    "tags": []
   },
   "outputs": [
    {
     "name": "stdout",
     "output_type": "stream",
     "text": [
      "<class 'pandas.core.frame.DataFrame'>\n",
      "Int64Index: 29 entries, 7 to 101\n",
      "Data columns (total 2 columns):\n",
      " #   Column  Non-Null Count  Dtype  \n",
      "---  ------  --------------  -----  \n",
      " 0   1       29 non-null     float64\n",
      " 1   2       29 non-null     float64\n",
      "dtypes: float64(2)\n",
      "memory usage: 696.0 bytes\n"
     ]
    }
   ],
   "source": [
    "# Display information about validation data\n",
    "valid.info()"
   ]
  },
  {
   "cell_type": "code",
   "execution_count": 17,
   "metadata": {
    "execution": {
     "iopub.execute_input": "2022-06-19T10:53:25.953212Z",
     "iopub.status.busy": "2022-06-19T10:53:25.952421Z",
     "iopub.status.idle": "2022-06-19T10:53:25.955673Z",
     "shell.execute_reply": "2022-06-19T10:53:25.955122Z",
     "shell.execute_reply.started": "2022-06-19T10:46:03.394543Z"
    },
    "papermill": {
     "duration": 0.053238,
     "end_time": "2022-06-19T10:53:25.955814",
     "exception": false,
     "start_time": "2022-06-19T10:53:25.902576",
     "status": "completed"
    },
    "tags": []
   },
   "outputs": [],
   "source": [
    "def acc(y_true, y_pred):\n",
    "    # Calculation accuracy of prediction\n",
    "    return r2_score(y_true, y_pred)"
   ]
  },
  {
   "cell_type": "code",
   "execution_count": 18,
   "metadata": {
    "execution": {
     "iopub.execute_input": "2022-06-19T10:53:26.058949Z",
     "iopub.status.busy": "2022-06-19T10:53:26.049087Z",
     "iopub.status.idle": "2022-06-19T10:53:26.063272Z",
     "shell.execute_reply": "2022-06-19T10:53:26.063742Z",
     "shell.execute_reply.started": "2022-06-19T10:46:03.402234Z"
    },
    "papermill": {
     "duration": 0.06256,
     "end_time": "2022-06-19T10:53:26.063904",
     "exception": false,
     "start_time": "2022-06-19T10:53:26.001344",
     "status": "completed"
    },
    "tags": []
   },
   "outputs": [
    {
     "data": {
      "text/html": [
       "<div>\n",
       "<style scoped>\n",
       "    .dataframe tbody tr th:only-of-type {\n",
       "        vertical-align: middle;\n",
       "    }\n",
       "\n",
       "    .dataframe tbody tr th {\n",
       "        vertical-align: top;\n",
       "    }\n",
       "\n",
       "    .dataframe thead th {\n",
       "        text-align: right;\n",
       "    }\n",
       "</style>\n",
       "<table border=\"1\" class=\"dataframe\">\n",
       "  <thead>\n",
       "    <tr style=\"text-align: right;\">\n",
       "      <th></th>\n",
       "      <th>model</th>\n",
       "      <th>train_score</th>\n",
       "      <th>train_mse</th>\n",
       "      <th>valid_score</th>\n",
       "      <th>valid_mse</th>\n",
       "    </tr>\n",
       "  </thead>\n",
       "  <tbody>\n",
       "    <tr>\n",
       "      <th>0</th>\n",
       "      <td>NN Regressor</td>\n",
       "      <td>0</td>\n",
       "      <td>0</td>\n",
       "      <td>0</td>\n",
       "      <td>0</td>\n",
       "    </tr>\n",
       "    <tr>\n",
       "      <th>1</th>\n",
       "      <td>NN Regressor with Dropout</td>\n",
       "      <td>0</td>\n",
       "      <td>0</td>\n",
       "      <td>0</td>\n",
       "      <td>0</td>\n",
       "    </tr>\n",
       "    <tr>\n",
       "      <th>2</th>\n",
       "      <td>MLP Regressor</td>\n",
       "      <td>0</td>\n",
       "      <td>0</td>\n",
       "      <td>0</td>\n",
       "      <td>0</td>\n",
       "    </tr>\n",
       "  </tbody>\n",
       "</table>\n",
       "</div>"
      ],
      "text/plain": [
       "                       model  train_score  train_mse  valid_score  valid_mse\n",
       "0               NN Regressor            0          0            0          0\n",
       "1  NN Regressor with Dropout            0          0            0          0\n",
       "2              MLP Regressor            0          0            0          0"
      ]
     },
     "execution_count": 18,
     "metadata": {},
     "output_type": "execute_result"
    }
   ],
   "source": [
    "# Creation the dataframe with the resulting score of all models\n",
    "result = pd.DataFrame({'model' : ['NN Regressor', 'NN Regressor with Dropout', 'MLP Regressor'], \n",
    "                       'train_score': 0, 'train_mse': 0, 'valid_score': 0, 'valid_mse': 0})\n",
    "result"
   ]
  },
  {
   "cell_type": "code",
   "execution_count": 19,
   "metadata": {
    "execution": {
     "iopub.execute_input": "2022-06-19T10:53:26.425200Z",
     "iopub.status.busy": "2022-06-19T10:53:26.424149Z",
     "iopub.status.idle": "2022-06-19T10:53:26.427298Z",
     "shell.execute_reply": "2022-06-19T10:53:26.426644Z",
     "shell.execute_reply.started": "2022-06-19T10:46:03.421120Z"
    },
    "papermill": {
     "duration": 0.052009,
     "end_time": "2022-06-19T10:53:26.427423",
     "exception": false,
     "start_time": "2022-06-19T10:53:26.375414",
     "status": "completed"
    },
    "tags": []
   },
   "outputs": [],
   "source": [
    "batch_size_num = 22\n",
    "#batch_size_num = int(len(train)/5)\n",
    "#batch_size_num"
   ]
  },
  {
   "cell_type": "code",
   "execution_count": 20,
   "metadata": {
    "execution": {
     "iopub.execute_input": "2022-06-19T10:53:26.526178Z",
     "iopub.status.busy": "2022-06-19T10:53:26.525489Z",
     "iopub.status.idle": "2022-06-19T10:53:32.530469Z",
     "shell.execute_reply": "2022-06-19T10:53:32.531049Z",
     "shell.execute_reply.started": "2022-06-19T10:46:03.430912Z"
    },
    "papermill": {
     "duration": 6.058825,
     "end_time": "2022-06-19T10:53:32.531239",
     "exception": false,
     "start_time": "2022-06-19T10:53:26.472414",
     "status": "completed"
    },
    "tags": []
   },
   "outputs": [
    {
     "data": {
      "image/png": "[encoded data removed]",
      "text/plain": [
       "<Figure size 576x396 with 1 Axes>"
      ]
     },
     "metadata": {},
     "output_type": "display_data"
    },
    {
     "name": "stdout",
     "output_type": "stream",
     "text": [
      "Accuracy of NN model model training is 0.68\n",
      "CPU times: user 6.15 s, sys: 405 ms, total: 6.55 s\n",
      "Wall time: 6 s\n"
     ]
    }
   ],
   "source": [
    "%%time\n",
    "def build_nn():\n",
    "\n",
    "    # Initializing the NN with 3 layers including 2 hidden layers\n",
    "    model = Sequential()\n",
    "\n",
    "    # The first hidden layer of the NN with input data\n",
    "    model.add(Dense(units=4, activation='relu', input_shape=(len(train.columns),)))\n",
    "    \n",
    "    # The second hidden layer of the NN\n",
    "    model.add(Dense(units=3, activation='relu'))\n",
    "    \n",
    "    # The output layer\n",
    "    model.add(Dense(units=1, activation='sigmoid'))\n",
    "\n",
    "    # Compiling the NN\n",
    "    model.compile(loss='mse', optimizer='adam', metrics=['mse'])\n",
    "\n",
    "    learning_rate_reduction = ReduceLROnPlateau(monitor='val_mse', \n",
    "                                    patience=5, \n",
    "                                    verbose=1, \n",
    "                                    factor=0.5, \n",
    "                                    min_lr=0.0001)\n",
    "    return model\n",
    "\n",
    "nn_model = build_nn()\n",
    "nn_model.fit(train, target_train, batch_size=batch_size_num, epochs=200, validation_data=(valid, target_valid), verbose=0)\n",
    "\n",
    "# Drawing metrics plot\n",
    "plt.plot(nn_model.history.history['mse'])\n",
    "plt.title('Metrics of NN model')\n",
    "plt.xlabel('Epochs')\n",
    "plt.ylabel('Metrics \"Mean Square Error\"') \n",
    "plt.show()\n",
    "\n",
    "# Prediction for training data\n",
    "y_train_nn = nn_model.predict(train)\n",
    "\n",
    "# Accuracy of model\n",
    "acc_pred = round(acc(target_train, y_train_nn), 2)\n",
    "print(f'Accuracy of NN model model training is {acc_pred}')\n",
    "\n",
    "# Save to result DataFrame\n",
    "result.loc[result['model'] == 'NN Regressor', 'train_score'] = acc_pred\n",
    "result.loc[result['model'] == 'NN Regressor', 'train_mse'] = mse(target_train, y_train_nn)"
   ]
  },
  {
   "cell_type": "code",
   "execution_count": 21,
   "metadata": {
    "execution": {
     "iopub.execute_input": "2022-06-19T10:53:32.629570Z",
     "iopub.status.busy": "2022-06-19T10:53:32.628456Z",
     "iopub.status.idle": "2022-06-19T10:53:32.635553Z",
     "shell.execute_reply": "2022-06-19T10:53:32.636921Z",
     "shell.execute_reply.started": "2022-06-19T10:46:08.528140Z"
    },
    "papermill": {
     "duration": 0.059417,
     "end_time": "2022-06-19T10:53:32.637119",
     "exception": false,
     "start_time": "2022-06-19T10:53:32.577702",
     "status": "completed"
    },
    "tags": []
   },
   "outputs": [
    {
     "name": "stdout",
     "output_type": "stream",
     "text": [
      "Model: \"sequential\"\n",
      "_________________________________________________________________\n",
      "Layer (type)                 Output Shape              Param #   \n",
      "=================================================================\n",
      "dense (Dense)                (None, 4)                 12        \n",
      "_________________________________________________________________\n",
      "dense_1 (Dense)              (None, 3)                 15        \n",
      "_________________________________________________________________\n",
      "dense_2 (Dense)              (None, 1)                 4         \n",
      "=================================================================\n",
      "Total params: 31\n",
      "Trainable params: 31\n",
      "Non-trainable params: 0\n",
      "_________________________________________________________________\n"
     ]
    }
   ],
   "source": [
    "# NN structure and parameters\n",
    "nn_model.summary()"
   ]
  },
  {
   "cell_type": "code",
   "execution_count": 22,
   "metadata": {
    "execution": {
     "iopub.execute_input": "2022-06-19T10:53:32.739294Z",
     "iopub.status.busy": "2022-06-19T10:53:32.738546Z",
     "iopub.status.idle": "2022-06-19T10:53:32.786283Z",
     "shell.execute_reply": "2022-06-19T10:53:32.785637Z",
     "shell.execute_reply.started": "2022-06-19T10:46:08.536431Z"
    },
    "papermill": {
     "duration": 0.10221,
     "end_time": "2022-06-19T10:53:32.786409",
     "exception": false,
     "start_time": "2022-06-19T10:53:32.684199",
     "status": "completed"
    },
    "tags": []
   },
   "outputs": [
    {
     "name": "stdout",
     "output_type": "stream",
     "text": [
      "Accuracy of NN Regressor model prediction for valid dataset is 0.64\n"
     ]
    }
   ],
   "source": [
    "# Print rounded acc_pred to 2 decimal values after the text\n",
    "y_val_nn = nn_model.predict(valid)\n",
    "acc_pred_valid = round(acc(target_valid, y_val_nn),2)\n",
    "result.loc[result['model'] == 'NN Regressor', 'valid_score'] = acc_pred_valid\n",
    "result.loc[result['model'] == 'NN Regressor', 'valid_mse'] = round(mse(target_valid, y_val_nn),2)\n",
    "print(f'Accuracy of NN Regressor model prediction for valid dataset is {acc_pred_valid}')"
   ]
  },
  {
   "cell_type": "code",
   "execution_count": 23,
   "metadata": {
    "execution": {
     "iopub.execute_input": "2022-06-19T10:53:33.175975Z",
     "iopub.status.busy": "2022-06-19T10:53:33.175227Z",
     "iopub.status.idle": "2022-06-19T10:53:45.139900Z",
     "shell.execute_reply": "2022-06-19T10:53:45.139355Z",
     "shell.execute_reply.started": "2022-06-19T10:46:08.600400Z"
    },
    "papermill": {
     "duration": 12.02325,
     "end_time": "2022-06-19T10:53:45.140061",
     "exception": false,
     "start_time": "2022-06-19T10:53:33.116811",
     "status": "completed"
    },
    "tags": []
   },
   "outputs": [
    {
     "name": "stdout",
     "output_type": "stream",
     "text": [
      "Epoch 1/400\n",
      "6/6 - 0s - loss: 0.1759 - mse: 0.1759 - val_loss: 0.2553 - val_mse: 0.2553\n",
      "Epoch 2/400\n",
      "6/6 - 0s - loss: 0.1743 - mse: 0.1743 - val_loss: 0.2546 - val_mse: 0.2546\n",
      "Epoch 3/400\n",
      "6/6 - 0s - loss: 0.1745 - mse: 0.1745 - val_loss: 0.2538 - val_mse: 0.2538\n",
      "Epoch 4/400\n",
      "6/6 - 0s - loss: 0.1746 - mse: 0.1746 - val_loss: 0.2529 - val_mse: 0.2529\n",
      "Epoch 5/400\n",
      "6/6 - 0s - loss: 0.1725 - mse: 0.1725 - val_loss: 0.2524 - val_mse: 0.2524\n",
      "Epoch 6/400\n",
      "6/6 - 0s - loss: 0.1726 - mse: 0.1726 - val_loss: 0.2517 - val_mse: 0.2517\n",
      "Epoch 7/400\n",
      "6/6 - 0s - loss: 0.1736 - mse: 0.1736 - val_loss: 0.2509 - val_mse: 0.2509\n",
      "Epoch 8/400\n",
      "6/6 - 0s - loss: 0.1725 - mse: 0.1725 - val_loss: 0.2499 - val_mse: 0.2499\n",
      "Epoch 9/400\n",
      "6/6 - 0s - loss: 0.1711 - mse: 0.1711 - val_loss: 0.2490 - val_mse: 0.2490\n",
      "Epoch 10/400\n",
      "6/6 - 0s - loss: 0.1713 - mse: 0.1713 - val_loss: 0.2481 - val_mse: 0.2481\n",
      "Epoch 11/400\n",
      "6/6 - 0s - loss: 0.1747 - mse: 0.1747 - val_loss: 0.2474 - val_mse: 0.2474\n",
      "Epoch 12/400\n",
      "6/6 - 0s - loss: 0.1775 - mse: 0.1775 - val_loss: 0.2469 - val_mse: 0.2469\n",
      "Epoch 13/400\n",
      "6/6 - 0s - loss: 0.1721 - mse: 0.1721 - val_loss: 0.2462 - val_mse: 0.2462\n",
      "Epoch 14/400\n",
      "6/6 - 0s - loss: 0.1740 - mse: 0.1740 - val_loss: 0.2455 - val_mse: 0.2455\n",
      "Epoch 15/400\n",
      "6/6 - 0s - loss: 0.1734 - mse: 0.1734 - val_loss: 0.2448 - val_mse: 0.2448\n",
      "Epoch 16/400\n",
      "6/6 - 0s - loss: 0.1689 - mse: 0.1689 - val_loss: 0.2439 - val_mse: 0.2439\n",
      "Epoch 17/400\n",
      "6/6 - 0s - loss: 0.1699 - mse: 0.1699 - val_loss: 0.2429 - val_mse: 0.2429\n",
      "Epoch 18/400\n",
      "6/6 - 0s - loss: 0.1669 - mse: 0.1669 - val_loss: 0.2421 - val_mse: 0.2421\n",
      "Epoch 19/400\n",
      "6/6 - 0s - loss: 0.1688 - mse: 0.1688 - val_loss: 0.2413 - val_mse: 0.2413\n",
      "Epoch 20/400\n",
      "6/6 - 0s - loss: 0.1686 - mse: 0.1686 - val_loss: 0.2407 - val_mse: 0.2407\n",
      "Epoch 21/400\n",
      "6/6 - 0s - loss: 0.1691 - mse: 0.1691 - val_loss: 0.2399 - val_mse: 0.2399\n",
      "Epoch 22/400\n",
      "6/6 - 0s - loss: 0.1650 - mse: 0.1650 - val_loss: 0.2385 - val_mse: 0.2385\n",
      "Epoch 23/400\n",
      "6/6 - 0s - loss: 0.1662 - mse: 0.1662 - val_loss: 0.2371 - val_mse: 0.2371\n",
      "Epoch 24/400\n",
      "6/6 - 0s - loss: 0.1642 - mse: 0.1642 - val_loss: 0.2355 - val_mse: 0.2355\n",
      "Epoch 25/400\n",
      "6/6 - 0s - loss: 0.1609 - mse: 0.1609 - val_loss: 0.2337 - val_mse: 0.2337\n",
      "Epoch 26/400\n",
      "6/6 - 0s - loss: 0.1606 - mse: 0.1606 - val_loss: 0.2316 - val_mse: 0.2316\n",
      "Epoch 27/400\n",
      "6/6 - 0s - loss: 0.1600 - mse: 0.1600 - val_loss: 0.2297 - val_mse: 0.2297\n",
      "Epoch 28/400\n",
      "6/6 - 0s - loss: 0.1615 - mse: 0.1615 - val_loss: 0.2280 - val_mse: 0.2280\n",
      "Epoch 29/400\n",
      "6/6 - 0s - loss: 0.1584 - mse: 0.1584 - val_loss: 0.2262 - val_mse: 0.2262\n",
      "Epoch 30/400\n",
      "6/6 - 0s - loss: 0.1535 - mse: 0.1535 - val_loss: 0.2242 - val_mse: 0.2242\n",
      "Epoch 31/400\n",
      "6/6 - 0s - loss: 0.1603 - mse: 0.1603 - val_loss: 0.2222 - val_mse: 0.2222\n",
      "Epoch 32/400\n",
      "6/6 - 0s - loss: 0.1600 - mse: 0.1600 - val_loss: 0.2203 - val_mse: 0.2203\n",
      "Epoch 33/400\n",
      "6/6 - 0s - loss: 0.1497 - mse: 0.1497 - val_loss: 0.2185 - val_mse: 0.2185\n",
      "Epoch 34/400\n",
      "6/6 - 0s - loss: 0.1491 - mse: 0.1491 - val_loss: 0.2166 - val_mse: 0.2166\n",
      "Epoch 35/400\n",
      "6/6 - 0s - loss: 0.1548 - mse: 0.1548 - val_loss: 0.2147 - val_mse: 0.2147\n",
      "Epoch 36/400\n",
      "6/6 - 0s - loss: 0.1521 - mse: 0.1521 - val_loss: 0.2129 - val_mse: 0.2129\n",
      "Epoch 37/400\n",
      "6/6 - 0s - loss: 0.1462 - mse: 0.1462 - val_loss: 0.2111 - val_mse: 0.2111\n",
      "Epoch 38/400\n",
      "6/6 - 0s - loss: 0.1464 - mse: 0.1464 - val_loss: 0.2092 - val_mse: 0.2092\n",
      "Epoch 39/400\n",
      "6/6 - 0s - loss: 0.1479 - mse: 0.1479 - val_loss: 0.2073 - val_mse: 0.2073\n",
      "Epoch 40/400\n",
      "6/6 - 0s - loss: 0.1465 - mse: 0.1465 - val_loss: 0.2052 - val_mse: 0.2052\n",
      "Epoch 41/400\n",
      "6/6 - 0s - loss: 0.1439 - mse: 0.1439 - val_loss: 0.2032 - val_mse: 0.2032\n",
      "Epoch 42/400\n",
      "6/6 - 0s - loss: 0.1449 - mse: 0.1449 - val_loss: 0.2012 - val_mse: 0.2012\n",
      "Epoch 43/400\n",
      "6/6 - 0s - loss: 0.1392 - mse: 0.1392 - val_loss: 0.1993 - val_mse: 0.1993\n",
      "Epoch 44/400\n",
      "6/6 - 0s - loss: 0.1307 - mse: 0.1307 - val_loss: 0.1972 - val_mse: 0.1972\n",
      "Epoch 45/400\n",
      "6/6 - 0s - loss: 0.1453 - mse: 0.1453 - val_loss: 0.1952 - val_mse: 0.1952\n",
      "Epoch 46/400\n",
      "6/6 - 0s - loss: 0.1413 - mse: 0.1413 - val_loss: 0.1938 - val_mse: 0.1938\n",
      "Epoch 47/400\n",
      "6/6 - 0s - loss: 0.1374 - mse: 0.1374 - val_loss: 0.1920 - val_mse: 0.1920\n",
      "Epoch 48/400\n",
      "6/6 - 0s - loss: 0.1245 - mse: 0.1245 - val_loss: 0.1898 - val_mse: 0.1898\n",
      "Epoch 49/400\n",
      "6/6 - 0s - loss: 0.1245 - mse: 0.1245 - val_loss: 0.1877 - val_mse: 0.1877\n",
      "Epoch 50/400\n",
      "6/6 - 0s - loss: 0.1328 - mse: 0.1328 - val_loss: 0.1854 - val_mse: 0.1854\n",
      "Epoch 51/400\n",
      "6/6 - 0s - loss: 0.1238 - mse: 0.1238 - val_loss: 0.1830 - val_mse: 0.1830\n",
      "Epoch 52/400\n",
      "6/6 - 0s - loss: 0.1278 - mse: 0.1278 - val_loss: 0.1807 - val_mse: 0.1807\n",
      "Epoch 53/400\n",
      "6/6 - 0s - loss: 0.1365 - mse: 0.1365 - val_loss: 0.1787 - val_mse: 0.1787\n",
      "Epoch 54/400\n",
      "6/6 - 0s - loss: 0.1339 - mse: 0.1339 - val_loss: 0.1763 - val_mse: 0.1763\n",
      "Epoch 55/400\n",
      "6/6 - 0s - loss: 0.1158 - mse: 0.1158 - val_loss: 0.1738 - val_mse: 0.1738\n",
      "Epoch 56/400\n",
      "6/6 - 0s - loss: 0.1209 - mse: 0.1209 - val_loss: 0.1717 - val_mse: 0.1717\n",
      "Epoch 57/400\n",
      "6/6 - 0s - loss: 0.1262 - mse: 0.1262 - val_loss: 0.1696 - val_mse: 0.1696\n",
      "Epoch 58/400\n",
      "6/6 - 0s - loss: 0.1207 - mse: 0.1207 - val_loss: 0.1673 - val_mse: 0.1673\n",
      "Epoch 59/400\n",
      "6/6 - 0s - loss: 0.1173 - mse: 0.1173 - val_loss: 0.1654 - val_mse: 0.1654\n",
      "Epoch 60/400\n",
      "6/6 - 0s - loss: 0.1136 - mse: 0.1136 - val_loss: 0.1639 - val_mse: 0.1639\n",
      "Epoch 61/400\n",
      "6/6 - 0s - loss: 0.1073 - mse: 0.1073 - val_loss: 0.1620 - val_mse: 0.1620\n",
      "Epoch 62/400\n",
      "6/6 - 0s - loss: 0.1304 - mse: 0.1304 - val_loss: 0.1604 - val_mse: 0.1604\n",
      "Epoch 63/400\n",
      "6/6 - 0s - loss: 0.1164 - mse: 0.1164 - val_loss: 0.1590 - val_mse: 0.1590\n",
      "Epoch 64/400\n",
      "6/6 - 0s - loss: 0.1157 - mse: 0.1157 - val_loss: 0.1575 - val_mse: 0.1575\n",
      "Epoch 65/400\n",
      "6/6 - 0s - loss: 0.1020 - mse: 0.1020 - val_loss: 0.1560 - val_mse: 0.1560\n",
      "Epoch 66/400\n",
      "6/6 - 0s - loss: 0.1226 - mse: 0.1226 - val_loss: 0.1547 - val_mse: 0.1547\n",
      "Epoch 67/400\n",
      "6/6 - 0s - loss: 0.0958 - mse: 0.0958 - val_loss: 0.1530 - val_mse: 0.1530\n",
      "Epoch 68/400\n",
      "6/6 - 0s - loss: 0.0977 - mse: 0.0977 - val_loss: 0.1512 - val_mse: 0.1512\n",
      "Epoch 69/400\n",
      "6/6 - 0s - loss: 0.1021 - mse: 0.1021 - val_loss: 0.1494 - val_mse: 0.1494\n",
      "Epoch 70/400\n",
      "6/6 - 0s - loss: 0.1095 - mse: 0.1095 - val_loss: 0.1473 - val_mse: 0.1473\n",
      "Epoch 71/400\n",
      "6/6 - 0s - loss: 0.1052 - mse: 0.1052 - val_loss: 0.1453 - val_mse: 0.1453\n",
      "Epoch 72/400\n",
      "6/6 - 0s - loss: 0.0918 - mse: 0.0918 - val_loss: 0.1431 - val_mse: 0.1431\n",
      "Epoch 73/400\n",
      "6/6 - 0s - loss: 0.0995 - mse: 0.0995 - val_loss: 0.1416 - val_mse: 0.1416\n",
      "Epoch 74/400\n",
      "6/6 - 0s - loss: 0.0904 - mse: 0.0904 - val_loss: 0.1402 - val_mse: 0.1402\n",
      "Epoch 75/400\n",
      "6/6 - 0s - loss: 0.0966 - mse: 0.0966 - val_loss: 0.1384 - val_mse: 0.1384\n",
      "Epoch 76/400\n",
      "6/6 - 0s - loss: 0.1104 - mse: 0.1104 - val_loss: 0.1369 - val_mse: 0.1369\n",
      "Epoch 77/400\n",
      "6/6 - 0s - loss: 0.1015 - mse: 0.1015 - val_loss: 0.1356 - val_mse: 0.1356\n",
      "Epoch 78/400\n",
      "6/6 - 0s - loss: 0.1158 - mse: 0.1158 - val_loss: 0.1343 - val_mse: 0.1343\n",
      "Epoch 79/400\n",
      "6/6 - 0s - loss: 0.0878 - mse: 0.0878 - val_loss: 0.1331 - val_mse: 0.1331\n",
      "Epoch 80/400\n",
      "6/6 - 0s - loss: 0.1059 - mse: 0.1059 - val_loss: 0.1319 - val_mse: 0.1319\n",
      "Epoch 81/400\n",
      "6/6 - 0s - loss: 0.1119 - mse: 0.1119 - val_loss: 0.1308 - val_mse: 0.1308\n",
      "Epoch 82/400\n",
      "6/6 - 0s - loss: 0.1129 - mse: 0.1129 - val_loss: 0.1297 - val_mse: 0.1297\n",
      "Epoch 83/400\n",
      "6/6 - 0s - loss: 0.1101 - mse: 0.1101 - val_loss: 0.1287 - val_mse: 0.1287\n",
      "Epoch 84/400\n",
      "6/6 - 0s - loss: 0.0865 - mse: 0.0865 - val_loss: 0.1280 - val_mse: 0.1280\n",
      "Epoch 85/400\n",
      "6/6 - 0s - loss: 0.1021 - mse: 0.1021 - val_loss: 0.1269 - val_mse: 0.1269\n",
      "Epoch 86/400\n",
      "6/6 - 0s - loss: 0.1066 - mse: 0.1066 - val_loss: 0.1260 - val_mse: 0.1260\n",
      "Epoch 87/400\n",
      "6/6 - 0s - loss: 0.1074 - mse: 0.1074 - val_loss: 0.1252 - val_mse: 0.1252\n",
      "Epoch 88/400\n",
      "6/6 - 0s - loss: 0.1142 - mse: 0.1142 - val_loss: 0.1247 - val_mse: 0.1247\n",
      "Epoch 89/400\n",
      "6/6 - 0s - loss: 0.0958 - mse: 0.0958 - val_loss: 0.1242 - val_mse: 0.1242\n",
      "Epoch 90/400\n",
      "6/6 - 0s - loss: 0.0957 - mse: 0.0957 - val_loss: 0.1234 - val_mse: 0.1234\n",
      "Epoch 91/400\n",
      "6/6 - 0s - loss: 0.0886 - mse: 0.0886 - val_loss: 0.1231 - val_mse: 0.1231\n",
      "Epoch 92/400\n",
      "6/6 - 0s - loss: 0.0939 - mse: 0.0939 - val_loss: 0.1223 - val_mse: 0.1223\n",
      "Epoch 93/400\n",
      "6/6 - 0s - loss: 0.1048 - mse: 0.1048 - val_loss: 0.1216 - val_mse: 0.1216\n",
      "Epoch 94/400\n",
      "6/6 - 0s - loss: 0.0933 - mse: 0.0933 - val_loss: 0.1208 - val_mse: 0.1208\n",
      "Epoch 95/400\n",
      "6/6 - 0s - loss: 0.1003 - mse: 0.1003 - val_loss: 0.1199 - val_mse: 0.1199\n",
      "Epoch 96/400\n",
      "6/6 - 0s - loss: 0.0851 - mse: 0.0851 - val_loss: 0.1187 - val_mse: 0.1187\n",
      "Epoch 97/400\n",
      "6/6 - 0s - loss: 0.0892 - mse: 0.0892 - val_loss: 0.1177 - val_mse: 0.1177\n",
      "Epoch 98/400\n",
      "6/6 - 0s - loss: 0.0971 - mse: 0.0971 - val_loss: 0.1166 - val_mse: 0.1166\n",
      "Epoch 99/400\n",
      "6/6 - 0s - loss: 0.0982 - mse: 0.0982 - val_loss: 0.1158 - val_mse: 0.1158\n",
      "Epoch 100/400\n",
      "6/6 - 0s - loss: 0.0834 - mse: 0.0834 - val_loss: 0.1153 - val_mse: 0.1153\n",
      "Epoch 101/400\n",
      "6/6 - 0s - loss: 0.0896 - mse: 0.0896 - val_loss: 0.1148 - val_mse: 0.1148\n",
      "Epoch 102/400\n",
      "6/6 - 0s - loss: 0.1012 - mse: 0.1012 - val_loss: 0.1144 - val_mse: 0.1144\n",
      "Epoch 103/400\n",
      "6/6 - 0s - loss: 0.0906 - mse: 0.0906 - val_loss: 0.1142 - val_mse: 0.1142\n",
      "Epoch 104/400\n",
      "6/6 - 0s - loss: 0.0790 - mse: 0.0790 - val_loss: 0.1136 - val_mse: 0.1136\n",
      "Epoch 105/400\n",
      "6/6 - 0s - loss: 0.0963 - mse: 0.0963 - val_loss: 0.1127 - val_mse: 0.1127\n",
      "Epoch 106/400\n",
      "6/6 - 0s - loss: 0.0715 - mse: 0.0715 - val_loss: 0.1123 - val_mse: 0.1123\n",
      "Epoch 107/400\n",
      "6/6 - 0s - loss: 0.0818 - mse: 0.0818 - val_loss: 0.1116 - val_mse: 0.1116\n",
      "Epoch 108/400\n",
      "6/6 - 0s - loss: 0.0921 - mse: 0.0921 - val_loss: 0.1105 - val_mse: 0.1105\n",
      "Epoch 109/400\n",
      "6/6 - 0s - loss: 0.1042 - mse: 0.1042 - val_loss: 0.1100 - val_mse: 0.1100\n",
      "Epoch 110/400\n",
      "6/6 - 0s - loss: 0.0861 - mse: 0.0861 - val_loss: 0.1097 - val_mse: 0.1097\n",
      "Epoch 111/400\n",
      "6/6 - 0s - loss: 0.0658 - mse: 0.0658 - val_loss: 0.1092 - val_mse: 0.1092\n",
      "Epoch 112/400\n",
      "6/6 - 0s - loss: 0.0968 - mse: 0.0968 - val_loss: 0.1088 - val_mse: 0.1088\n",
      "Epoch 113/400\n",
      "6/6 - 0s - loss: 0.1085 - mse: 0.1085 - val_loss: 0.1087 - val_mse: 0.1087\n",
      "Epoch 114/400\n",
      "6/6 - 0s - loss: 0.0967 - mse: 0.0967 - val_loss: 0.1084 - val_mse: 0.1084\n",
      "Epoch 115/400\n",
      "6/6 - 0s - loss: 0.0725 - mse: 0.0725 - val_loss: 0.1079 - val_mse: 0.1079\n",
      "Epoch 116/400\n",
      "6/6 - 0s - loss: 0.0914 - mse: 0.0914 - val_loss: 0.1075 - val_mse: 0.1075\n",
      "Epoch 117/400\n",
      "6/6 - 0s - loss: 0.0893 - mse: 0.0893 - val_loss: 0.1072 - val_mse: 0.1072\n",
      "Epoch 118/400\n",
      "6/6 - 0s - loss: 0.0840 - mse: 0.0840 - val_loss: 0.1068 - val_mse: 0.1068\n",
      "Epoch 119/400\n",
      "6/6 - 0s - loss: 0.1138 - mse: 0.1138 - val_loss: 0.1066 - val_mse: 0.1066\n",
      "Epoch 120/400\n",
      "6/6 - 0s - loss: 0.0943 - mse: 0.0943 - val_loss: 0.1063 - val_mse: 0.1063\n",
      "Epoch 121/400\n",
      "6/6 - 0s - loss: 0.0860 - mse: 0.0860 - val_loss: 0.1060 - val_mse: 0.1060\n",
      "Epoch 122/400\n",
      "6/6 - 0s - loss: 0.0929 - mse: 0.0929 - val_loss: 0.1058 - val_mse: 0.1058\n",
      "Epoch 123/400\n",
      "6/6 - 0s - loss: 0.0684 - mse: 0.0684 - val_loss: 0.1055 - val_mse: 0.1055\n",
      "Epoch 124/400\n",
      "6/6 - 0s - loss: 0.0798 - mse: 0.0798 - val_loss: 0.1050 - val_mse: 0.1050\n",
      "Epoch 125/400\n",
      "6/6 - 0s - loss: 0.1061 - mse: 0.1061 - val_loss: 0.1047 - val_mse: 0.1047\n",
      "Epoch 126/400\n",
      "6/6 - 0s - loss: 0.0862 - mse: 0.0862 - val_loss: 0.1044 - val_mse: 0.1044\n",
      "Epoch 127/400\n",
      "6/6 - 0s - loss: 0.0814 - mse: 0.0814 - val_loss: 0.1041 - val_mse: 0.1041\n",
      "Epoch 128/400\n",
      "6/6 - 0s - loss: 0.0747 - mse: 0.0747 - val_loss: 0.1033 - val_mse: 0.1033\n",
      "Epoch 129/400\n",
      "6/6 - 0s - loss: 0.0776 - mse: 0.0776 - val_loss: 0.1026 - val_mse: 0.1026\n",
      "Epoch 130/400\n",
      "6/6 - 0s - loss: 0.0880 - mse: 0.0880 - val_loss: 0.1020 - val_mse: 0.1020\n",
      "Epoch 131/400\n",
      "6/6 - 0s - loss: 0.0957 - mse: 0.0957 - val_loss: 0.1016 - val_mse: 0.1016\n",
      "Epoch 132/400\n",
      "6/6 - 0s - loss: 0.0770 - mse: 0.0770 - val_loss: 0.1010 - val_mse: 0.1010\n",
      "Epoch 133/400\n",
      "6/6 - 0s - loss: 0.0965 - mse: 0.0965 - val_loss: 0.1005 - val_mse: 0.1005\n",
      "Epoch 134/400\n",
      "6/6 - 0s - loss: 0.1009 - mse: 0.1009 - val_loss: 0.1002 - val_mse: 0.1002\n",
      "Epoch 135/400\n",
      "6/6 - 0s - loss: 0.0848 - mse: 0.0848 - val_loss: 0.1002 - val_mse: 0.1002\n",
      "Epoch 136/400\n",
      "6/6 - 0s - loss: 0.0865 - mse: 0.0865 - val_loss: 0.1000 - val_mse: 0.1000\n",
      "Epoch 137/400\n",
      "6/6 - 0s - loss: 0.0824 - mse: 0.0824 - val_loss: 0.0995 - val_mse: 0.0995\n",
      "Epoch 138/400\n",
      "6/6 - 0s - loss: 0.0903 - mse: 0.0903 - val_loss: 0.0993 - val_mse: 0.0993\n",
      "Epoch 139/400\n",
      "6/6 - 0s - loss: 0.0746 - mse: 0.0746 - val_loss: 0.0990 - val_mse: 0.0990\n",
      "Epoch 140/400\n",
      "6/6 - 0s - loss: 0.0692 - mse: 0.0692 - val_loss: 0.0987 - val_mse: 0.0987\n",
      "Epoch 141/400\n",
      "6/6 - 0s - loss: 0.0868 - mse: 0.0868 - val_loss: 0.0986 - val_mse: 0.0986\n",
      "Epoch 142/400\n",
      "6/6 - 0s - loss: 0.0784 - mse: 0.0784 - val_loss: 0.0989 - val_mse: 0.0989\n",
      "Epoch 143/400\n",
      "6/6 - 0s - loss: 0.0966 - mse: 0.0966 - val_loss: 0.0990 - val_mse: 0.0990\n",
      "Epoch 144/400\n",
      "6/6 - 0s - loss: 0.0936 - mse: 0.0936 - val_loss: 0.0989 - val_mse: 0.0989\n",
      "Epoch 145/400\n",
      "6/6 - 0s - loss: 0.0825 - mse: 0.0825 - val_loss: 0.0988 - val_mse: 0.0988\n",
      "Epoch 146/400\n",
      "6/6 - 0s - loss: 0.0944 - mse: 0.0944 - val_loss: 0.0990 - val_mse: 0.0990\n",
      "Epoch 147/400\n",
      "6/6 - 0s - loss: 0.0860 - mse: 0.0860 - val_loss: 0.0990 - val_mse: 0.0990\n",
      "Epoch 148/400\n",
      "6/6 - 0s - loss: 0.0809 - mse: 0.0809 - val_loss: 0.0987 - val_mse: 0.0987\n",
      "Epoch 149/400\n",
      "6/6 - 0s - loss: 0.0685 - mse: 0.0685 - val_loss: 0.0985 - val_mse: 0.0985\n",
      "Epoch 150/400\n",
      "6/6 - 0s - loss: 0.0886 - mse: 0.0886 - val_loss: 0.0984 - val_mse: 0.0984\n",
      "Epoch 151/400\n",
      "6/6 - 0s - loss: 0.0822 - mse: 0.0822 - val_loss: 0.0981 - val_mse: 0.0981\n",
      "Epoch 152/400\n",
      "6/6 - 0s - loss: 0.0780 - mse: 0.0780 - val_loss: 0.0982 - val_mse: 0.0982\n",
      "Epoch 153/400\n",
      "6/6 - 0s - loss: 0.0731 - mse: 0.0731 - val_loss: 0.0983 - val_mse: 0.0983\n",
      "Epoch 154/400\n",
      "6/6 - 0s - loss: 0.0815 - mse: 0.0815 - val_loss: 0.0978 - val_mse: 0.0978\n",
      "Epoch 155/400\n",
      "6/6 - 0s - loss: 0.0954 - mse: 0.0954 - val_loss: 0.0975 - val_mse: 0.0975\n",
      "Epoch 156/400\n",
      "6/6 - 0s - loss: 0.0837 - mse: 0.0837 - val_loss: 0.0972 - val_mse: 0.0972\n",
      "Epoch 157/400\n",
      "6/6 - 0s - loss: 0.0708 - mse: 0.0708 - val_loss: 0.0968 - val_mse: 0.0968\n",
      "Epoch 158/400\n",
      "6/6 - 0s - loss: 0.0787 - mse: 0.0787 - val_loss: 0.0964 - val_mse: 0.0964\n",
      "Epoch 159/400\n",
      "6/6 - 0s - loss: 0.0657 - mse: 0.0657 - val_loss: 0.0962 - val_mse: 0.0962\n",
      "Epoch 160/400\n",
      "6/6 - 0s - loss: 0.0974 - mse: 0.0974 - val_loss: 0.0961 - val_mse: 0.0961\n",
      "Epoch 161/400\n",
      "6/6 - 0s - loss: 0.0717 - mse: 0.0717 - val_loss: 0.0959 - val_mse: 0.0959\n",
      "Epoch 162/400\n",
      "6/6 - 0s - loss: 0.0870 - mse: 0.0870 - val_loss: 0.0958 - val_mse: 0.0958\n",
      "Epoch 163/400\n",
      "6/6 - 0s - loss: 0.0709 - mse: 0.0709 - val_loss: 0.0954 - val_mse: 0.0954\n",
      "Epoch 164/400\n",
      "6/6 - 0s - loss: 0.0912 - mse: 0.0912 - val_loss: 0.0952 - val_mse: 0.0952\n",
      "Epoch 165/400\n",
      "6/6 - 0s - loss: 0.0793 - mse: 0.0793 - val_loss: 0.0951 - val_mse: 0.0951\n",
      "Epoch 166/400\n",
      "6/6 - 0s - loss: 0.0946 - mse: 0.0946 - val_loss: 0.0949 - val_mse: 0.0949\n",
      "Epoch 167/400\n",
      "6/6 - 0s - loss: 0.0889 - mse: 0.0889 - val_loss: 0.0949 - val_mse: 0.0949\n",
      "Epoch 168/400\n",
      "6/6 - 0s - loss: 0.0878 - mse: 0.0878 - val_loss: 0.0950 - val_mse: 0.0950\n",
      "Epoch 169/400\n",
      "6/6 - 0s - loss: 0.0965 - mse: 0.0965 - val_loss: 0.0948 - val_mse: 0.0948\n",
      "Epoch 170/400\n",
      "6/6 - 0s - loss: 0.0821 - mse: 0.0821 - val_loss: 0.0946 - val_mse: 0.0946\n",
      "Epoch 171/400\n",
      "6/6 - 0s - loss: 0.0799 - mse: 0.0799 - val_loss: 0.0945 - val_mse: 0.0945\n",
      "Epoch 172/400\n",
      "6/6 - 0s - loss: 0.0879 - mse: 0.0879 - val_loss: 0.0945 - val_mse: 0.0945\n",
      "Epoch 173/400\n",
      "6/6 - 0s - loss: 0.0959 - mse: 0.0959 - val_loss: 0.0945 - val_mse: 0.0945\n",
      "Epoch 174/400\n",
      "6/6 - 0s - loss: 0.0819 - mse: 0.0819 - val_loss: 0.0941 - val_mse: 0.0941\n",
      "Epoch 175/400\n",
      "6/6 - 0s - loss: 0.0903 - mse: 0.0903 - val_loss: 0.0938 - val_mse: 0.0938\n",
      "Epoch 176/400\n",
      "6/6 - 0s - loss: 0.0695 - mse: 0.0695 - val_loss: 0.0936 - val_mse: 0.0936\n",
      "Epoch 177/400\n",
      "6/6 - 0s - loss: 0.1023 - mse: 0.1023 - val_loss: 0.0936 - val_mse: 0.0936\n",
      "Epoch 178/400\n",
      "6/6 - 0s - loss: 0.0844 - mse: 0.0844 - val_loss: 0.0936 - val_mse: 0.0936\n",
      "Epoch 179/400\n",
      "6/6 - 0s - loss: 0.0949 - mse: 0.0949 - val_loss: 0.0935 - val_mse: 0.0935\n",
      "Epoch 180/400\n",
      "6/6 - 0s - loss: 0.0861 - mse: 0.0861 - val_loss: 0.0935 - val_mse: 0.0935\n",
      "Epoch 181/400\n",
      "6/6 - 0s - loss: 0.0954 - mse: 0.0954 - val_loss: 0.0936 - val_mse: 0.0936\n",
      "Epoch 182/400\n",
      "6/6 - 0s - loss: 0.0928 - mse: 0.0928 - val_loss: 0.0938 - val_mse: 0.0938\n",
      "Epoch 183/400\n",
      "6/6 - 0s - loss: 0.0843 - mse: 0.0843 - val_loss: 0.0938 - val_mse: 0.0938\n",
      "Epoch 184/400\n",
      "6/6 - 0s - loss: 0.0936 - mse: 0.0936 - val_loss: 0.0939 - val_mse: 0.0939\n",
      "Epoch 185/400\n",
      "6/6 - 0s - loss: 0.0889 - mse: 0.0889 - val_loss: 0.0939 - val_mse: 0.0939\n",
      "Epoch 186/400\n",
      "6/6 - 0s - loss: 0.0928 - mse: 0.0928 - val_loss: 0.0939 - val_mse: 0.0939\n",
      "Epoch 187/400\n",
      "6/6 - 0s - loss: 0.0771 - mse: 0.0771 - val_loss: 0.0940 - val_mse: 0.0940\n",
      "Epoch 188/400\n",
      "6/6 - 0s - loss: 0.0891 - mse: 0.0891 - val_loss: 0.0942 - val_mse: 0.0942\n",
      "Epoch 189/400\n",
      "6/6 - 0s - loss: 0.0938 - mse: 0.0938 - val_loss: 0.0942 - val_mse: 0.0942\n",
      "Epoch 190/400\n",
      "6/6 - 0s - loss: 0.0793 - mse: 0.0793 - val_loss: 0.0939 - val_mse: 0.0939\n",
      "Epoch 191/400\n",
      "6/6 - 0s - loss: 0.0864 - mse: 0.0864 - val_loss: 0.0939 - val_mse: 0.0939\n",
      "Epoch 192/400\n",
      "6/6 - 0s - loss: 0.0749 - mse: 0.0749 - val_loss: 0.0937 - val_mse: 0.0937\n",
      "Epoch 193/400\n",
      "6/6 - 0s - loss: 0.0777 - mse: 0.0777 - val_loss: 0.0937 - val_mse: 0.0937\n",
      "Epoch 194/400\n",
      "6/6 - 0s - loss: 0.0821 - mse: 0.0821 - val_loss: 0.0938 - val_mse: 0.0938\n",
      "Epoch 195/400\n",
      "6/6 - 0s - loss: 0.0942 - mse: 0.0942 - val_loss: 0.0940 - val_mse: 0.0940\n",
      "Epoch 196/400\n",
      "6/6 - 0s - loss: 0.0929 - mse: 0.0929 - val_loss: 0.0942 - val_mse: 0.0942\n",
      "Epoch 197/400\n",
      "6/6 - 0s - loss: 0.0854 - mse: 0.0854 - val_loss: 0.0943 - val_mse: 0.0943\n",
      "Epoch 198/400\n",
      "6/6 - 0s - loss: 0.1078 - mse: 0.1078 - val_loss: 0.0943 - val_mse: 0.0943\n",
      "Epoch 199/400\n",
      "6/6 - 0s - loss: 0.0661 - mse: 0.0661 - val_loss: 0.0944 - val_mse: 0.0944\n",
      "Epoch 200/400\n",
      "6/6 - 0s - loss: 0.0878 - mse: 0.0878 - val_loss: 0.0945 - val_mse: 0.0945\n",
      "Epoch 201/400\n",
      "6/6 - 0s - loss: 0.0882 - mse: 0.0882 - val_loss: 0.0947 - val_mse: 0.0947\n",
      "Epoch 202/400\n",
      "6/6 - 0s - loss: 0.0742 - mse: 0.0742 - val_loss: 0.0950 - val_mse: 0.0950\n",
      "Epoch 203/400\n",
      "6/6 - 0s - loss: 0.0661 - mse: 0.0661 - val_loss: 0.0952 - val_mse: 0.0952\n",
      "Epoch 204/400\n",
      "6/6 - 0s - loss: 0.0821 - mse: 0.0821 - val_loss: 0.0959 - val_mse: 0.0959\n",
      "Epoch 205/400\n",
      "6/6 - 0s - loss: 0.0700 - mse: 0.0700 - val_loss: 0.0963 - val_mse: 0.0963\n",
      "Epoch 206/400\n",
      "6/6 - 0s - loss: 0.0672 - mse: 0.0672 - val_loss: 0.0961 - val_mse: 0.0961\n",
      "Epoch 207/400\n",
      "6/6 - 0s - loss: 0.0895 - mse: 0.0895 - val_loss: 0.0959 - val_mse: 0.0959\n",
      "Epoch 208/400\n",
      "6/6 - 0s - loss: 0.0818 - mse: 0.0818 - val_loss: 0.0956 - val_mse: 0.0956\n",
      "Epoch 209/400\n",
      "6/6 - 0s - loss: 0.0952 - mse: 0.0952 - val_loss: 0.0953 - val_mse: 0.0953\n",
      "Epoch 210/400\n",
      "6/6 - 0s - loss: 0.0942 - mse: 0.0942 - val_loss: 0.0945 - val_mse: 0.0945\n",
      "Epoch 211/400\n",
      "6/6 - 0s - loss: 0.0884 - mse: 0.0884 - val_loss: 0.0940 - val_mse: 0.0940\n",
      "Epoch 212/400\n",
      "6/6 - 0s - loss: 0.0834 - mse: 0.0834 - val_loss: 0.0935 - val_mse: 0.0935\n",
      "Epoch 213/400\n",
      "6/6 - 0s - loss: 0.0859 - mse: 0.0859 - val_loss: 0.0935 - val_mse: 0.0935\n",
      "Epoch 214/400\n",
      "6/6 - 0s - loss: 0.0719 - mse: 0.0719 - val_loss: 0.0934 - val_mse: 0.0934\n",
      "Epoch 215/400\n",
      "6/6 - 0s - loss: 0.0750 - mse: 0.0750 - val_loss: 0.0933 - val_mse: 0.0933\n",
      "Epoch 216/400\n",
      "6/6 - 0s - loss: 0.0739 - mse: 0.0739 - val_loss: 0.0932 - val_mse: 0.0932\n",
      "Epoch 217/400\n",
      "6/6 - 0s - loss: 0.0850 - mse: 0.0850 - val_loss: 0.0930 - val_mse: 0.0930\n",
      "Epoch 218/400\n",
      "6/6 - 0s - loss: 0.0861 - mse: 0.0861 - val_loss: 0.0927 - val_mse: 0.0927\n",
      "Epoch 219/400\n",
      "6/6 - 0s - loss: 0.0862 - mse: 0.0862 - val_loss: 0.0926 - val_mse: 0.0926\n",
      "Epoch 220/400\n",
      "6/6 - 0s - loss: 0.0650 - mse: 0.0650 - val_loss: 0.0924 - val_mse: 0.0924\n",
      "Epoch 221/400\n",
      "6/6 - 0s - loss: 0.0917 - mse: 0.0917 - val_loss: 0.0925 - val_mse: 0.0925\n",
      "Epoch 222/400\n",
      "6/6 - 0s - loss: 0.0770 - mse: 0.0770 - val_loss: 0.0930 - val_mse: 0.0930\n",
      "Epoch 223/400\n",
      "6/6 - 0s - loss: 0.0784 - mse: 0.0784 - val_loss: 0.0930 - val_mse: 0.0930\n",
      "Epoch 224/400\n",
      "6/6 - 0s - loss: 0.0798 - mse: 0.0798 - val_loss: 0.0928 - val_mse: 0.0928\n",
      "Epoch 225/400\n",
      "6/6 - 0s - loss: 0.0957 - mse: 0.0957 - val_loss: 0.0926 - val_mse: 0.0926\n",
      "Epoch 226/400\n",
      "6/6 - 0s - loss: 0.0793 - mse: 0.0793 - val_loss: 0.0923 - val_mse: 0.0923\n",
      "Epoch 227/400\n",
      "6/6 - 0s - loss: 0.0754 - mse: 0.0754 - val_loss: 0.0923 - val_mse: 0.0923\n",
      "Epoch 228/400\n",
      "6/6 - 0s - loss: 0.0783 - mse: 0.0783 - val_loss: 0.0922 - val_mse: 0.0922\n",
      "Epoch 229/400\n",
      "6/6 - 0s - loss: 0.0652 - mse: 0.0652 - val_loss: 0.0920 - val_mse: 0.0920\n",
      "Epoch 230/400\n",
      "6/6 - 0s - loss: 0.0920 - mse: 0.0920 - val_loss: 0.0920 - val_mse: 0.0920\n",
      "Epoch 231/400\n",
      "6/6 - 0s - loss: 0.0831 - mse: 0.0831 - val_loss: 0.0920 - val_mse: 0.0920\n",
      "Epoch 232/400\n",
      "6/6 - 0s - loss: 0.0947 - mse: 0.0947 - val_loss: 0.0918 - val_mse: 0.0918\n",
      "Epoch 233/400\n",
      "6/6 - 0s - loss: 0.0956 - mse: 0.0956 - val_loss: 0.0917 - val_mse: 0.0917\n",
      "Epoch 234/400\n",
      "6/6 - 0s - loss: 0.0848 - mse: 0.0848 - val_loss: 0.0919 - val_mse: 0.0919\n",
      "Epoch 235/400\n",
      "6/6 - 0s - loss: 0.0741 - mse: 0.0741 - val_loss: 0.0918 - val_mse: 0.0918\n",
      "Epoch 236/400\n",
      "6/6 - 0s - loss: 0.0937 - mse: 0.0937 - val_loss: 0.0915 - val_mse: 0.0915\n",
      "Epoch 237/400\n",
      "6/6 - 0s - loss: 0.0731 - mse: 0.0731 - val_loss: 0.0913 - val_mse: 0.0913\n",
      "Epoch 238/400\n",
      "6/6 - 0s - loss: 0.0829 - mse: 0.0829 - val_loss: 0.0911 - val_mse: 0.0911\n",
      "Epoch 239/400\n",
      "6/6 - 0s - loss: 0.0778 - mse: 0.0778 - val_loss: 0.0911 - val_mse: 0.0911\n",
      "Epoch 240/400\n",
      "6/6 - 0s - loss: 0.0707 - mse: 0.0707 - val_loss: 0.0909 - val_mse: 0.0909\n",
      "Epoch 241/400\n",
      "6/6 - 0s - loss: 0.0794 - mse: 0.0794 - val_loss: 0.0907 - val_mse: 0.0907\n",
      "Epoch 242/400\n",
      "6/6 - 0s - loss: 0.0803 - mse: 0.0803 - val_loss: 0.0903 - val_mse: 0.0903\n",
      "Epoch 243/400\n",
      "6/6 - 0s - loss: 0.0609 - mse: 0.0609 - val_loss: 0.0902 - val_mse: 0.0902\n",
      "Epoch 244/400\n",
      "6/6 - 0s - loss: 0.0749 - mse: 0.0749 - val_loss: 0.0901 - val_mse: 0.0901\n",
      "Epoch 245/400\n",
      "6/6 - 0s - loss: 0.0973 - mse: 0.0973 - val_loss: 0.0898 - val_mse: 0.0898\n",
      "Epoch 246/400\n",
      "6/6 - 0s - loss: 0.1019 - mse: 0.1019 - val_loss: 0.0896 - val_mse: 0.0896\n",
      "Epoch 247/400\n",
      "6/6 - 0s - loss: 0.0627 - mse: 0.0627 - val_loss: 0.0893 - val_mse: 0.0893\n",
      "Epoch 248/400\n",
      "6/6 - 0s - loss: 0.0791 - mse: 0.0791 - val_loss: 0.0893 - val_mse: 0.0893\n",
      "Epoch 249/400\n",
      "6/6 - 0s - loss: 0.0807 - mse: 0.0807 - val_loss: 0.0896 - val_mse: 0.0896\n",
      "Epoch 250/400\n",
      "6/6 - 0s - loss: 0.0876 - mse: 0.0876 - val_loss: 0.0900 - val_mse: 0.0900\n",
      "Epoch 251/400\n",
      "6/6 - 0s - loss: 0.0730 - mse: 0.0730 - val_loss: 0.0902 - val_mse: 0.0902\n",
      "Epoch 252/400\n",
      "6/6 - 0s - loss: 0.0642 - mse: 0.0642 - val_loss: 0.0903 - val_mse: 0.0903\n",
      "Epoch 253/400\n",
      "6/6 - 0s - loss: 0.0963 - mse: 0.0963 - val_loss: 0.0904 - val_mse: 0.0904\n",
      "Epoch 254/400\n",
      "6/6 - 0s - loss: 0.0779 - mse: 0.0779 - val_loss: 0.0907 - val_mse: 0.0907\n",
      "Epoch 255/400\n",
      "6/6 - 0s - loss: 0.0890 - mse: 0.0890 - val_loss: 0.0908 - val_mse: 0.0908\n",
      "Epoch 256/400\n",
      "6/6 - 0s - loss: 0.0948 - mse: 0.0948 - val_loss: 0.0907 - val_mse: 0.0907\n",
      "Epoch 257/400\n",
      "6/6 - 0s - loss: 0.0661 - mse: 0.0661 - val_loss: 0.0907 - val_mse: 0.0907\n",
      "Epoch 258/400\n",
      "6/6 - 0s - loss: 0.0765 - mse: 0.0765 - val_loss: 0.0905 - val_mse: 0.0905\n",
      "Epoch 259/400\n",
      "6/6 - 0s - loss: 0.0708 - mse: 0.0708 - val_loss: 0.0904 - val_mse: 0.0904\n",
      "Epoch 260/400\n",
      "6/6 - 0s - loss: 0.0740 - mse: 0.0740 - val_loss: 0.0903 - val_mse: 0.0903\n",
      "Epoch 261/400\n",
      "6/6 - 0s - loss: 0.0715 - mse: 0.0715 - val_loss: 0.0904 - val_mse: 0.0904\n",
      "Epoch 262/400\n",
      "6/6 - 0s - loss: 0.0815 - mse: 0.0815 - val_loss: 0.0901 - val_mse: 0.0901\n",
      "Epoch 263/400\n",
      "6/6 - 0s - loss: 0.0917 - mse: 0.0917 - val_loss: 0.0901 - val_mse: 0.0901\n",
      "Epoch 264/400\n",
      "6/6 - 0s - loss: 0.0777 - mse: 0.0777 - val_loss: 0.0901 - val_mse: 0.0901\n",
      "Epoch 265/400\n",
      "6/6 - 0s - loss: 0.0787 - mse: 0.0787 - val_loss: 0.0897 - val_mse: 0.0897\n",
      "Epoch 266/400\n",
      "6/6 - 0s - loss: 0.0647 - mse: 0.0647 - val_loss: 0.0897 - val_mse: 0.0897\n",
      "Epoch 267/400\n",
      "6/6 - 0s - loss: 0.1060 - mse: 0.1060 - val_loss: 0.0899 - val_mse: 0.0899\n",
      "Epoch 268/400\n",
      "6/6 - 0s - loss: 0.0868 - mse: 0.0868 - val_loss: 0.0902 - val_mse: 0.0902\n",
      "Epoch 269/400\n",
      "6/6 - 0s - loss: 0.0896 - mse: 0.0896 - val_loss: 0.0905 - val_mse: 0.0905\n",
      "Epoch 270/400\n",
      "6/6 - 0s - loss: 0.0675 - mse: 0.0675 - val_loss: 0.0905 - val_mse: 0.0905\n",
      "Epoch 271/400\n",
      "6/6 - 0s - loss: 0.0783 - mse: 0.0783 - val_loss: 0.0904 - val_mse: 0.0904\n",
      "Epoch 272/400\n",
      "6/6 - 0s - loss: 0.0808 - mse: 0.0808 - val_loss: 0.0906 - val_mse: 0.0906\n",
      "Epoch 273/400\n",
      "6/6 - 0s - loss: 0.0683 - mse: 0.0683 - val_loss: 0.0906 - val_mse: 0.0906\n",
      "Epoch 274/400\n",
      "6/6 - 0s - loss: 0.0882 - mse: 0.0882 - val_loss: 0.0906 - val_mse: 0.0906\n",
      "Epoch 275/400\n",
      "6/6 - 0s - loss: 0.1001 - mse: 0.1001 - val_loss: 0.0906 - val_mse: 0.0906\n",
      "Epoch 276/400\n",
      "6/6 - 0s - loss: 0.0623 - mse: 0.0623 - val_loss: 0.0905 - val_mse: 0.0905\n",
      "Epoch 277/400\n",
      "6/6 - 0s - loss: 0.0605 - mse: 0.0605 - val_loss: 0.0905 - val_mse: 0.0905\n",
      "Epoch 278/400\n",
      "6/6 - 0s - loss: 0.0959 - mse: 0.0959 - val_loss: 0.0906 - val_mse: 0.0906\n",
      "Epoch 279/400\n",
      "6/6 - 0s - loss: 0.0874 - mse: 0.0874 - val_loss: 0.0903 - val_mse: 0.0903\n",
      "Epoch 280/400\n",
      "6/6 - 0s - loss: 0.0801 - mse: 0.0801 - val_loss: 0.0896 - val_mse: 0.0896\n",
      "Epoch 281/400\n",
      "6/6 - 0s - loss: 0.0783 - mse: 0.0783 - val_loss: 0.0890 - val_mse: 0.0890\n",
      "Epoch 282/400\n",
      "6/6 - 0s - loss: 0.0861 - mse: 0.0861 - val_loss: 0.0887 - val_mse: 0.0887\n",
      "Epoch 283/400\n",
      "6/6 - 0s - loss: 0.0888 - mse: 0.0888 - val_loss: 0.0886 - val_mse: 0.0886\n",
      "Epoch 284/400\n",
      "6/6 - 0s - loss: 0.0639 - mse: 0.0639 - val_loss: 0.0885 - val_mse: 0.0885\n",
      "Epoch 285/400\n",
      "6/6 - 0s - loss: 0.0799 - mse: 0.0799 - val_loss: 0.0884 - val_mse: 0.0884\n",
      "Epoch 286/400\n",
      "6/6 - 0s - loss: 0.0758 - mse: 0.0758 - val_loss: 0.0883 - val_mse: 0.0883\n",
      "Epoch 287/400\n",
      "6/6 - 0s - loss: 0.0824 - mse: 0.0824 - val_loss: 0.0884 - val_mse: 0.0884\n",
      "Epoch 288/400\n",
      "6/6 - 0s - loss: 0.0871 - mse: 0.0871 - val_loss: 0.0886 - val_mse: 0.0886\n",
      "Epoch 289/400\n",
      "6/6 - 0s - loss: 0.0690 - mse: 0.0690 - val_loss: 0.0889 - val_mse: 0.0889\n",
      "Epoch 290/400\n",
      "6/6 - 0s - loss: 0.0736 - mse: 0.0736 - val_loss: 0.0888 - val_mse: 0.0888\n",
      "Epoch 291/400\n",
      "6/6 - 0s - loss: 0.0704 - mse: 0.0704 - val_loss: 0.0885 - val_mse: 0.0885\n",
      "Epoch 292/400\n",
      "6/6 - 0s - loss: 0.0907 - mse: 0.0907 - val_loss: 0.0886 - val_mse: 0.0886\n",
      "Epoch 293/400\n",
      "6/6 - 0s - loss: 0.0861 - mse: 0.0861 - val_loss: 0.0886 - val_mse: 0.0886\n",
      "Epoch 294/400\n",
      "6/6 - 0s - loss: 0.0668 - mse: 0.0668 - val_loss: 0.0887 - val_mse: 0.0887\n",
      "Epoch 295/400\n",
      "6/6 - 0s - loss: 0.1026 - mse: 0.1026 - val_loss: 0.0887 - val_mse: 0.0887\n",
      "Epoch 296/400\n",
      "6/6 - 0s - loss: 0.0711 - mse: 0.0711 - val_loss: 0.0886 - val_mse: 0.0886\n",
      "Epoch 297/400\n",
      "6/6 - 0s - loss: 0.0713 - mse: 0.0713 - val_loss: 0.0885 - val_mse: 0.0885\n",
      "Epoch 298/400\n",
      "6/6 - 0s - loss: 0.0655 - mse: 0.0655 - val_loss: 0.0884 - val_mse: 0.0884\n",
      "Epoch 299/400\n",
      "6/6 - 0s - loss: 0.0734 - mse: 0.0734 - val_loss: 0.0881 - val_mse: 0.0881\n",
      "Epoch 300/400\n",
      "6/6 - 0s - loss: 0.0861 - mse: 0.0861 - val_loss: 0.0876 - val_mse: 0.0876\n",
      "Epoch 301/400\n",
      "6/6 - 0s - loss: 0.0764 - mse: 0.0764 - val_loss: 0.0876 - val_mse: 0.0876\n",
      "Epoch 302/400\n",
      "6/6 - 0s - loss: 0.0780 - mse: 0.0780 - val_loss: 0.0876 - val_mse: 0.0876\n",
      "Epoch 303/400\n",
      "6/6 - 0s - loss: 0.0800 - mse: 0.0800 - val_loss: 0.0875 - val_mse: 0.0875\n",
      "Epoch 304/400\n",
      "6/6 - 0s - loss: 0.0908 - mse: 0.0908 - val_loss: 0.0874 - val_mse: 0.0874\n",
      "Epoch 305/400\n",
      "6/6 - 0s - loss: 0.0768 - mse: 0.0768 - val_loss: 0.0873 - val_mse: 0.0873\n",
      "Epoch 306/400\n",
      "6/6 - 0s - loss: 0.0808 - mse: 0.0808 - val_loss: 0.0872 - val_mse: 0.0872\n",
      "Epoch 307/400\n",
      "6/6 - 0s - loss: 0.0735 - mse: 0.0735 - val_loss: 0.0871 - val_mse: 0.0871\n",
      "Epoch 308/400\n",
      "6/6 - 0s - loss: 0.0771 - mse: 0.0771 - val_loss: 0.0873 - val_mse: 0.0873\n",
      "Epoch 309/400\n",
      "6/6 - 0s - loss: 0.0946 - mse: 0.0946 - val_loss: 0.0875 - val_mse: 0.0875\n",
      "Epoch 310/400\n",
      "6/6 - 0s - loss: 0.0751 - mse: 0.0751 - val_loss: 0.0876 - val_mse: 0.0876\n",
      "Epoch 311/400\n",
      "6/6 - 0s - loss: 0.0698 - mse: 0.0698 - val_loss: 0.0874 - val_mse: 0.0874\n",
      "Epoch 312/400\n",
      "6/6 - 0s - loss: 0.0702 - mse: 0.0702 - val_loss: 0.0870 - val_mse: 0.0870\n",
      "Epoch 313/400\n",
      "6/6 - 0s - loss: 0.0866 - mse: 0.0866 - val_loss: 0.0868 - val_mse: 0.0868\n",
      "Epoch 314/400\n",
      "6/6 - 0s - loss: 0.0914 - mse: 0.0914 - val_loss: 0.0867 - val_mse: 0.0867\n",
      "Epoch 315/400\n",
      "6/6 - 0s - loss: 0.0754 - mse: 0.0754 - val_loss: 0.0866 - val_mse: 0.0866\n",
      "Epoch 316/400\n",
      "6/6 - 0s - loss: 0.0781 - mse: 0.0781 - val_loss: 0.0867 - val_mse: 0.0867\n",
      "Epoch 317/400\n",
      "6/6 - 0s - loss: 0.0762 - mse: 0.0762 - val_loss: 0.0866 - val_mse: 0.0866\n",
      "Epoch 318/400\n",
      "6/6 - 0s - loss: 0.0771 - mse: 0.0771 - val_loss: 0.0867 - val_mse: 0.0867\n",
      "Epoch 319/400\n",
      "6/6 - 0s - loss: 0.0817 - mse: 0.0817 - val_loss: 0.0867 - val_mse: 0.0867\n",
      "Epoch 320/400\n",
      "6/6 - 0s - loss: 0.0943 - mse: 0.0943 - val_loss: 0.0869 - val_mse: 0.0869\n",
      "Epoch 321/400\n",
      "6/6 - 0s - loss: 0.0757 - mse: 0.0757 - val_loss: 0.0870 - val_mse: 0.0870\n",
      "Epoch 322/400\n",
      "6/6 - 0s - loss: 0.0740 - mse: 0.0740 - val_loss: 0.0873 - val_mse: 0.0873\n",
      "Epoch 323/400\n",
      "6/6 - 0s - loss: 0.0761 - mse: 0.0761 - val_loss: 0.0873 - val_mse: 0.0873\n",
      "Epoch 324/400\n",
      "6/6 - 0s - loss: 0.0718 - mse: 0.0718 - val_loss: 0.0873 - val_mse: 0.0873\n",
      "Epoch 325/400\n",
      "6/6 - 0s - loss: 0.0968 - mse: 0.0968 - val_loss: 0.0874 - val_mse: 0.0874\n",
      "Epoch 326/400\n",
      "6/6 - 0s - loss: 0.0839 - mse: 0.0839 - val_loss: 0.0877 - val_mse: 0.0877\n",
      "Epoch 327/400\n",
      "6/6 - 0s - loss: 0.0862 - mse: 0.0862 - val_loss: 0.0877 - val_mse: 0.0877\n",
      "Epoch 328/400\n",
      "6/6 - 0s - loss: 0.0851 - mse: 0.0851 - val_loss: 0.0874 - val_mse: 0.0874\n",
      "Epoch 329/400\n",
      "6/6 - 0s - loss: 0.0809 - mse: 0.0809 - val_loss: 0.0869 - val_mse: 0.0869\n",
      "Epoch 330/400\n",
      "6/6 - 0s - loss: 0.0799 - mse: 0.0799 - val_loss: 0.0866 - val_mse: 0.0866\n",
      "Epoch 331/400\n",
      "6/6 - 0s - loss: 0.0683 - mse: 0.0683 - val_loss: 0.0866 - val_mse: 0.0866\n",
      "Epoch 332/400\n",
      "6/6 - 0s - loss: 0.0626 - mse: 0.0626 - val_loss: 0.0867 - val_mse: 0.0867\n",
      "Epoch 333/400\n",
      "6/6 - 0s - loss: 0.0794 - mse: 0.0794 - val_loss: 0.0867 - val_mse: 0.0867\n",
      "Epoch 334/400\n",
      "6/6 - 0s - loss: 0.0629 - mse: 0.0629 - val_loss: 0.0865 - val_mse: 0.0865\n",
      "Epoch 335/400\n",
      "6/6 - 0s - loss: 0.0801 - mse: 0.0801 - val_loss: 0.0863 - val_mse: 0.0863\n",
      "Epoch 336/400\n",
      "6/6 - 0s - loss: 0.0776 - mse: 0.0776 - val_loss: 0.0862 - val_mse: 0.0862\n",
      "Epoch 337/400\n",
      "6/6 - 0s - loss: 0.0679 - mse: 0.0679 - val_loss: 0.0862 - val_mse: 0.0862\n",
      "Epoch 338/400\n",
      "6/6 - 0s - loss: 0.0824 - mse: 0.0824 - val_loss: 0.0862 - val_mse: 0.0862\n",
      "Epoch 339/400\n",
      "6/6 - 0s - loss: 0.0822 - mse: 0.0822 - val_loss: 0.0864 - val_mse: 0.0864\n",
      "Epoch 340/400\n",
      "6/6 - 0s - loss: 0.0794 - mse: 0.0794 - val_loss: 0.0865 - val_mse: 0.0865\n",
      "Epoch 341/400\n",
      "6/6 - 0s - loss: 0.0709 - mse: 0.0709 - val_loss: 0.0864 - val_mse: 0.0864\n",
      "Epoch 342/400\n",
      "6/6 - 0s - loss: 0.0588 - mse: 0.0588 - val_loss: 0.0864 - val_mse: 0.0864\n",
      "Epoch 343/400\n",
      "6/6 - 0s - loss: 0.0898 - mse: 0.0898 - val_loss: 0.0867 - val_mse: 0.0867\n",
      "Epoch 344/400\n",
      "6/6 - 0s - loss: 0.0718 - mse: 0.0718 - val_loss: 0.0866 - val_mse: 0.0866\n",
      "Epoch 345/400\n",
      "6/6 - 0s - loss: 0.0723 - mse: 0.0723 - val_loss: 0.0867 - val_mse: 0.0867\n",
      "Epoch 346/400\n",
      "6/6 - 0s - loss: 0.0743 - mse: 0.0743 - val_loss: 0.0870 - val_mse: 0.0870\n",
      "Epoch 347/400\n",
      "6/6 - 0s - loss: 0.1032 - mse: 0.1032 - val_loss: 0.0871 - val_mse: 0.0871\n",
      "Epoch 348/400\n",
      "6/6 - 0s - loss: 0.0607 - mse: 0.0607 - val_loss: 0.0868 - val_mse: 0.0868\n",
      "Epoch 349/400\n",
      "6/6 - 0s - loss: 0.0667 - mse: 0.0667 - val_loss: 0.0869 - val_mse: 0.0869\n",
      "Epoch 350/400\n",
      "6/6 - 0s - loss: 0.0756 - mse: 0.0756 - val_loss: 0.0868 - val_mse: 0.0868\n",
      "Epoch 351/400\n",
      "6/6 - 0s - loss: 0.0714 - mse: 0.0714 - val_loss: 0.0868 - val_mse: 0.0868\n",
      "Epoch 352/400\n",
      "6/6 - 0s - loss: 0.0889 - mse: 0.0889 - val_loss: 0.0866 - val_mse: 0.0866\n",
      "Epoch 353/400\n",
      "6/6 - 0s - loss: 0.0901 - mse: 0.0901 - val_loss: 0.0862 - val_mse: 0.0862\n",
      "Epoch 354/400\n",
      "6/6 - 0s - loss: 0.0894 - mse: 0.0894 - val_loss: 0.0859 - val_mse: 0.0859\n",
      "Epoch 355/400\n",
      "6/6 - 0s - loss: 0.0716 - mse: 0.0716 - val_loss: 0.0858 - val_mse: 0.0858\n",
      "Epoch 356/400\n",
      "6/6 - 0s - loss: 0.0694 - mse: 0.0694 - val_loss: 0.0852 - val_mse: 0.0852\n",
      "Epoch 357/400\n",
      "6/6 - 0s - loss: 0.0691 - mse: 0.0691 - val_loss: 0.0851 - val_mse: 0.0851\n",
      "Epoch 358/400\n",
      "6/6 - 0s - loss: 0.0903 - mse: 0.0903 - val_loss: 0.0850 - val_mse: 0.0850\n",
      "Epoch 359/400\n",
      "6/6 - 0s - loss: 0.0760 - mse: 0.0760 - val_loss: 0.0850 - val_mse: 0.0850\n",
      "Epoch 360/400\n",
      "6/6 - 0s - loss: 0.0817 - mse: 0.0817 - val_loss: 0.0851 - val_mse: 0.0851\n",
      "Epoch 361/400\n",
      "6/6 - 0s - loss: 0.0722 - mse: 0.0722 - val_loss: 0.0852 - val_mse: 0.0852\n",
      "Epoch 362/400\n",
      "6/6 - 0s - loss: 0.0695 - mse: 0.0695 - val_loss: 0.0852 - val_mse: 0.0852\n",
      "Epoch 363/400\n",
      "6/6 - 0s - loss: 0.0759 - mse: 0.0759 - val_loss: 0.0853 - val_mse: 0.0853\n",
      "Epoch 364/400\n",
      "6/6 - 0s - loss: 0.0696 - mse: 0.0696 - val_loss: 0.0855 - val_mse: 0.0855\n",
      "Epoch 365/400\n",
      "6/6 - 0s - loss: 0.0802 - mse: 0.0802 - val_loss: 0.0857 - val_mse: 0.0857\n",
      "Epoch 366/400\n",
      "6/6 - 0s - loss: 0.0729 - mse: 0.0729 - val_loss: 0.0856 - val_mse: 0.0856\n",
      "Epoch 367/400\n",
      "6/6 - 0s - loss: 0.0933 - mse: 0.0933 - val_loss: 0.0851 - val_mse: 0.0851\n",
      "Epoch 368/400\n",
      "6/6 - 0s - loss: 0.0727 - mse: 0.0727 - val_loss: 0.0848 - val_mse: 0.0848\n",
      "Epoch 369/400\n",
      "6/6 - 0s - loss: 0.0704 - mse: 0.0704 - val_loss: 0.0846 - val_mse: 0.0846\n",
      "Epoch 370/400\n",
      "6/6 - 0s - loss: 0.0861 - mse: 0.0861 - val_loss: 0.0848 - val_mse: 0.0848\n",
      "Epoch 371/400\n",
      "6/6 - 0s - loss: 0.0727 - mse: 0.0727 - val_loss: 0.0851 - val_mse: 0.0851\n",
      "Epoch 372/400\n",
      "6/6 - 0s - loss: 0.0741 - mse: 0.0741 - val_loss: 0.0851 - val_mse: 0.0851\n",
      "Epoch 373/400\n",
      "6/6 - 0s - loss: 0.0905 - mse: 0.0905 - val_loss: 0.0846 - val_mse: 0.0846\n",
      "Epoch 374/400\n",
      "6/6 - 0s - loss: 0.0728 - mse: 0.0728 - val_loss: 0.0845 - val_mse: 0.0845\n",
      "Epoch 375/400\n",
      "6/6 - 0s - loss: 0.0806 - mse: 0.0806 - val_loss: 0.0847 - val_mse: 0.0847\n",
      "Epoch 376/400\n",
      "6/6 - 0s - loss: 0.1066 - mse: 0.1066 - val_loss: 0.0849 - val_mse: 0.0849\n",
      "Epoch 377/400\n",
      "6/6 - 0s - loss: 0.0879 - mse: 0.0879 - val_loss: 0.0849 - val_mse: 0.0849\n",
      "Epoch 378/400\n",
      "6/6 - 0s - loss: 0.0713 - mse: 0.0713 - val_loss: 0.0846 - val_mse: 0.0846\n",
      "Epoch 379/400\n",
      "6/6 - 0s - loss: 0.0886 - mse: 0.0886 - val_loss: 0.0842 - val_mse: 0.0842\n",
      "Epoch 380/400\n",
      "6/6 - 0s - loss: 0.0845 - mse: 0.0845 - val_loss: 0.0839 - val_mse: 0.0839\n",
      "Epoch 381/400\n",
      "6/6 - 0s - loss: 0.0760 - mse: 0.0760 - val_loss: 0.0838 - val_mse: 0.0838\n",
      "Epoch 382/400\n",
      "6/6 - 0s - loss: 0.0770 - mse: 0.0770 - val_loss: 0.0839 - val_mse: 0.0839\n",
      "Epoch 383/400\n",
      "6/6 - 0s - loss: 0.0938 - mse: 0.0938 - val_loss: 0.0838 - val_mse: 0.0838\n",
      "Epoch 384/400\n",
      "6/6 - 0s - loss: 0.0852 - mse: 0.0852 - val_loss: 0.0837 - val_mse: 0.0837\n",
      "Epoch 385/400\n",
      "6/6 - 0s - loss: 0.0646 - mse: 0.0646 - val_loss: 0.0840 - val_mse: 0.0840\n",
      "Epoch 386/400\n",
      "6/6 - 0s - loss: 0.0688 - mse: 0.0688 - val_loss: 0.0841 - val_mse: 0.0841\n",
      "Epoch 387/400\n",
      "6/6 - 0s - loss: 0.0783 - mse: 0.0783 - val_loss: 0.0843 - val_mse: 0.0843\n",
      "Epoch 388/400\n",
      "6/6 - 0s - loss: 0.0838 - mse: 0.0838 - val_loss: 0.0844 - val_mse: 0.0844\n",
      "Epoch 389/400\n",
      "6/6 - 0s - loss: 0.0790 - mse: 0.0790 - val_loss: 0.0846 - val_mse: 0.0846\n",
      "Epoch 390/400\n",
      "6/6 - 0s - loss: 0.0798 - mse: 0.0798 - val_loss: 0.0850 - val_mse: 0.0850\n",
      "Epoch 391/400\n",
      "6/6 - 0s - loss: 0.0722 - mse: 0.0722 - val_loss: 0.0852 - val_mse: 0.0852\n",
      "Epoch 392/400\n",
      "6/6 - 0s - loss: 0.1058 - mse: 0.1058 - val_loss: 0.0857 - val_mse: 0.0857\n",
      "Epoch 393/400\n",
      "6/6 - 0s - loss: 0.0676 - mse: 0.0676 - val_loss: 0.0857 - val_mse: 0.0857\n",
      "Epoch 394/400\n",
      "6/6 - 0s - loss: 0.0856 - mse: 0.0856 - val_loss: 0.0859 - val_mse: 0.0859\n",
      "Epoch 395/400\n",
      "6/6 - 0s - loss: 0.0789 - mse: 0.0789 - val_loss: 0.0857 - val_mse: 0.0857\n",
      "Epoch 396/400\n",
      "6/6 - 0s - loss: 0.0792 - mse: 0.0792 - val_loss: 0.0853 - val_mse: 0.0853\n",
      "Epoch 397/400\n",
      "6/6 - 0s - loss: 0.0764 - mse: 0.0764 - val_loss: 0.0853 - val_mse: 0.0853\n",
      "Epoch 398/400\n",
      "6/6 - 0s - loss: 0.0713 - mse: 0.0713 - val_loss: 0.0852 - val_mse: 0.0852\n",
      "Epoch 399/400\n",
      "6/6 - 0s - loss: 0.0718 - mse: 0.0718 - val_loss: 0.0852 - val_mse: 0.0852\n",
      "Epoch 400/400\n",
      "6/6 - 0s - loss: 0.0823 - mse: 0.0823 - val_loss: 0.0853 - val_mse: 0.0853\n"
     ]
    },
    {
     "data": {
      "image/png": "[encoded data removed]",
      "text/plain": [
       "<Figure size 576x396 with 1 Axes>"
      ]
     },
     "metadata": {},
     "output_type": "display_data"
    },
    {
     "name": "stdout",
     "output_type": "stream",
     "text": [
      "Accuracy of NN Regressor with Dropout training is 0.69\n",
      "CPU times: user 13.2 s, sys: 942 ms, total: 14.1 s\n",
      "Wall time: 12 s\n"
     ]
    }
   ],
   "source": [
    "%%time\n",
    "def build_nn2():\n",
    "\n",
    "    # Initializing the NN with 3 layers including 2 hidden layers and Dropout\n",
    "    model = Sequential()\n",
    "\n",
    "    # The first hidden layer of the NN with input data\n",
    "    model.add(Dense(units=4, activation='relu', input_shape=(len(train.columns),)))\n",
    "    \n",
    "    # Dropout\n",
    "    model.add(Dropout(0.2))\n",
    "    \n",
    "    # The second hidden layer of the NN\n",
    "    model.add(Dense(units=3, activation='relu'))\n",
    "    \n",
    "    # The output layer\n",
    "    model.add(Dense(units=1, activation='sigmoid'))\n",
    "\n",
    "    # Compiling the NN\n",
    "    model.compile(loss='mse', optimizer='adam', metrics=['mse'])\n",
    "    \n",
    "    learning_rate_reduction = ReduceLROnPlateau(monitor='val_mse', \n",
    "                                    patience=6, \n",
    "                                    verbose=1, \n",
    "                                    factor=0.05, \n",
    "                                    min_lr=0.0001)\n",
    "    \n",
    "    return model\n",
    "\n",
    "nn_model2 = build_nn2()\n",
    "nn_model2.fit(train, target_train, batch_size=batch_size_num, epochs=400, validation_data=(valid, target_valid), verbose=2)\n",
    "\n",
    "# Drawing metrics plot\n",
    "plt.plot(nn_model2.history.history['mse'])\n",
    "plt.title('Metrics of NN Regressor with Dropout')\n",
    "plt.xlabel('Epochs')\n",
    "plt.ylabel('Mean Square Error') \n",
    "plt.show()\n",
    "\n",
    "# Prediction for training data\n",
    "y_train_nn2 = nn_model2.predict(train)\n",
    "\n",
    "# Accuracy of model\n",
    "acc_pred = round(acc(target_train, y_train_nn2), 2)\n",
    "print(f'Accuracy of NN Regressor with Dropout training is {acc_pred}')\n",
    "\n",
    "# Save to result DataFrame\n",
    "result.loc[result['model'] == 'NN Regressor with Dropout', 'train_score'] = acc_pred\n",
    "result.loc[result['model'] == 'NN Regressor with Dropout', 'train_mse'] = round(mse(target_train, y_train_nn),2)"
   ]
  },
  {
   "cell_type": "code",
   "execution_count": 24,
   "metadata": {
    "execution": {
     "iopub.execute_input": "2022-06-19T10:53:45.746554Z",
     "iopub.status.busy": "2022-06-19T10:53:45.745858Z",
     "iopub.status.idle": "2022-06-19T10:53:45.796917Z",
     "shell.execute_reply": "2022-06-19T10:53:45.797578Z",
     "shell.execute_reply.started": "2022-06-19T10:46:19.829050Z"
    },
    "papermill": {
     "duration": 0.356078,
     "end_time": "2022-06-19T10:53:45.797741",
     "exception": false,
     "start_time": "2022-06-19T10:53:45.441663",
     "status": "completed"
    },
    "tags": []
   },
   "outputs": [
    {
     "name": "stdout",
     "output_type": "stream",
     "text": [
      "Accuracy of NN Regressor with Dropout prediction for valid dataset is 0.63\n"
     ]
    }
   ],
   "source": [
    "# Print rounded acc_pred to 2 decimal values after the text\n",
    "y_val_nn2 = nn_model2.predict(valid)\n",
    "acc_pred_valid = round(acc(target_valid, y_val_nn2),2)\n",
    "result.loc[result['model'] == 'NN Regressor with Dropout', 'valid_score'] = acc_pred_valid\n",
    "result.loc[result['model'] == 'NN Regressor with Dropout', 'valid_mse'] = mse(target_valid, y_val_nn2)\n",
    "print(f'Accuracy of NN Regressor with Dropout prediction for valid dataset is {acc_pred_valid}')"
   ]
  },
  {
   "cell_type": "code",
   "execution_count": 25,
   "metadata": {
    "execution": {
     "iopub.execute_input": "2022-06-19T10:53:48.224077Z",
     "iopub.status.busy": "2022-06-19T10:53:48.223370Z",
     "iopub.status.idle": "2022-06-19T10:53:50.444037Z",
     "shell.execute_reply": "2022-06-19T10:53:50.444808Z",
     "shell.execute_reply.started": "2022-06-19T10:46:19.882788Z"
    },
    "papermill": {
     "duration": 2.539243,
     "end_time": "2022-06-19T10:53:50.444971",
     "exception": false,
     "start_time": "2022-06-19T10:53:47.905728",
     "status": "completed"
    },
    "tags": []
   },
   "outputs": [
    {
     "name": "stdout",
     "output_type": "stream",
     "text": [
      "{'hidden_layer_sizes': 8, 'learning_rate': 'adaptive', 'max_iter': 100, 'solver': 'sgd'}\n",
      "Accuracy of MLP Regressor model training is 0.61\n",
      "CPU times: user 2.22 s, sys: 0 ns, total: 2.22 s\n",
      "Wall time: 2.22 s\n"
     ]
    }
   ],
   "source": [
    "%%time\n",
    "# MLPRegressor\n",
    "mlp = MLPRegressor()\n",
    "param_grid = {'hidden_layer_sizes': [i for i in range(2,10)],\n",
    "              'solver': ['sgd'],\n",
    "              'learning_rate': ['adaptive'],\n",
    "              'max_iter': [100]\n",
    "              }\n",
    "\n",
    "# Training model\n",
    "mlp_CV = GridSearchCV(mlp, param_grid=param_grid, cv=5, verbose=False)\n",
    "mlp_CV.fit(train, target_train)\n",
    "print(mlp_CV.best_params_)\n",
    "\n",
    "# Prediction for training data\n",
    "y_train_mlp = mlp_CV.predict(train)\n",
    "\n",
    "# Accuracy of model\n",
    "acc_pred = round(acc(target_train, y_train_mlp), 2)\n",
    "print(f'Accuracy of MLP Regressor model training is {acc_pred}')\n",
    "\n",
    "# Save to result dataframe\n",
    "result.loc[result['model'] == 'MLP Regressor', 'train_score'] = acc_pred\n",
    "result.loc[result['model'] == 'MLP Regressor', 'train_mse'] = mse(target_train, y_train_nn)"
   ]
  },
  {
   "cell_type": "code",
   "execution_count": 26,
   "metadata": {
    "execution": {
     "iopub.execute_input": "2022-06-19T10:53:51.057926Z",
     "iopub.status.busy": "2022-06-19T10:53:51.056844Z",
     "iopub.status.idle": "2022-06-19T10:53:51.070461Z",
     "shell.execute_reply": "2022-06-19T10:53:51.071228Z",
     "shell.execute_reply.started": "2022-06-19T10:46:22.138865Z"
    },
    "papermill": {
     "duration": 0.321968,
     "end_time": "2022-06-19T10:53:51.071451",
     "exception": false,
     "start_time": "2022-06-19T10:53:50.749483",
     "status": "completed"
    },
    "tags": []
   },
   "outputs": [
    {
     "name": "stdout",
     "output_type": "stream",
     "text": [
      "Accuracy of MLP Regressor model prediction for valid dataset is 0.6\n"
     ]
    }
   ],
   "source": [
    "# Print rounded acc_pred to 2 decimal values after the text\n",
    "y_val_mlp = mlp_CV.predict(valid)\n",
    "acc_pred_valid = round(acc(target_valid, y_val_mlp),2)\n",
    "result.loc[result['model'] == 'MLP Regressor', 'valid_score'] = acc_pred_valid\n",
    "result.loc[result['model'] == 'MLP Regressor', 'valid_mse'] = round(mse(target_valid, y_val_mlp),2)\n",
    "print(f'Accuracy of MLP Regressor model prediction for valid dataset is {acc_pred_valid}')"
   ]
  },
  {
   "cell_type": "code",
   "execution_count": 27,
   "metadata": {
    "execution": {
     "iopub.execute_input": "2022-06-19T10:53:52.292601Z",
     "iopub.status.busy": "2022-06-19T10:53:52.291872Z",
     "iopub.status.idle": "2022-06-19T10:53:52.382136Z",
     "shell.execute_reply": "2022-06-19T10:53:52.381021Z",
     "shell.execute_reply.started": "2022-06-19T10:46:22.154765Z"
    },
    "papermill": {
     "duration": 0.399612,
     "end_time": "2022-06-19T10:53:52.382274",
     "exception": false,
     "start_time": "2022-06-19T10:53:51.982662",
     "status": "completed"
    },
    "tags": []
   },
   "outputs": [],
   "source": [
    "# Prediction of target for test data for all models\n",
    "y_test_nn = nn_model.predict(test)\n",
    "y_test_nn2 = nn_model2.predict(test)\n",
    "y_test_mlp = mlp_CV.predict(test)"
   ]
  },
  {
   "cell_type": "code",
   "execution_count": 28,
   "metadata": {
    "execution": {
     "iopub.execute_input": "2022-06-19T10:53:53.671755Z",
     "iopub.status.busy": "2022-06-19T10:53:53.670869Z",
     "iopub.status.idle": "2022-06-19T10:53:53.685725Z",
     "shell.execute_reply": "2022-06-19T10:53:53.684764Z",
     "shell.execute_reply.started": "2022-06-19T10:46:22.242349Z"
    },
    "papermill": {
     "duration": 0.325888,
     "end_time": "2022-06-19T10:53:53.685869",
     "exception": false,
     "start_time": "2022-06-19T10:53:53.359981",
     "status": "completed"
    },
    "tags": []
   },
   "outputs": [],
   "source": [
    "def plot_prediction(target, y_nn, y_nn2, y_mlp, data_name, MAV=0.5):\n",
    "    # Building plot with target, Maximum allowable value (MAV) and \n",
    "    # prediction for the data_name (training, validation or test) data by 3 models\n",
    "    \n",
    "    x = np.arange(len(y_nn))\n",
    "    plt.figure(figsize=(16,10))\n",
    "    if target is not None:\n",
    "        plt.scatter(x, target, label = \"Target data\", color = 'g')\n",
    "    plt.scatter(x, y_nn, label = \"NN prediction\", color = 'b')\n",
    "    plt.scatter(x, y_nn2, label = \"NN with Dropout\", color = 'm')\n",
    "    plt.scatter(x, y_mlp, label = \"MLP prediction\", color = 'y')\n",
    "    plt.plot(x, np.full(len(y_nn), MAV), label = \"Maximum allowable value\", color = 'r')\n",
    "    plt.title(f'Prediction for the {data_name} data')\n",
    "    plt.legend(loc='best')\n",
    "    plt.grid(True)"
   ]
  },
  {
   "cell_type": "code",
   "execution_count": 29,
   "metadata": {
    "execution": {
     "iopub.execute_input": "2022-06-19T10:53:54.298546Z",
     "iopub.status.busy": "2022-06-19T10:53:54.297469Z",
     "iopub.status.idle": "2022-06-19T10:53:54.702288Z",
     "shell.execute_reply": "2022-06-19T10:53:54.702816Z",
     "shell.execute_reply.started": "2022-06-19T10:46:22.253945Z"
    },
    "papermill": {
     "duration": 0.712891,
     "end_time": "2022-06-19T10:53:54.702963",
     "exception": false,
     "start_time": "2022-06-19T10:53:53.990072",
     "status": "completed"
    },
    "tags": []
   },
   "outputs": [
    {
     "data": {
      "image/png": "[encoded data removed]",
      "text/plain": [
       "<Figure size 1152x720 with 1 Axes>"
      ]
     },
     "metadata": {},
     "output_type": "display_data"
    }
   ],
   "source": [
    "plot_prediction(target_train, y_train_nn, y_train_nn2, y_train_mlp, 'training')"
   ]
  },
  {
   "cell_type": "code",
   "execution_count": 30,
   "metadata": {
    "execution": {
     "iopub.execute_input": "2022-06-19T10:53:55.313324Z",
     "iopub.status.busy": "2022-06-19T10:53:55.312613Z",
     "iopub.status.idle": "2022-06-19T10:53:55.665369Z",
     "shell.execute_reply": "2022-06-19T10:53:55.665918Z",
     "shell.execute_reply.started": "2022-06-19T10:46:22.640157Z"
    },
    "papermill": {
     "duration": 0.659656,
     "end_time": "2022-06-19T10:53:55.666096",
     "exception": false,
     "start_time": "2022-06-19T10:53:55.006440",
     "status": "completed"
    },
    "tags": []
   },
   "outputs": [
    {
     "data": {
      "image/png": "[encoded data removed]",
      "text/plain": [
       "<Figure size 1152x720 with 1 Axes>"
      ]
     },
     "metadata": {},
     "output_type": "display_data"
    }
   ],
   "source": [
    "plot_prediction(target_valid, y_val_nn, y_val_nn2, y_val_mlp, 'validation')"
   ]
  },
  {
   "cell_type": "code",
   "execution_count": 31,
   "metadata": {
    "execution": {
     "iopub.execute_input": "2022-06-19T10:53:56.281404Z",
     "iopub.status.busy": "2022-06-19T10:53:56.280695Z",
     "iopub.status.idle": "2022-06-19T10:53:56.622785Z",
     "shell.execute_reply": "2022-06-19T10:53:56.622073Z",
     "shell.execute_reply.started": "2022-06-19T10:46:22.984703Z"
    },
    "papermill": {
     "duration": 0.651329,
     "end_time": "2022-06-19T10:53:56.622908",
     "exception": false,
     "start_time": "2022-06-19T10:53:55.971579",
     "status": "completed"
    },
    "tags": []
   },
   "outputs": [
    {
     "data": {
      "image/png": "[encoded data removed]",
      "text/plain": [
       "<Figure size 1152x720 with 1 Axes>"
      ]
     },
     "metadata": {},
     "output_type": "display_data"
    }
   ],
   "source": [
    "plot_prediction(None, y_test_nn, y_test_nn2, y_test_mlp, 'test')"
   ]
  },
  {
   "cell_type": "code",
   "execution_count": 32,
   "metadata": {
    "execution": {
     "iopub.execute_input": "2022-06-19T10:53:57.860047Z",
     "iopub.status.busy": "2022-06-19T10:53:57.859370Z",
     "iopub.status.idle": "2022-06-19T10:53:57.874352Z",
     "shell.execute_reply": "2022-06-19T10:53:57.873797Z",
     "shell.execute_reply.started": "2022-06-19T10:46:23.328470Z"
    },
    "papermill": {
     "duration": 0.328048,
     "end_time": "2022-06-19T10:53:57.874477",
     "exception": false,
     "start_time": "2022-06-19T10:53:57.546429",
     "status": "completed"
    },
    "tags": []
   },
   "outputs": [
    {
     "data": {
      "text/html": [
       "<div>\n",
       "<style scoped>\n",
       "    .dataframe tbody tr th:only-of-type {\n",
       "        vertical-align: middle;\n",
       "    }\n",
       "\n",
       "    .dataframe tbody tr th {\n",
       "        vertical-align: top;\n",
       "    }\n",
       "\n",
       "    .dataframe thead th {\n",
       "        text-align: right;\n",
       "    }\n",
       "</style>\n",
       "<table border=\"1\" class=\"dataframe\">\n",
       "  <thead>\n",
       "    <tr style=\"text-align: right;\">\n",
       "      <th></th>\n",
       "      <th>model</th>\n",
       "      <th>train_score</th>\n",
       "      <th>train_mse</th>\n",
       "      <th>valid_score</th>\n",
       "      <th>valid_mse</th>\n",
       "    </tr>\n",
       "  </thead>\n",
       "  <tbody>\n",
       "    <tr>\n",
       "      <th>0</th>\n",
       "      <td>NN Regressor</td>\n",
       "      <td>0.68</td>\n",
       "      <td>0.056262</td>\n",
       "      <td>0.64</td>\n",
       "      <td>0.080000</td>\n",
       "    </tr>\n",
       "    <tr>\n",
       "      <th>1</th>\n",
       "      <td>NN Regressor with Dropout</td>\n",
       "      <td>0.69</td>\n",
       "      <td>0.060000</td>\n",
       "      <td>0.63</td>\n",
       "      <td>0.085263</td>\n",
       "    </tr>\n",
       "    <tr>\n",
       "      <th>2</th>\n",
       "      <td>MLP Regressor</td>\n",
       "      <td>0.61</td>\n",
       "      <td>0.056262</td>\n",
       "      <td>0.60</td>\n",
       "      <td>0.090000</td>\n",
       "    </tr>\n",
       "  </tbody>\n",
       "</table>\n",
       "</div>"
      ],
      "text/plain": [
       "                       model  train_score  train_mse  valid_score  valid_mse\n",
       "0               NN Regressor         0.68   0.056262         0.64   0.080000\n",
       "1  NN Regressor with Dropout         0.69   0.060000         0.63   0.085263\n",
       "2              MLP Regressor         0.61   0.056262         0.60   0.090000"
      ]
     },
     "execution_count": 32,
     "metadata": {},
     "output_type": "execute_result"
    }
   ],
   "source": [
    "# Display results of modeling\n",
    "result.sort_values(by=['valid_score', 'train_score'], ascending=False)"
   ]
  },
  {
   "cell_type": "code",
   "execution_count": 33,
   "metadata": {
    "execution": {
     "iopub.execute_input": "2022-06-19T10:53:58.493787Z",
     "iopub.status.busy": "2022-06-19T10:53:58.493128Z",
     "iopub.status.idle": "2022-06-19T10:53:58.508743Z",
     "shell.execute_reply": "2022-06-19T10:53:58.509315Z",
     "shell.execute_reply.started": "2022-06-19T10:46:23.347262Z"
    },
    "papermill": {
     "duration": 0.325012,
     "end_time": "2022-06-19T10:53:58.509469",
     "exception": false,
     "start_time": "2022-06-19T10:53:58.184457",
     "status": "completed"
    },
    "tags": []
   },
   "outputs": [
    {
     "data": {
      "text/html": [
       "<div>\n",
       "<style scoped>\n",
       "    .dataframe tbody tr th:only-of-type {\n",
       "        vertical-align: middle;\n",
       "    }\n",
       "\n",
       "    .dataframe tbody tr th {\n",
       "        vertical-align: top;\n",
       "    }\n",
       "\n",
       "    .dataframe thead th {\n",
       "        text-align: right;\n",
       "    }\n",
       "</style>\n",
       "<table border=\"1\" class=\"dataframe\">\n",
       "  <thead>\n",
       "    <tr style=\"text-align: right;\">\n",
       "      <th></th>\n",
       "      <th>model</th>\n",
       "      <th>train_score</th>\n",
       "      <th>train_mse</th>\n",
       "      <th>valid_score</th>\n",
       "      <th>valid_mse</th>\n",
       "    </tr>\n",
       "  </thead>\n",
       "  <tbody>\n",
       "    <tr>\n",
       "      <th>0</th>\n",
       "      <td>NN Regressor</td>\n",
       "      <td>0.68</td>\n",
       "      <td>0.056262</td>\n",
       "      <td>0.64</td>\n",
       "      <td>0.080000</td>\n",
       "    </tr>\n",
       "    <tr>\n",
       "      <th>1</th>\n",
       "      <td>NN Regressor with Dropout</td>\n",
       "      <td>0.69</td>\n",
       "      <td>0.060000</td>\n",
       "      <td>0.63</td>\n",
       "      <td>0.085263</td>\n",
       "    </tr>\n",
       "    <tr>\n",
       "      <th>2</th>\n",
       "      <td>MLP Regressor</td>\n",
       "      <td>0.61</td>\n",
       "      <td>0.056262</td>\n",
       "      <td>0.60</td>\n",
       "      <td>0.090000</td>\n",
       "    </tr>\n",
       "  </tbody>\n",
       "</table>\n",
       "</div>"
      ],
      "text/plain": [
       "                       model  train_score  train_mse  valid_score  valid_mse\n",
       "0               NN Regressor         0.68   0.056262         0.64   0.080000\n",
       "1  NN Regressor with Dropout         0.69   0.060000         0.63   0.085263\n",
       "2              MLP Regressor         0.61   0.056262         0.60   0.090000"
      ]
     },
     "execution_count": 33,
     "metadata": {},
     "output_type": "execute_result"
    }
   ],
   "source": [
    "# Select models with minimal overfitting\n",
    "result_best = result[(result['train_score'] - result['valid_score']).abs() < 5]\n",
    "result_best.sort_values(by=['valid_score', 'train_score'], ascending=False)"
   ]
  },
  {
   "cell_type": "code",
   "execution_count": 34,
   "metadata": {
    "execution": {
     "iopub.execute_input": "2022-06-19T10:53:59.128675Z",
     "iopub.status.busy": "2022-06-19T10:53:59.128017Z",
     "iopub.status.idle": "2022-06-19T10:53:59.142705Z",
     "shell.execute_reply": "2022-06-19T10:53:59.143347Z",
     "shell.execute_reply.started": "2022-06-19T10:46:23.365868Z"
    },
    "papermill": {
     "duration": 0.327044,
     "end_time": "2022-06-19T10:53:59.143500",
     "exception": false,
     "start_time": "2022-06-19T10:53:58.816456",
     "status": "completed"
    },
    "tags": []
   },
   "outputs": [
    {
     "data": {
      "text/html": [
       "<div>\n",
       "<style scoped>\n",
       "    .dataframe tbody tr th:only-of-type {\n",
       "        vertical-align: middle;\n",
       "    }\n",
       "\n",
       "    .dataframe tbody tr th {\n",
       "        vertical-align: top;\n",
       "    }\n",
       "\n",
       "    .dataframe thead th {\n",
       "        text-align: right;\n",
       "    }\n",
       "</style>\n",
       "<table border=\"1\" class=\"dataframe\">\n",
       "  <thead>\n",
       "    <tr style=\"text-align: right;\">\n",
       "      <th></th>\n",
       "      <th>model</th>\n",
       "      <th>train_score</th>\n",
       "      <th>train_mse</th>\n",
       "      <th>valid_score</th>\n",
       "      <th>valid_mse</th>\n",
       "    </tr>\n",
       "  </thead>\n",
       "  <tbody>\n",
       "    <tr>\n",
       "      <th>0</th>\n",
       "      <td>NN Regressor</td>\n",
       "      <td>0.68</td>\n",
       "      <td>0.056262</td>\n",
       "      <td>0.64</td>\n",
       "      <td>0.08</td>\n",
       "    </tr>\n",
       "  </tbody>\n",
       "</table>\n",
       "</div>"
      ],
      "text/plain": [
       "          model  train_score  train_mse  valid_score  valid_mse\n",
       "0  NN Regressor         0.68   0.056262         0.64       0.08"
      ]
     },
     "execution_count": 34,
     "metadata": {},
     "output_type": "execute_result"
    }
   ],
   "source": [
    "# Select the best model\n",
    "result_best.nlargest(1, 'valid_score')"
   ]
  },
  {
   "cell_type": "code",
   "execution_count": 35,
   "metadata": {
    "execution": {
     "iopub.execute_input": "2022-06-19T10:53:59.765062Z",
     "iopub.status.busy": "2022-06-19T10:53:59.764413Z",
     "iopub.status.idle": "2022-06-19T10:53:59.770186Z",
     "shell.execute_reply": "2022-06-19T10:53:59.769535Z",
     "shell.execute_reply.started": "2022-06-19T10:46:23.383741Z"
    },
    "papermill": {
     "duration": 0.316902,
     "end_time": "2022-06-19T10:53:59.770315",
     "exception": false,
     "start_time": "2022-06-19T10:53:59.453413",
     "status": "completed"
    },
    "tags": []
   },
   "outputs": [],
   "source": [
    "# Find a name of the best model (with maximal valid score)\n",
    "best_model_name = result_best.loc[result_best['valid_score'].idxmax(result_best['valid_score'].max()), 'model']"
   ]
  },
  {
   "cell_type": "code",
   "execution_count": 36,
   "metadata": {
    "execution": {
     "iopub.execute_input": "2022-06-19T10:54:00.390869Z",
     "iopub.status.busy": "2022-06-19T10:54:00.390178Z",
     "iopub.status.idle": "2022-06-19T10:54:00.396822Z",
     "shell.execute_reply": "2022-06-19T10:54:00.396258Z",
     "shell.execute_reply.started": "2022-06-19T10:46:23.393605Z"
    },
    "papermill": {
     "duration": 0.315585,
     "end_time": "2022-06-19T10:54:00.396942",
     "exception": false,
     "start_time": "2022-06-19T10:54:00.081357",
     "status": "completed"
    },
    "tags": []
   },
   "outputs": [
    {
     "name": "stdout",
     "output_type": "stream",
     "text": [
      "The best model is \"NN Regressor\"\n"
     ]
    }
   ],
   "source": [
    "print(f'The best model is \"{best_model_name}\"')"
   ]
  }
 ],
 "metadata": {
  "kernelspec": {
   "display_name": "Python 3",
   "language": "python",
   "name": "python3"
  },
  "language_info": {
   "codemirror_mode": {
    "name": "ipython",
    "version": 3
   },
   "file_extension": ".py",
   "mimetype": "text/x-python",
   "name": "python",
   "nbconvert_exporter": "python",
   "pygments_lexer": "ipython3",
   "version": "3.7.6"
  },
  "papermill": {
   "duration": 50.419168,
   "end_time": "2022-06-19T10:54:01.435539",
   "environment_variables": {},
   "exception": null,
   "input_path": "__notebook__.ipynb",
   "output_path": "__notebook__.ipynb",
   "parameters": {},
   "start_time": "2022-06-19T10:53:11.016371",
   "version": "2.1.0"
  }
 },
 "nbformat": 4,
 "nbformat_minor": 4
}
