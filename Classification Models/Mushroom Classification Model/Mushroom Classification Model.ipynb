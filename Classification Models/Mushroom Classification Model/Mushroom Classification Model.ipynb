{
 "cells": [
  {
   "cell_type": "markdown",
   "id": "ef720d00",
   "metadata": {
    "papermill": {
     "duration": 0.009407,
     "end_time": "2024-05-30T16:16:56.488093",
     "exception": false,
     "start_time": "2024-05-30T16:16:56.478686",
     "status": "completed"
    },
    "tags": []
   },
   "source": [
    "# Importing Datasets, Loading Required Libraries observe the dataset information"
   ]
  },
  {
   "cell_type": "code",
   "execution_count": 1,
   "id": "ba696cce",
   "metadata": {
    "execution": {
     "iopub.execute_input": "2024-05-30T16:16:56.509242Z",
     "iopub.status.busy": "2024-05-30T16:16:56.508846Z",
     "iopub.status.idle": "2024-05-30T16:16:59.353443Z",
     "shell.execute_reply": "2024-05-30T16:16:59.352257Z"
    },
    "papermill": {
     "duration": 2.858597,
     "end_time": "2024-05-30T16:16:59.356486",
     "exception": false,
     "start_time": "2024-05-30T16:16:56.497889",
     "status": "completed"
    },
    "tags": []
   },
   "outputs": [],
   "source": [
    "# Importing Necessary libraries\n",
    "\n",
    "import numpy as np \n",
    "import pandas as pd \n",
    "import scipy.stats as stats\n",
    "import seaborn as sns\n",
    "import matplotlib.pyplot as plt\n",
    "\n",
    "from sklearn.model_selection import train_test_split\n",
    "\n",
    "from sklearn.preprocessing import OneHotEncoder\n",
    "from sklearn.preprocessing import LabelEncoder\n",
    "from sklearn.neighbors import KNeighborsClassifier\n",
    "from sklearn.ensemble import RandomForestClassifier\n",
    "\n",
    "from sklearn.metrics import accuracy_score\n",
    "from sklearn.metrics import classification_report\n",
    "from sklearn.metrics import confusion_matrix"
   ]
  },
  {
   "cell_type": "code",
   "execution_count": 2,
   "id": "4f98ed65",
   "metadata": {
    "execution": {
     "iopub.execute_input": "2024-05-30T16:16:59.380551Z",
     "iopub.status.busy": "2024-05-30T16:16:59.379497Z",
     "iopub.status.idle": "2024-05-30T16:16:59.390582Z",
     "shell.execute_reply": "2024-05-30T16:16:59.389400Z"
    },
    "papermill": {
     "duration": 0.026216,
     "end_time": "2024-05-30T16:16:59.393170",
     "exception": false,
     "start_time": "2024-05-30T16:16:59.366954",
     "status": "completed"
    },
    "tags": []
   },
   "outputs": [
    {
     "name": "stdout",
     "output_type": "stream",
     "text": [
      "/kaggle/input/mushroom-classification/mushrooms.csv\n"
     ]
    }
   ],
   "source": [
    "import os\n",
    "for dirname, _, filenames in os.walk('/kaggle/input'):\n",
    "    for filename in filenames:\n",
    "        print(os.path.join(dirname, filename))"
   ]
  },
  {
   "cell_type": "code",
   "execution_count": 3,
   "id": "653ae167",
   "metadata": {
    "execution": {
     "iopub.execute_input": "2024-05-30T16:16:59.415313Z",
     "iopub.status.busy": "2024-05-30T16:16:59.414836Z",
     "iopub.status.idle": "2024-05-30T16:16:59.460891Z",
     "shell.execute_reply": "2024-05-30T16:16:59.459687Z"
    },
    "papermill": {
     "duration": 0.059598,
     "end_time": "2024-05-30T16:16:59.463157",
     "exception": false,
     "start_time": "2024-05-30T16:16:59.403559",
     "status": "completed"
    },
    "tags": []
   },
   "outputs": [
    {
     "data": {
      "text/plain": [
       "(8124, 23)"
      ]
     },
     "execution_count": 3,
     "metadata": {},
     "output_type": "execute_result"
    }
   ],
   "source": [
    "# Loading dataset\n",
    "df = pd.read_csv('/kaggle/input/mushroom-classification/mushrooms.csv')\n",
    "\n",
    "#get to know about the shape\n",
    "df.shape"
   ]
  },
  {
   "cell_type": "code",
   "execution_count": 4,
   "id": "6bb12dbe",
   "metadata": {
    "execution": {
     "iopub.execute_input": "2024-05-30T16:16:59.485256Z",
     "iopub.status.busy": "2024-05-30T16:16:59.484834Z",
     "iopub.status.idle": "2024-05-30T16:16:59.494566Z",
     "shell.execute_reply": "2024-05-30T16:16:59.493386Z"
    },
    "papermill": {
     "duration": 0.023314,
     "end_time": "2024-05-30T16:16:59.496610",
     "exception": false,
     "start_time": "2024-05-30T16:16:59.473296",
     "status": "completed"
    },
    "tags": []
   },
   "outputs": [
    {
     "data": {
      "text/plain": [
       "0"
      ]
     },
     "execution_count": 4,
     "metadata": {},
     "output_type": "execute_result"
    }
   ],
   "source": [
    "# Checking if duplicate column exist in dataset\n",
    "df.columns.duplicated().sum()"
   ]
  },
  {
   "cell_type": "code",
   "execution_count": 5,
   "id": "acde5326",
   "metadata": {
    "execution": {
     "iopub.execute_input": "2024-05-30T16:16:59.519577Z",
     "iopub.status.busy": "2024-05-30T16:16:59.518287Z",
     "iopub.status.idle": "2024-05-30T16:16:59.525644Z",
     "shell.execute_reply": "2024-05-30T16:16:59.524644Z"
    },
    "papermill": {
     "duration": 0.020954,
     "end_time": "2024-05-30T16:16:59.527820",
     "exception": false,
     "start_time": "2024-05-30T16:16:59.506866",
     "status": "completed"
    },
    "tags": []
   },
   "outputs": [
    {
     "data": {
      "text/plain": [
       "0"
      ]
     },
     "execution_count": 5,
     "metadata": {},
     "output_type": "execute_result"
    }
   ],
   "source": [
    "#checkig if duplicate rows exist in dataset\n",
    "df.T.columns.duplicated().sum()"
   ]
  },
  {
   "cell_type": "code",
   "execution_count": 6,
   "id": "9a5971f3",
   "metadata": {
    "execution": {
     "iopub.execute_input": "2024-05-30T16:16:59.550555Z",
     "iopub.status.busy": "2024-05-30T16:16:59.549761Z",
     "iopub.status.idle": "2024-05-30T16:16:59.573887Z",
     "shell.execute_reply": "2024-05-30T16:16:59.572837Z"
    },
    "papermill": {
     "duration": 0.038224,
     "end_time": "2024-05-30T16:16:59.576331",
     "exception": false,
     "start_time": "2024-05-30T16:16:59.538107",
     "status": "completed"
    },
    "tags": []
   },
   "outputs": [
    {
     "data": {
      "text/plain": [
       "class                        2\n",
       "cap-shape                    6\n",
       "cap-surface                  4\n",
       "cap-color                   10\n",
       "bruises                      2\n",
       "odor                         9\n",
       "gill-attachment              2\n",
       "gill-spacing                 2\n",
       "gill-size                    2\n",
       "gill-color                  12\n",
       "stalk-shape                  2\n",
       "stalk-root                   5\n",
       "stalk-surface-above-ring     4\n",
       "stalk-surface-below-ring     4\n",
       "stalk-color-above-ring       9\n",
       "stalk-color-below-ring       9\n",
       "veil-type                    1\n",
       "veil-color                   4\n",
       "ring-number                  3\n",
       "ring-type                    5\n",
       "spore-print-color            9\n",
       "population                   6\n",
       "habitat                      7\n",
       "dtype: int64"
      ]
     },
     "execution_count": 6,
     "metadata": {},
     "output_type": "execute_result"
    }
   ],
   "source": [
    "# Checkig the number of unique value in each column\n",
    "df.nunique()"
   ]
  },
  {
   "cell_type": "code",
   "execution_count": 7,
   "id": "2bd32688",
   "metadata": {
    "execution": {
     "iopub.execute_input": "2024-05-30T16:16:59.599773Z",
     "iopub.status.busy": "2024-05-30T16:16:59.598709Z",
     "iopub.status.idle": "2024-05-30T16:16:59.626606Z",
     "shell.execute_reply": "2024-05-30T16:16:59.625504Z"
    },
    "papermill": {
     "duration": 0.042243,
     "end_time": "2024-05-30T16:16:59.629091",
     "exception": false,
     "start_time": "2024-05-30T16:16:59.586848",
     "status": "completed"
    },
    "tags": []
   },
   "outputs": [
    {
     "data": {
      "text/html": [
       "<div>\n",
       "<style scoped>\n",
       "    .dataframe tbody tr th:only-of-type {\n",
       "        vertical-align: middle;\n",
       "    }\n",
       "\n",
       "    .dataframe tbody tr th {\n",
       "        vertical-align: top;\n",
       "    }\n",
       "\n",
       "    .dataframe thead th {\n",
       "        text-align: right;\n",
       "    }\n",
       "</style>\n",
       "<table border=\"1\" class=\"dataframe\">\n",
       "  <thead>\n",
       "    <tr style=\"text-align: right;\">\n",
       "      <th></th>\n",
       "      <th>class</th>\n",
       "      <th>cap-shape</th>\n",
       "      <th>cap-surface</th>\n",
       "      <th>cap-color</th>\n",
       "      <th>bruises</th>\n",
       "      <th>odor</th>\n",
       "      <th>gill-attachment</th>\n",
       "      <th>gill-spacing</th>\n",
       "      <th>gill-size</th>\n",
       "      <th>gill-color</th>\n",
       "      <th>...</th>\n",
       "      <th>stalk-surface-below-ring</th>\n",
       "      <th>stalk-color-above-ring</th>\n",
       "      <th>stalk-color-below-ring</th>\n",
       "      <th>veil-type</th>\n",
       "      <th>veil-color</th>\n",
       "      <th>ring-number</th>\n",
       "      <th>ring-type</th>\n",
       "      <th>spore-print-color</th>\n",
       "      <th>population</th>\n",
       "      <th>habitat</th>\n",
       "    </tr>\n",
       "  </thead>\n",
       "  <tbody>\n",
       "    <tr>\n",
       "      <th>716</th>\n",
       "      <td>e</td>\n",
       "      <td>b</td>\n",
       "      <td>s</td>\n",
       "      <td>w</td>\n",
       "      <td>t</td>\n",
       "      <td>l</td>\n",
       "      <td>f</td>\n",
       "      <td>c</td>\n",
       "      <td>b</td>\n",
       "      <td>k</td>\n",
       "      <td>...</td>\n",
       "      <td>s</td>\n",
       "      <td>w</td>\n",
       "      <td>w</td>\n",
       "      <td>p</td>\n",
       "      <td>w</td>\n",
       "      <td>o</td>\n",
       "      <td>p</td>\n",
       "      <td>n</td>\n",
       "      <td>s</td>\n",
       "      <td>m</td>\n",
       "    </tr>\n",
       "    <tr>\n",
       "      <th>6469</th>\n",
       "      <td>p</td>\n",
       "      <td>k</td>\n",
       "      <td>s</td>\n",
       "      <td>n</td>\n",
       "      <td>f</td>\n",
       "      <td>f</td>\n",
       "      <td>f</td>\n",
       "      <td>c</td>\n",
       "      <td>n</td>\n",
       "      <td>b</td>\n",
       "      <td>...</td>\n",
       "      <td>s</td>\n",
       "      <td>p</td>\n",
       "      <td>w</td>\n",
       "      <td>p</td>\n",
       "      <td>w</td>\n",
       "      <td>o</td>\n",
       "      <td>e</td>\n",
       "      <td>w</td>\n",
       "      <td>v</td>\n",
       "      <td>l</td>\n",
       "    </tr>\n",
       "    <tr>\n",
       "      <th>1173</th>\n",
       "      <td>e</td>\n",
       "      <td>x</td>\n",
       "      <td>f</td>\n",
       "      <td>n</td>\n",
       "      <td>f</td>\n",
       "      <td>n</td>\n",
       "      <td>f</td>\n",
       "      <td>c</td>\n",
       "      <td>n</td>\n",
       "      <td>g</td>\n",
       "      <td>...</td>\n",
       "      <td>s</td>\n",
       "      <td>w</td>\n",
       "      <td>w</td>\n",
       "      <td>p</td>\n",
       "      <td>w</td>\n",
       "      <td>o</td>\n",
       "      <td>p</td>\n",
       "      <td>k</td>\n",
       "      <td>v</td>\n",
       "      <td>u</td>\n",
       "    </tr>\n",
       "    <tr>\n",
       "      <th>3598</th>\n",
       "      <td>e</td>\n",
       "      <td>f</td>\n",
       "      <td>y</td>\n",
       "      <td>n</td>\n",
       "      <td>t</td>\n",
       "      <td>n</td>\n",
       "      <td>f</td>\n",
       "      <td>c</td>\n",
       "      <td>b</td>\n",
       "      <td>n</td>\n",
       "      <td>...</td>\n",
       "      <td>s</td>\n",
       "      <td>p</td>\n",
       "      <td>g</td>\n",
       "      <td>p</td>\n",
       "      <td>w</td>\n",
       "      <td>o</td>\n",
       "      <td>p</td>\n",
       "      <td>k</td>\n",
       "      <td>y</td>\n",
       "      <td>d</td>\n",
       "    </tr>\n",
       "    <tr>\n",
       "      <th>735</th>\n",
       "      <td>e</td>\n",
       "      <td>b</td>\n",
       "      <td>y</td>\n",
       "      <td>w</td>\n",
       "      <td>t</td>\n",
       "      <td>a</td>\n",
       "      <td>f</td>\n",
       "      <td>c</td>\n",
       "      <td>b</td>\n",
       "      <td>w</td>\n",
       "      <td>...</td>\n",
       "      <td>s</td>\n",
       "      <td>w</td>\n",
       "      <td>w</td>\n",
       "      <td>p</td>\n",
       "      <td>w</td>\n",
       "      <td>o</td>\n",
       "      <td>p</td>\n",
       "      <td>n</td>\n",
       "      <td>s</td>\n",
       "      <td>g</td>\n",
       "    </tr>\n",
       "  </tbody>\n",
       "</table>\n",
       "<p>5 rows × 23 columns</p>\n",
       "</div>"
      ],
      "text/plain": [
       "     class cap-shape cap-surface cap-color bruises odor gill-attachment  \\\n",
       "716      e         b           s         w       t    l               f   \n",
       "6469     p         k           s         n       f    f               f   \n",
       "1173     e         x           f         n       f    n               f   \n",
       "3598     e         f           y         n       t    n               f   \n",
       "735      e         b           y         w       t    a               f   \n",
       "\n",
       "     gill-spacing gill-size gill-color  ... stalk-surface-below-ring  \\\n",
       "716             c         b          k  ...                        s   \n",
       "6469            c         n          b  ...                        s   \n",
       "1173            c         n          g  ...                        s   \n",
       "3598            c         b          n  ...                        s   \n",
       "735             c         b          w  ...                        s   \n",
       "\n",
       "     stalk-color-above-ring stalk-color-below-ring veil-type veil-color  \\\n",
       "716                       w                      w         p          w   \n",
       "6469                      p                      w         p          w   \n",
       "1173                      w                      w         p          w   \n",
       "3598                      p                      g         p          w   \n",
       "735                       w                      w         p          w   \n",
       "\n",
       "     ring-number ring-type spore-print-color population habitat  \n",
       "716            o         p                 n          s       m  \n",
       "6469           o         e                 w          v       l  \n",
       "1173           o         p                 k          v       u  \n",
       "3598           o         p                 k          y       d  \n",
       "735            o         p                 n          s       g  \n",
       "\n",
       "[5 rows x 23 columns]"
      ]
     },
     "execution_count": 7,
     "metadata": {},
     "output_type": "execute_result"
    }
   ],
   "source": [
    "df.sample(5)"
   ]
  },
  {
   "cell_type": "code",
   "execution_count": 8,
   "id": "66c4f058",
   "metadata": {
    "execution": {
     "iopub.execute_input": "2024-05-30T16:16:59.674745Z",
     "iopub.status.busy": "2024-05-30T16:16:59.673907Z",
     "iopub.status.idle": "2024-05-30T16:16:59.685598Z",
     "shell.execute_reply": "2024-05-30T16:16:59.684716Z"
    },
    "papermill": {
     "duration": 0.02633,
     "end_time": "2024-05-30T16:16:59.687992",
     "exception": false,
     "start_time": "2024-05-30T16:16:59.661662",
     "status": "completed"
    },
    "tags": []
   },
   "outputs": [],
   "source": [
    "# Dropping Veil-type column\n",
    "\n",
    "df = df.drop('veil-type',axis = 1)"
   ]
  },
  {
   "cell_type": "markdown",
   "id": "ac17bdfa",
   "metadata": {
    "execution": {
     "iopub.execute_input": "2024-05-16T09:32:24.176259Z",
     "iopub.status.busy": "2024-05-16T09:32:24.175382Z",
     "iopub.status.idle": "2024-05-16T09:32:24.607448Z",
     "shell.execute_reply": "2024-05-16T09:32:24.606120Z",
     "shell.execute_reply.started": "2024-05-16T09:32:24.176224Z"
    },
    "papermill": {
     "duration": 0.010509,
     "end_time": "2024-05-30T16:16:59.709302",
     "exception": false,
     "start_time": "2024-05-30T16:16:59.698793",
     "status": "completed"
    },
    "tags": []
   },
   "source": [
    "# Crammer's V Concepts and Implementation with loaded datasets"
   ]
  },
  {
   "cell_type": "markdown",
   "id": "46da149a",
   "metadata": {
    "papermill": {
     "duration": 0.010458,
     "end_time": "2024-05-30T16:16:59.730652",
     "exception": false,
     "start_time": "2024-05-30T16:16:59.720194",
     "status": "completed"
    },
    "tags": []
   },
   "source": [
    "**Crammer's V**\n",
    "\n",
    "An effect size metric for the chi-square test of independence is called Cramér's V. It gauges the degree of correlation between two category fields.\n",
    "\n",
    "Crammer's V is computed by taking the square root of the chi-squared statistic divided by the sample size and the minimum dimension minus 1:\n",
    "\n",
    "\n",
    "> $$ V = \\sqrt \\frac{\\varphi^{2}}{min(k-1 , r-1)} $$\n",
    "\n",
    "\n",
    "\n",
    "where:\n",
    "> $$ {\\varphi} {\\; is\\; the\\; phi \\;coefficient\\;} $$\n",
    "> $$ {\\chi^{2}} {\\; is\\; result \\; from\\; Pearson's\\; chi-squared\\; test\\;} $$\n",
    "> $$ {n} {\\; is\\; total\\; number \\; observation\\;} $$\n",
    "> $$ {k} {\\; numbers\\; of\\; column} $$\n",
    "> $$ {r} {\\; numbers\\; of\\; rows} $$\n",
    "\n",
    "Calculatig phi coefficient\n",
    "\n",
    "> $$ phiSq =  {\\frac{\\chi^{2}}{n}} $$\n",
    "\n",
    "\n",
    "> $$ \\varphi^{2} = \\max(0, phiSq - \\frac{(k-1)(r-1)}{(n-1)}) $$"
   ]
  },
  {
   "cell_type": "code",
   "execution_count": 9,
   "id": "62732018",
   "metadata": {
    "execution": {
     "iopub.execute_input": "2024-05-30T16:16:59.755157Z",
     "iopub.status.busy": "2024-05-30T16:16:59.754206Z",
     "iopub.status.idle": "2024-05-30T16:16:59.761353Z",
     "shell.execute_reply": "2024-05-30T16:16:59.760192Z"
    },
    "papermill": {
     "duration": 0.02143,
     "end_time": "2024-05-30T16:16:59.763518",
     "exception": false,
     "start_time": "2024-05-30T16:16:59.742088",
     "status": "completed"
    },
    "tags": []
   },
   "outputs": [],
   "source": [
    "def cramerV(data_crosstab):\n",
    "    total = data_crosstab.sum().sum()\n",
    "    chi2 = stats.chi2_contingency(data_crosstab)[0]\n",
    "    phi2 = chi2/total\n",
    "    r, k = data_crosstab.shape\n",
    "\n",
    "    phi2corr = max(0,phi2-((k-1)*(r-1))/(total-1))\n",
    "    rcorr = r-((r-1)**2)/(total-1)\n",
    "    kcorr = k-((k-1)**2)/(total-1)\n",
    "    return np.sqrt(phi2corr / min((kcorr-1), (rcorr-1)))    "
   ]
  },
  {
   "cell_type": "code",
   "execution_count": 10,
   "id": "87a44787",
   "metadata": {
    "execution": {
     "iopub.execute_input": "2024-05-30T16:16:59.787821Z",
     "iopub.status.busy": "2024-05-30T16:16:59.787106Z",
     "iopub.status.idle": "2024-05-30T16:16:59.980549Z",
     "shell.execute_reply": "2024-05-30T16:16:59.979314Z"
    },
    "papermill": {
     "duration": 0.208372,
     "end_time": "2024-05-30T16:16:59.983238",
     "exception": false,
     "start_time": "2024-05-30T16:16:59.774866",
     "status": "completed"
    },
    "tags": []
   },
   "outputs": [],
   "source": [
    "#  Storing the result in dictionary after calculation of cramer value of every columns with target i.e class\n",
    "\n",
    "cramerValue = {}\n",
    "\n",
    "for col in df.columns:\n",
    "    data_crosstab = pd.crosstab(df[col], df['class'])\n",
    "    data = cramerV(data_crosstab)\n",
    "    cramerValue[col] = data"
   ]
  },
  {
   "cell_type": "code",
   "execution_count": 11,
   "id": "a1fa0f1d",
   "metadata": {
    "execution": {
     "iopub.execute_input": "2024-05-30T16:17:00.007739Z",
     "iopub.status.busy": "2024-05-30T16:17:00.007310Z",
     "iopub.status.idle": "2024-05-30T16:17:00.019661Z",
     "shell.execute_reply": "2024-05-30T16:17:00.018505Z"
    },
    "papermill": {
     "duration": 0.027286,
     "end_time": "2024-05-30T16:17:00.022054",
     "exception": false,
     "start_time": "2024-05-30T16:16:59.994768",
     "status": "completed"
    },
    "tags": []
   },
   "outputs": [],
   "source": [
    "# Storing values from cramerValue in dataset so that data vizualization would be efficient\n",
    "cv = pd.DataFrame()\n",
    "cv['values'] = cramerValue.values()\n",
    "cv['key'] = cramerValue.keys()\n",
    "cv.set_index('key', inplace=True)\n",
    "cv_sorted_val = cv.sort_values(by='values').T"
   ]
  },
  {
   "cell_type": "code",
   "execution_count": 12,
   "id": "dda69ff5",
   "metadata": {
    "execution": {
     "iopub.execute_input": "2024-05-30T16:17:00.045988Z",
     "iopub.status.busy": "2024-05-30T16:17:00.045593Z",
     "iopub.status.idle": "2024-05-30T16:17:00.675905Z",
     "shell.execute_reply": "2024-05-30T16:17:00.674658Z"
    },
    "papermill": {
     "duration": 0.645561,
     "end_time": "2024-05-30T16:17:00.678926",
     "exception": false,
     "start_time": "2024-05-30T16:17:00.033365",
     "status": "completed"
    },
    "tags": []
   },
   "outputs": [
    {
     "data": {
      "text/plain": [
       "<Axes: xlabel='key'>"
      ]
     },
     "execution_count": 12,
     "metadata": {},
     "output_type": "execute_result"
    },
    {
     "data": {
      "image/png": "[encoded data removed]",
      "text/plain": [
       "<Figure size 2000x100 with 2 Axes>"
      ]
     },
     "metadata": {},
     "output_type": "display_data"
    }
   ],
   "source": [
    "sns.set_theme()\n",
    "plt.figure(figsize=(20,1))\n",
    "sns.heatmap(cv_sorted_val, annot=True)"
   ]
  },
  {
   "cell_type": "markdown",
   "id": "c1618dbe",
   "metadata": {
    "papermill": {
     "duration": 0.012268,
     "end_time": "2024-05-30T16:17:00.703324",
     "exception": false,
     "start_time": "2024-05-30T16:17:00.691056",
     "status": "completed"
    },
    "tags": []
   },
   "source": [
    "**Insights**\n",
    "- Only 3 column are strongly corelated with our target/class\n",
    "- Lets check how much co relation occurs between gill-color, spore-print-color and order with one another\n",
    "    - we can see that:\n",
    "        - odor and spore-print-color are corelated with the score 0.3953\n",
    "        - odor and gill-color are corelated with the score 0.388\n",
    "        - spore-print-color and gill-color are corelated with the score 0.4840\n",
    "        "
   ]
  },
  {
   "cell_type": "markdown",
   "id": "5c4f8cf3",
   "metadata": {
    "papermill": {
     "duration": 0.011717,
     "end_time": "2024-05-30T16:17:00.727249",
     "exception": false,
     "start_time": "2024-05-30T16:17:00.715532",
     "status": "completed"
    },
    "tags": []
   },
   "source": [
    "# Create New dataset with high Crammer's value"
   ]
  },
  {
   "cell_type": "code",
   "execution_count": 13,
   "id": "8a1530fb",
   "metadata": {
    "execution": {
     "iopub.execute_input": "2024-05-30T16:17:00.754061Z",
     "iopub.status.busy": "2024-05-30T16:17:00.753278Z",
     "iopub.status.idle": "2024-05-30T16:17:00.771647Z",
     "shell.execute_reply": "2024-05-30T16:17:00.770361Z"
    },
    "papermill": {
     "duration": 0.034807,
     "end_time": "2024-05-30T16:17:00.774090",
     "exception": false,
     "start_time": "2024-05-30T16:17:00.739283",
     "status": "completed"
    },
    "tags": []
   },
   "outputs": [
    {
     "data": {
      "text/plain": [
       "0.4840832004820434"
      ]
     },
     "execution_count": 13,
     "metadata": {},
     "output_type": "execute_result"
    }
   ],
   "source": [
    "data_crosstab = pd.crosstab(df['spore-print-color'], df['gill-color'])\n",
    "data = cramerV(data_crosstab)\n",
    "data"
   ]
  },
  {
   "cell_type": "code",
   "execution_count": 14,
   "id": "60ca1be8",
   "metadata": {
    "execution": {
     "iopub.execute_input": "2024-05-30T16:17:00.800243Z",
     "iopub.status.busy": "2024-05-30T16:17:00.799827Z",
     "iopub.status.idle": "2024-05-30T16:17:00.817388Z",
     "shell.execute_reply": "2024-05-30T16:17:00.816372Z"
    },
    "papermill": {
     "duration": 0.033231,
     "end_time": "2024-05-30T16:17:00.819630",
     "exception": false,
     "start_time": "2024-05-30T16:17:00.786399",
     "status": "completed"
    },
    "tags": []
   },
   "outputs": [
    {
     "data": {
      "text/plain": [
       "0.38871224909583646"
      ]
     },
     "execution_count": 14,
     "metadata": {},
     "output_type": "execute_result"
    }
   ],
   "source": [
    "data_crosstab = pd.crosstab(df['gill-color'], df['odor'])\n",
    "data = cramerV(data_crosstab)\n",
    "data"
   ]
  },
  {
   "cell_type": "code",
   "execution_count": 15,
   "id": "c600783a",
   "metadata": {
    "execution": {
     "iopub.execute_input": "2024-05-30T16:17:00.845874Z",
     "iopub.status.busy": "2024-05-30T16:17:00.845458Z",
     "iopub.status.idle": "2024-05-30T16:17:00.863477Z",
     "shell.execute_reply": "2024-05-30T16:17:00.862382Z"
    },
    "papermill": {
     "duration": 0.033991,
     "end_time": "2024-05-30T16:17:00.865934",
     "exception": false,
     "start_time": "2024-05-30T16:17:00.831943",
     "status": "completed"
    },
    "tags": []
   },
   "outputs": [
    {
     "data": {
      "text/plain": [
       "0.3953398596906631"
      ]
     },
     "execution_count": 15,
     "metadata": {},
     "output_type": "execute_result"
    }
   ],
   "source": [
    "data_crosstab = pd.crosstab(df['odor'], df['spore-print-color'])\n",
    "data = cramerV(data_crosstab)\n",
    "data"
   ]
  },
  {
   "cell_type": "code",
   "execution_count": 16,
   "id": "60e348b1",
   "metadata": {
    "execution": {
     "iopub.execute_input": "2024-05-30T16:17:00.954997Z",
     "iopub.status.busy": "2024-05-30T16:17:00.953956Z",
     "iopub.status.idle": "2024-05-30T16:17:00.963460Z",
     "shell.execute_reply": "2024-05-30T16:17:00.962469Z"
    },
    "papermill": {
     "duration": 0.025513,
     "end_time": "2024-05-30T16:17:00.965776",
     "exception": false,
     "start_time": "2024-05-30T16:17:00.940263",
     "status": "completed"
    },
    "tags": []
   },
   "outputs": [],
   "source": [
    "# Creating new dataframe with the column which are highly co related\n",
    "new_df = pd.DataFrame()\n",
    "\n",
    "new_df['odor'] =df['odor']\n",
    "new_df['spore-print-color'] =df['spore-print-color']\n",
    "new_df['gill-color'] =df['gill-color']\n",
    "new_df['class'] =df['class']"
   ]
  },
  {
   "cell_type": "code",
   "execution_count": 17,
   "id": "0ad58d31",
   "metadata": {
    "execution": {
     "iopub.execute_input": "2024-05-30T16:17:00.993346Z",
     "iopub.status.busy": "2024-05-30T16:17:00.992612Z",
     "iopub.status.idle": "2024-05-30T16:17:01.003474Z",
     "shell.execute_reply": "2024-05-30T16:17:01.002479Z"
    },
    "papermill": {
     "duration": 0.027838,
     "end_time": "2024-05-30T16:17:01.006153",
     "exception": false,
     "start_time": "2024-05-30T16:17:00.978315",
     "status": "completed"
    },
    "tags": []
   },
   "outputs": [
    {
     "data": {
      "text/plain": [
       "odor                  9\n",
       "spore-print-color     9\n",
       "gill-color           12\n",
       "class                 2\n",
       "dtype: int64"
      ]
     },
     "execution_count": 17,
     "metadata": {},
     "output_type": "execute_result"
    }
   ],
   "source": [
    "# Getting Unique data in each column\n",
    "new_df.nunique()"
   ]
  },
  {
   "cell_type": "markdown",
   "id": "690a1cbf",
   "metadata": {
    "papermill": {
     "duration": 0.012392,
     "end_time": "2024-05-30T16:17:01.031494",
     "exception": false,
     "start_time": "2024-05-30T16:17:01.019102",
     "status": "completed"
    },
    "tags": []
   },
   "source": [
    "# Feature Engineering with newly created dataset"
   ]
  },
  {
   "cell_type": "markdown",
   "id": "fef15724",
   "metadata": {
    "papermill": {
     "duration": 0.012471,
     "end_time": "2024-05-30T16:17:01.056998",
     "exception": false,
     "start_time": "2024-05-30T16:17:01.044527",
     "status": "completed"
    },
    "tags": []
   },
   "source": [
    "**Working with Odor**"
   ]
  },
  {
   "cell_type": "code",
   "execution_count": 18,
   "id": "27d3e8fd",
   "metadata": {
    "execution": {
     "iopub.execute_input": "2024-05-30T16:17:01.084629Z",
     "iopub.status.busy": "2024-05-30T16:17:01.084182Z",
     "iopub.status.idle": "2024-05-30T16:17:01.491761Z",
     "shell.execute_reply": "2024-05-30T16:17:01.490625Z"
    },
    "papermill": {
     "duration": 0.424517,
     "end_time": "2024-05-30T16:17:01.494252",
     "exception": false,
     "start_time": "2024-05-30T16:17:01.069735",
     "status": "completed"
    },
    "tags": []
   },
   "outputs": [
    {
     "data": {
      "text/plain": [
       "<Axes: xlabel='odor', ylabel='count'>"
      ]
     },
     "execution_count": 18,
     "metadata": {},
     "output_type": "execute_result"
    },
    {
     "data": {
      "image/png": "[encoded data removed]",
      "text/plain": [
       "<Figure size 640x480 with 1 Axes>"
      ]
     },
     "metadata": {},
     "output_type": "display_data"
    }
   ],
   "source": [
    "# new_df.groupby('odor')['class'].value_counts()\n",
    "sns.countplot(x=\"odor\",data=new_df, hue='class')"
   ]
  },
  {
   "cell_type": "code",
   "execution_count": 19,
   "id": "f7216c28",
   "metadata": {
    "execution": {
     "iopub.execute_input": "2024-05-30T16:17:01.524296Z",
     "iopub.status.busy": "2024-05-30T16:17:01.523517Z",
     "iopub.status.idle": "2024-05-30T16:17:01.836835Z",
     "shell.execute_reply": "2024-05-30T16:17:01.835724Z"
    },
    "papermill": {
     "duration": 0.331456,
     "end_time": "2024-05-30T16:17:01.839505",
     "exception": false,
     "start_time": "2024-05-30T16:17:01.508049",
     "status": "completed"
    },
    "tags": []
   },
   "outputs": [
    {
     "data": {
      "text/plain": [
       "<Axes: xlabel='odor', ylabel='count'>"
      ]
     },
     "execution_count": 19,
     "metadata": {},
     "output_type": "execute_result"
    },
    {
     "data": {
      "image/png": "[encoded data removed]",
      "text/plain": [
       "<Figure size 640x480 with 1 Axes>"
      ]
     },
     "metadata": {},
     "output_type": "display_data"
    }
   ],
   "source": [
    "# Output of all ['p','f','c','y','s','m'] is poisionious and output of all ['a','l'] is edible. So renaming them with one unique value respwctively\n",
    "new_df['odor'] = new_df['odor'].replace(['p','f','c','y','s','m'], 'c')\n",
    "new_df['odor'] = new_df['odor'].replace(['a','l'], 'b')\n",
    "\n",
    "# Then output would look like:\n",
    "# This will help to reduce colum during one hot encoding\n",
    "sns.countplot(x=\"odor\",data=new_df, hue='class')"
   ]
  },
  {
   "cell_type": "markdown",
   "id": "7716309f",
   "metadata": {
    "papermill": {
     "duration": 0.013914,
     "end_time": "2024-05-30T16:17:01.867098",
     "exception": false,
     "start_time": "2024-05-30T16:17:01.853184",
     "status": "completed"
    },
    "tags": []
   },
   "source": [
    "**Working with gill-color**"
   ]
  },
  {
   "cell_type": "code",
   "execution_count": 20,
   "id": "0e30749e",
   "metadata": {
    "execution": {
     "iopub.execute_input": "2024-05-30T16:17:01.896593Z",
     "iopub.status.busy": "2024-05-30T16:17:01.896146Z",
     "iopub.status.idle": "2024-05-30T16:17:01.901330Z",
     "shell.execute_reply": "2024-05-30T16:17:01.900031Z"
    },
    "papermill": {
     "duration": 0.022603,
     "end_time": "2024-05-30T16:17:01.903648",
     "exception": false,
     "start_time": "2024-05-30T16:17:01.881045",
     "status": "completed"
    },
    "tags": []
   },
   "outputs": [],
   "source": [
    "# new_df.groupby('gill-color')['class'].value_counts()\n",
    "# sns.countplot(x=\"gill-color\",data=new_df, hue='class')"
   ]
  },
  {
   "cell_type": "code",
   "execution_count": 21,
   "id": "3a984c55",
   "metadata": {
    "execution": {
     "iopub.execute_input": "2024-05-30T16:17:01.932801Z",
     "iopub.status.busy": "2024-05-30T16:17:01.932335Z",
     "iopub.status.idle": "2024-05-30T16:17:01.939524Z",
     "shell.execute_reply": "2024-05-30T16:17:01.938374Z"
    },
    "papermill": {
     "duration": 0.02474,
     "end_time": "2024-05-30T16:17:01.942048",
     "exception": false,
     "start_time": "2024-05-30T16:17:01.917308",
     "status": "completed"
    },
    "tags": []
   },
   "outputs": [],
   "source": [
    "# new_df['gill-color'] = new_df['gill-color'].replace(['b','r'], 'f')\n",
    "# new_df['gill-color'] = new_df['gill-color'].replace(['e','o'], 'q')\n",
    "# new_df['gill-color'] = new_df['gill-color'].replace(['k','w','y'], 'z')\n",
    "# new_df['gill-color'] = new_df['gill-color'].replace(['u','n'], 'u')\n",
    "# new_df['gill-color'] = new_df['gill-color'].replace(['g','h'], 'h')\n",
    "\n",
    "# sns.countplot(x=\"gill-color\",data=new_df, hue='class')\n",
    "\n",
    "# Accuracy, precision recall remain same even if this column is removed\n",
    "new_df.drop('gill-color', axis=1, inplace = True)"
   ]
  },
  {
   "cell_type": "markdown",
   "id": "3ccb0d70",
   "metadata": {
    "execution": {
     "iopub.execute_input": "2024-05-15T09:24:54.560885Z",
     "iopub.status.busy": "2024-05-15T09:24:54.560569Z",
     "iopub.status.idle": "2024-05-15T09:24:54.574017Z",
     "shell.execute_reply": "2024-05-15T09:24:54.572847Z",
     "shell.execute_reply.started": "2024-05-15T09:24:54.560858Z"
    },
    "papermill": {
     "duration": 0.013644,
     "end_time": "2024-05-30T16:17:01.969625",
     "exception": false,
     "start_time": "2024-05-30T16:17:01.955981",
     "status": "completed"
    },
    "tags": []
   },
   "source": [
    "**Working With spore-print-color**"
   ]
  },
  {
   "cell_type": "code",
   "execution_count": 22,
   "id": "759c9fe5",
   "metadata": {
    "execution": {
     "iopub.execute_input": "2024-05-30T16:17:01.999399Z",
     "iopub.status.busy": "2024-05-30T16:17:01.998501Z",
     "iopub.status.idle": "2024-05-30T16:17:02.438075Z",
     "shell.execute_reply": "2024-05-30T16:17:02.436950Z"
    },
    "papermill": {
     "duration": 0.458116,
     "end_time": "2024-05-30T16:17:02.441568",
     "exception": false,
     "start_time": "2024-05-30T16:17:01.983452",
     "status": "completed"
    },
    "tags": []
   },
   "outputs": [
    {
     "data": {
      "text/plain": [
       "<Axes: xlabel='spore-print-color', ylabel='count'>"
      ]
     },
     "execution_count": 22,
     "metadata": {},
     "output_type": "execute_result"
    },
    {
     "data": {
      "image/png": "[encoded data removed]",
      "text/plain": [
       "<Figure size 640x480 with 1 Axes>"
      ]
     },
     "metadata": {},
     "output_type": "display_data"
    }
   ],
   "source": [
    "new_df.groupby('spore-print-color')['class'].value_counts()\n",
    "sns.countplot(x=\"spore-print-color\",data=new_df, hue='class')"
   ]
  },
  {
   "cell_type": "code",
   "execution_count": 23,
   "id": "cb826b33",
   "metadata": {
    "execution": {
     "iopub.execute_input": "2024-05-30T16:17:02.475896Z",
     "iopub.status.busy": "2024-05-30T16:17:02.474445Z",
     "iopub.status.idle": "2024-05-30T16:17:02.847186Z",
     "shell.execute_reply": "2024-05-30T16:17:02.845665Z"
    },
    "papermill": {
     "duration": 0.391257,
     "end_time": "2024-05-30T16:17:02.850002",
     "exception": false,
     "start_time": "2024-05-30T16:17:02.458745",
     "status": "completed"
    },
    "tags": []
   },
   "outputs": [
    {
     "data": {
      "text/plain": [
       "<Axes: xlabel='spore-print-color', ylabel='count'>"
      ]
     },
     "execution_count": 23,
     "metadata": {},
     "output_type": "execute_result"
    },
    {
     "data": {
      "image/png": "[encoded data removed]",
      "text/plain": [
       "<Figure size 640x480 with 1 Axes>"
      ]
     },
     "metadata": {},
     "output_type": "display_data"
    }
   ],
   "source": [
    "new_df['spore-print-color'] = new_df['spore-print-color'].replace(['u','o','y','b'], 'e')\n",
    "new_df['spore-print-color'] = new_df['spore-print-color'].replace(['k','n'], 'p')\n",
    "sns.countplot(x=\"spore-print-color\",data=new_df, hue='class')\n",
    "\n",
    "# new_df.drop('spore-print-color', axis=1, inplace = True)"
   ]
  },
  {
   "cell_type": "code",
   "execution_count": 24,
   "id": "681e5485",
   "metadata": {
    "execution": {
     "iopub.execute_input": "2024-05-30T16:17:02.885314Z",
     "iopub.status.busy": "2024-05-30T16:17:02.884235Z",
     "iopub.status.idle": "2024-05-30T16:17:02.898097Z",
     "shell.execute_reply": "2024-05-30T16:17:02.896783Z"
    },
    "papermill": {
     "duration": 0.034282,
     "end_time": "2024-05-30T16:17:02.901169",
     "exception": false,
     "start_time": "2024-05-30T16:17:02.866887",
     "status": "completed"
    },
    "tags": []
   },
   "outputs": [
    {
     "data": {
      "text/plain": [
       "odor                 3\n",
       "spore-print-color    5\n",
       "class                2\n",
       "dtype: int64"
      ]
     },
     "execution_count": 24,
     "metadata": {},
     "output_type": "execute_result"
    }
   ],
   "source": [
    "# Now the unique values of each column has reduced significantly\n",
    "\n",
    "new_df.nunique()"
   ]
  },
  {
   "cell_type": "markdown",
   "id": "1a7d7dfb",
   "metadata": {
    "papermill": {
     "duration": 0.017648,
     "end_time": "2024-05-30T16:17:02.934182",
     "exception": false,
     "start_time": "2024-05-30T16:17:02.916534",
     "status": "completed"
    },
    "tags": []
   },
   "source": [
    "# One hot Encoding and Label Encoding then split the dataset"
   ]
  },
  {
   "cell_type": "code",
   "execution_count": 25,
   "id": "18361103",
   "metadata": {
    "execution": {
     "iopub.execute_input": "2024-05-30T16:17:02.966253Z",
     "iopub.status.busy": "2024-05-30T16:17:02.965838Z",
     "iopub.status.idle": "2024-05-30T16:17:02.972392Z",
     "shell.execute_reply": "2024-05-30T16:17:02.971425Z"
    },
    "papermill": {
     "duration": 0.025178,
     "end_time": "2024-05-30T16:17:02.974582",
     "exception": false,
     "start_time": "2024-05-30T16:17:02.949404",
     "status": "completed"
    },
    "tags": []
   },
   "outputs": [],
   "source": [
    "y = new_df['class']\n",
    "X = new_df.drop(['class'], axis = 1)"
   ]
  },
  {
   "cell_type": "code",
   "execution_count": 26,
   "id": "7397c460",
   "metadata": {
    "execution": {
     "iopub.execute_input": "2024-05-30T16:17:03.006320Z",
     "iopub.status.busy": "2024-05-30T16:17:03.005918Z",
     "iopub.status.idle": "2024-05-30T16:17:03.014826Z",
     "shell.execute_reply": "2024-05-30T16:17:03.013766Z"
    },
    "papermill": {
     "duration": 0.027883,
     "end_time": "2024-05-30T16:17:03.017276",
     "exception": false,
     "start_time": "2024-05-30T16:17:02.989393",
     "status": "completed"
    },
    "tags": []
   },
   "outputs": [],
   "source": [
    "#Splitting the dataset\n",
    "X_train, X_test, y_train , y_test = train_test_split(X,y, test_size = 0.25, random_state=7)"
   ]
  },
  {
   "cell_type": "code",
   "execution_count": 27,
   "id": "b1f16f7e",
   "metadata": {
    "execution": {
     "iopub.execute_input": "2024-05-30T16:17:03.049318Z",
     "iopub.status.busy": "2024-05-30T16:17:03.048902Z",
     "iopub.status.idle": "2024-05-30T16:17:03.066098Z",
     "shell.execute_reply": "2024-05-30T16:17:03.064780Z"
    },
    "papermill": {
     "duration": 0.036,
     "end_time": "2024-05-30T16:17:03.068433",
     "exception": false,
     "start_time": "2024-05-30T16:17:03.032433",
     "status": "completed"
    },
    "tags": []
   },
   "outputs": [
    {
     "name": "stdout",
     "output_type": "stream",
     "text": [
      "[array(['b', 'c', 'n'], dtype=object), array(['e', 'h', 'p', 'r', 'w'], dtype=object)]\n",
      "___\n",
      "['odor_c' 'odor_n' 'spore-print-color_h' 'spore-print-color_p'\n",
      " 'spore-print-color_r' 'spore-print-color_w']\n"
     ]
    }
   ],
   "source": [
    "# One hot encoding\n",
    "\n",
    "ohe = OneHotEncoder(drop='first')\n",
    "data = ohe.fit_transform(X_train)\n",
    "\n",
    "print(ohe.categories_)\n",
    "print('___')\n",
    "print(ohe.get_feature_names_out())\n",
    "# pd.DataFrame(data.toarray(), columns = ohe.get_feature_names_out())\n",
    "\n",
    "data_test = ohe.transform(X_test)"
   ]
  },
  {
   "cell_type": "code",
   "execution_count": 28,
   "id": "0bfcde9e",
   "metadata": {
    "execution": {
     "iopub.execute_input": "2024-05-30T16:17:03.100133Z",
     "iopub.status.busy": "2024-05-30T16:17:03.099736Z",
     "iopub.status.idle": "2024-05-30T16:17:03.108880Z",
     "shell.execute_reply": "2024-05-30T16:17:03.107673Z"
    },
    "papermill": {
     "duration": 0.028078,
     "end_time": "2024-05-30T16:17:03.111538",
     "exception": false,
     "start_time": "2024-05-30T16:17:03.083460",
     "status": "completed"
    },
    "tags": []
   },
   "outputs": [
    {
     "name": "stdout",
     "output_type": "stream",
     "text": [
      "['e' 'p']\n",
      "___\n",
      "[0 1]\n"
     ]
    }
   ],
   "source": [
    "# Label Encoder for Output\n",
    "le = LabelEncoder()\n",
    "\n",
    "y_tr = le.fit_transform(y_train)\n",
    "y_te = le.transform(y_test)\n",
    "\n",
    "print(le.classes_)\n",
    "print('___')\n",
    "print(le.transform([\"e\", \"p\"]))"
   ]
  },
  {
   "cell_type": "markdown",
   "id": "667a7114",
   "metadata": {
    "papermill": {
     "duration": 0.014826,
     "end_time": "2024-05-30T16:17:03.141223",
     "exception": false,
     "start_time": "2024-05-30T16:17:03.126397",
     "status": "completed"
    },
    "tags": []
   },
   "source": [
    "# Create Model then fit and predict the data"
   ]
  },
  {
   "cell_type": "markdown",
   "id": "c0650ec7",
   "metadata": {
    "execution": {
     "iopub.execute_input": "2024-05-15T09:24:57.357263Z",
     "iopub.status.busy": "2024-05-15T09:24:57.356883Z",
     "iopub.status.idle": "2024-05-15T09:24:57.362637Z",
     "shell.execute_reply": "2024-05-15T09:24:57.361546Z",
     "shell.execute_reply.started": "2024-05-15T09:24:57.357225Z"
    },
    "papermill": {
     "duration": 0.014511,
     "end_time": "2024-05-30T16:17:03.170564",
     "exception": false,
     "start_time": "2024-05-30T16:17:03.156053",
     "status": "completed"
    },
    "tags": []
   },
   "source": [
    "**Creating and Testing Accuracy Model With KNN**"
   ]
  },
  {
   "cell_type": "code",
   "execution_count": 29,
   "id": "47511a7f",
   "metadata": {
    "execution": {
     "iopub.execute_input": "2024-05-30T16:17:03.202025Z",
     "iopub.status.busy": "2024-05-30T16:17:03.201664Z",
     "iopub.status.idle": "2024-05-30T16:17:03.424843Z",
     "shell.execute_reply": "2024-05-30T16:17:03.423887Z"
    },
    "papermill": {
     "duration": 0.24197,
     "end_time": "2024-05-30T16:17:03.427433",
     "exception": false,
     "start_time": "2024-05-30T16:17:03.185463",
     "status": "completed"
    },
    "tags": []
   },
   "outputs": [],
   "source": [
    "clf = KNeighborsClassifier(n_neighbors=10)\n",
    "clf.fit(data, y_tr)\n",
    "\n",
    "y_pred = clf.predict(data_test)"
   ]
  },
  {
   "cell_type": "code",
   "execution_count": 30,
   "id": "f62dcafb",
   "metadata": {
    "execution": {
     "iopub.execute_input": "2024-05-30T16:17:03.461106Z",
     "iopub.status.busy": "2024-05-30T16:17:03.460250Z",
     "iopub.status.idle": "2024-05-30T16:17:03.479161Z",
     "shell.execute_reply": "2024-05-30T16:17:03.477993Z"
    },
    "papermill": {
     "duration": 0.038209,
     "end_time": "2024-05-30T16:17:03.481898",
     "exception": false,
     "start_time": "2024-05-30T16:17:03.443689",
     "status": "completed"
    },
    "tags": []
   },
   "outputs": [
    {
     "name": "stdout",
     "output_type": "stream",
     "text": [
      "0.9940915805022157\n",
      "              precision    recall  f1-score   support\n",
      "\n",
      "           0       0.99      1.00      0.99      1042\n",
      "           1       1.00      0.99      0.99       989\n",
      "\n",
      "    accuracy                           0.99      2031\n",
      "   macro avg       0.99      0.99      0.99      2031\n",
      "weighted avg       0.99      0.99      0.99      2031\n",
      "\n",
      "[[1042    0]\n",
      " [  12  977]]\n"
     ]
    }
   ],
   "source": [
    "print(accuracy_score(y_te, y_pred))\n",
    "print(classification_report(y_te, y_pred))\n",
    "print(confusion_matrix(y_te, y_pred))"
   ]
  },
  {
   "cell_type": "markdown",
   "id": "9d5c4f89",
   "metadata": {
    "execution": {
     "iopub.execute_input": "2024-05-16T09:36:19.344139Z",
     "iopub.status.busy": "2024-05-16T09:36:19.343758Z",
     "iopub.status.idle": "2024-05-16T09:36:19.641176Z",
     "shell.execute_reply": "2024-05-16T09:36:19.639825Z",
     "shell.execute_reply.started": "2024-05-16T09:36:19.344110Z"
    },
    "papermill": {
     "duration": 0.015098,
     "end_time": "2024-05-30T16:17:03.511998",
     "exception": false,
     "start_time": "2024-05-30T16:17:03.496900",
     "status": "completed"
    },
    "tags": []
   },
   "source": [
    "**Creating and Testing Accuracy Model With RandomForestClassifier**"
   ]
  },
  {
   "cell_type": "code",
   "execution_count": 31,
   "id": "1122fd1b",
   "metadata": {
    "execution": {
     "iopub.execute_input": "2024-05-30T16:17:03.544258Z",
     "iopub.status.busy": "2024-05-30T16:17:03.543859Z",
     "iopub.status.idle": "2024-05-30T16:17:03.872301Z",
     "shell.execute_reply": "2024-05-30T16:17:03.871313Z"
    },
    "papermill": {
     "duration": 0.347322,
     "end_time": "2024-05-30T16:17:03.874907",
     "exception": false,
     "start_time": "2024-05-30T16:17:03.527585",
     "status": "completed"
    },
    "tags": []
   },
   "outputs": [],
   "source": [
    "random_forest = RandomForestClassifier()\n",
    "random_forest.fit(data, y_tr)\n",
    "\n",
    "ypred = random_forest.predict(data_test)"
   ]
  },
  {
   "cell_type": "code",
   "execution_count": 32,
   "id": "d7efaa9a",
   "metadata": {
    "execution": {
     "iopub.execute_input": "2024-05-30T16:17:03.907161Z",
     "iopub.status.busy": "2024-05-30T16:17:03.906357Z",
     "iopub.status.idle": "2024-05-30T16:17:03.924259Z",
     "shell.execute_reply": "2024-05-30T16:17:03.923185Z"
    },
    "papermill": {
     "duration": 0.036795,
     "end_time": "2024-05-30T16:17:03.926801",
     "exception": false,
     "start_time": "2024-05-30T16:17:03.890006",
     "status": "completed"
    },
    "tags": []
   },
   "outputs": [
    {
     "name": "stdout",
     "output_type": "stream",
     "text": [
      "0.9940915805022157\n",
      "              precision    recall  f1-score   support\n",
      "\n",
      "           0       0.99      1.00      0.99      1042\n",
      "           1       1.00      0.99      0.99       989\n",
      "\n",
      "    accuracy                           0.99      2031\n",
      "   macro avg       0.99      0.99      0.99      2031\n",
      "weighted avg       0.99      0.99      0.99      2031\n",
      "\n",
      "[[1042    0]\n",
      " [  12  977]]\n"
     ]
    }
   ],
   "source": [
    "print(accuracy_score(y_te, y_pred))\n",
    "print(classification_report(y_te, y_pred))\n",
    "print(confusion_matrix(y_te, y_pred))"
   ]
  },
  {
   "cell_type": "markdown",
   "id": "ecbf1a67",
   "metadata": {
    "papermill": {
     "duration": 0.014658,
     "end_time": "2024-05-30T16:17:03.956662",
     "exception": false,
     "start_time": "2024-05-30T16:17:03.942004",
     "status": "completed"
    },
    "tags": []
   },
   "source": [
    "# Intrepration of the Confusion Matrix"
   ]
  },
  {
   "cell_type": "markdown",
   "id": "3c032de1",
   "metadata": {
    "papermill": {
     "duration": 0.01476,
     "end_time": "2024-05-30T16:17:03.986517",
     "exception": false,
     "start_time": "2024-05-30T16:17:03.971757",
     "status": "completed"
    },
    "tags": []
   },
   "source": [
    "> **We marked: predicted as 0 and actual as 1**\n",
    " \n",
    " $$ Confusion \\; Matrix \\; of \\;sklearn \\; looks \\; like\\; :  $$\n",
    "  \\begin{bmatrix}\n",
    "     TN & FP \\\\\n",
    "     FN & TP\n",
    "  \\end{bmatrix}\n",
    "  \n",
    "  From our model We got:\n",
    "  \n",
    ">   False Positive (Type 1) error = 0\n",
    "\n",
    ">   False Negative (Type 2) error = 12\n",
    "\n",
    "Hence, 12 mushroom are found to be poissionious in real, but model has intrepted as the mushroom is edible.\n",
    "  \n",
    " "
   ]
  }
 ],
 "metadata": {
  "kaggle": {
   "accelerator": "none",
   "dataSources": [
    {
     "datasetId": 478,
     "sourceId": 974,
     "sourceType": "datasetVersion"
    }
   ],
   "dockerImageVersionId": 30664,
   "isGpuEnabled": false,
   "isInternetEnabled": true,
   "language": "python",
   "sourceType": "notebook"
  },
  "kernelspec": {
   "display_name": "Python 3",
   "language": "python",
   "name": "python3"
  },
  "language_info": {
   "codemirror_mode": {
    "name": "ipython",
    "version": 3
   },
   "file_extension": ".py",
   "mimetype": "text/x-python",
   "name": "python",
   "nbconvert_exporter": "python",
   "pygments_lexer": "ipython3",
   "version": "3.10.13"
  },
  "papermill": {
   "default_parameters": {},
   "duration": 11.09399,
   "end_time": "2024-05-30T16:17:04.722733",
   "environment_variables": {},
   "exception": null,
   "input_path": "__notebook__.ipynb",
   "output_path": "__notebook__.ipynb",
   "parameters": {},
   "start_time": "2024-05-30T16:16:53.628743",
   "version": "2.5.0"
  }
 },
 "nbformat": 4,
 "nbformat_minor": 5
}
