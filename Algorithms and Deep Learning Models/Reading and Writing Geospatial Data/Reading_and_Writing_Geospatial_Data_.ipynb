{
  "nbformat": 4,
  "nbformat_minor": 0,
  "metadata": {
    "colab": {
      "provenance": []
    },
    "kernelspec": {
      "name": "python3",
      "display_name": "Python 3"
    },
    "language_info": {
      "name": "python"
    }
  },
  "cells": [
    {
      "cell_type": "code",
      "execution_count": 1,
      "metadata": {
        "colab": {
          "base_uri": "https://localhost:8080/"
        },
        "id": "lCR9TSIo9ofe",
        "outputId": "ae82206d-3d24-4044-fe92-115f78ead320"
      },
      "outputs": [
        {
          "output_type": "stream",
          "name": "stderr",
          "text": [
            "<ipython-input-1-0542de255aa0>:4: FutureWarning: The geopandas.dataset module is deprecated and will be removed in GeoPandas 1.0. You can get the original 'naturalearth_lowres' data from https://www.naturalearthdata.com/downloads/110m-cultural-vectors/.\n",
            "  world = gpd.read_file(gpd.datasets.get_path('naturalearth_lowres'))\n"
          ]
        },
        {
          "output_type": "stream",
          "name": "stdout",
          "text": [
            "First few rows of the dataset:\n",
            "       pop_est      continent                      name iso_a3  gdp_md_est  \\\n",
            "0     889953.0        Oceania                      Fiji    FJI        5496   \n",
            "1   58005463.0         Africa                  Tanzania    TZA       63177   \n",
            "2     603253.0         Africa                 W. Sahara    ESH         907   \n",
            "3   37589262.0  North America                    Canada    CAN     1736425   \n",
            "4  328239523.0  North America  United States of America    USA    21433226   \n",
            "\n",
            "                                            geometry  \n",
            "0  MULTIPOLYGON (((180.00000 -16.06713, 180.00000...  \n",
            "1  POLYGON ((33.90371 -0.95000, 34.07262 -1.05982...  \n",
            "2  POLYGON ((-8.66559 27.65643, -8.66512 27.58948...  \n",
            "3  MULTIPOLYGON (((-122.84000 49.00000, -122.9742...  \n",
            "4  MULTIPOLYGON (((-122.84000 49.00000, -120.0000...  \n",
            "\n",
            "Selected countries saved to selected_countries.geojson\n"
          ]
        }
      ],
      "source": [
        "import geopandas as gpd\n",
        "\n",
        "# Load the Natural Earth dataset\n",
        "world = gpd.read_file(gpd.datasets.get_path('naturalearth_lowres'))\n",
        "\n",
        "# Display basic information about the dataset\n",
        "print(\"First few rows of the dataset:\")\n",
        "print(world.head())\n",
        "\n",
        "# Select only a few countries\n",
        "selected_countries = world[world['name'].isin(['Brazil', 'India', 'China', 'United States'])]\n",
        "\n",
        "# Save the selected countries to a GeoJSON file\n",
        "output_geojson = 'selected_countries.geojson'\n",
        "selected_countries.to_file(output_geojson, driver='GeoJSON')\n",
        "\n",
        "print(f\"\\nSelected countries saved to {output_geojson}\")\n"
      ]
    }
  ]
}