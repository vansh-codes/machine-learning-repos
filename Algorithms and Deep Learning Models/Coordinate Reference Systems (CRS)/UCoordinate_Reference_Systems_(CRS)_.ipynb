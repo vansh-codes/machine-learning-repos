{
  "nbformat": 4,
  "nbformat_minor": 0,
  "metadata": {
    "colab": {
      "provenance": []
    },
    "kernelspec": {
      "name": "python3",
      "display_name": "Python 3"
    },
    "language_info": {
      "name": "python"
    }
  },
  "cells": [
    {
      "cell_type": "code",
      "execution_count": 15,
      "metadata": {
        "colab": {
          "base_uri": "https://localhost:8080/"
        },
        "id": "H6auYqyaAem6",
        "outputId": "9a9f7865-992b-4132-d18c-0f2c5533ee34"
      },
      "outputs": [
        {
          "output_type": "stream",
          "name": "stdout",
          "text": [
            "EPSG:4326\n"
          ]
        }
      ],
      "source": [
        "from pyproj import CRS\n",
        "\n",
        "# Define a CRS using EPSG code (for example, EPSG:4326 for WGS84)\n",
        "crs = CRS.from_epsg(4326)\n",
        "\n",
        "# Print the CRS details\n",
        "print(crs)\n"
      ]
    },
    {
      "cell_type": "markdown",
      "source": [
        "Define and Print a CRS"
      ],
      "metadata": {
        "id": "EIzY4H7KBpdc"
      }
    },
    {
      "cell_type": "code",
      "source": [
        "from pyproj import CRS\n",
        "\n",
        "# Define a CRS using EPSG code (WGS84)\n",
        "crs = CRS.from_epsg(4326)\n",
        "\n",
        "# Print the CRS details\n",
        "print(crs)\n"
      ],
      "metadata": {
        "colab": {
          "base_uri": "https://localhost:8080/"
        },
        "id": "M0jcF7trBrcz",
        "outputId": "cbc9e180-50b4-4bd4-d487-0c1e42c36377"
      },
      "execution_count": 16,
      "outputs": [
        {
          "output_type": "stream",
          "name": "stdout",
          "text": [
            "EPSG:4326\n"
          ]
        }
      ]
    },
    {
      "cell_type": "markdown",
      "source": [
        "Transform Coordinates Between Two CRS"
      ],
      "metadata": {
        "id": "vYE_S6VkBtZO"
      }
    },
    {
      "cell_type": "code",
      "source": [
        "from pyproj import CRS, Transformer\n",
        "\n",
        "# Define the source and target CRS\n",
        "crs_wgs84 = CRS.from_epsg(4326)  # WGS84\n",
        "crs_utm33n = CRS.from_epsg(32633)  # UTM Zone 33N\n",
        "\n",
        "# Create a transformer object\n",
        "transformer = Transformer.from_crs(crs_wgs84, crs_utm33n)\n",
        "\n",
        "# Define a point in WGS84 coordinates (longitude, latitude)\n",
        "longitude, latitude = 12.4924, 41.8902  # Example: Coordinates of the Colosseum in Rome\n",
        "\n",
        "# Transform the point to UTM coordinates\n",
        "easting, northing = transformer.transform(latitude, longitude)\n",
        "\n",
        "print(f\"WGS84 Coordinates: ({longitude}, {latitude})\")\n",
        "print(f\"UTM Zone 33N Coordinates: ({easting}, {northing})\")\n"
      ],
      "metadata": {
        "colab": {
          "base_uri": "https://localhost:8080/"
        },
        "id": "Nw5JTOrTBvI_",
        "outputId": "9a761b33-fe0f-4702-f395-8354b6ca254f"
      },
      "execution_count": 17,
      "outputs": [
        {
          "output_type": "stream",
          "name": "stdout",
          "text": [
            "WGS84 Coordinates: (12.4924, 41.8902)\n",
            "UTM Zone 33N Coordinates: (291962.5878898157, 4640626.111926911)\n"
          ]
        }
      ]
    },
    {
      "cell_type": "markdown",
      "source": [
        "Define a Custom CRS"
      ],
      "metadata": {
        "id": "JNKaLUS-BxPM"
      }
    },
    {
      "cell_type": "code",
      "source": [
        "from pyproj import CRS\n",
        "\n",
        "# Define a custom CRS using a PROJ string\n",
        "proj_string = \"+proj=utm +zone=33 +datum=WGS84 +units=m +no_defs\"\n",
        "custom_crs = CRS.from_proj4(proj_string)\n",
        "\n",
        "# Print the custom CRS details\n",
        "print(custom_crs)\n"
      ],
      "metadata": {
        "colab": {
          "base_uri": "https://localhost:8080/"
        },
        "id": "0OeU3i92BzO0",
        "outputId": "fa8c9271-4e05-46ff-d072-26336071ca28"
      },
      "execution_count": 18,
      "outputs": [
        {
          "output_type": "stream",
          "name": "stdout",
          "text": [
            "+proj=utm +zone=33 +datum=WGS84 +units=m +no_defs +type=crs\n"
          ]
        }
      ]
    },
    {
      "cell_type": "markdown",
      "source": [
        " Getting CRS Information"
      ],
      "metadata": {
        "id": "1isP5LyzB1A-"
      }
    },
    {
      "cell_type": "code",
      "source": [
        "from pyproj import CRS\n",
        "\n",
        "# Define a CRS using EPSG code (WGS84)\n",
        "crs = CRS.from_epsg(4326)\n",
        "\n",
        "# Get various details about the CRS\n",
        "print(\"CRS Name:\", crs.name)\n",
        "print(\"CRS Axis Info:\", crs.axis_info)\n",
        "print(\"CRS Area of Use:\", crs.area_of_use)\n",
        "print(\"CRS Datum:\", crs.datum)\n",
        "print(\"CRS Ellipsoid:\", crs.ellipsoid)\n",
        "print(\"CRS Prime Meridian:\", crs.prime_meridian)\n"
      ],
      "metadata": {
        "colab": {
          "base_uri": "https://localhost:8080/"
        },
        "id": "_RYAmD4UB2iN",
        "outputId": "b99c6ddd-7187-4774-b451-150143b6810d"
      },
      "execution_count": 19,
      "outputs": [
        {
          "output_type": "stream",
          "name": "stdout",
          "text": [
            "CRS Name: WGS 84\n",
            "CRS Axis Info: [Axis(name=Geodetic latitude, abbrev=Lat, direction=north, unit_auth_code=EPSG, unit_code=9122, unit_name=degree), Axis(name=Geodetic longitude, abbrev=Lon, direction=east, unit_auth_code=EPSG, unit_code=9122, unit_name=degree)]\n",
            "CRS Area of Use: - name: World.\n",
            "- bounds: (-180.0, -90.0, 180.0, 90.0)\n",
            "CRS Datum: World Geodetic System 1984 ensemble\n",
            "CRS Ellipsoid: WGS 84\n",
            "CRS Prime Meridian: Greenwich\n"
          ]
        }
      ]
    },
    {
      "cell_type": "markdown",
      "source": [
        "List All Available EPSG Codes"
      ],
      "metadata": {
        "id": "JVUzK0k9B5GR"
      }
    },
    {
      "source": [
        "!pip install pyproj\n",
        "from pyproj import CRS\n",
        "\n",
        "# List some available EPSG codes\n",
        "# Note: Listing all codes would be very long\n",
        "for code in range(4326, 4330):  # Example range of codes\n",
        "    crs = CRS.from_authority(\"EPSG\", code)\n",
        "    print(crs.to_epsg())"
      ],
      "cell_type": "code",
      "metadata": {
        "colab": {
          "base_uri": "https://localhost:8080/"
        },
        "id": "Oi9MMjjeCRQV",
        "outputId": "16e63273-554c-4cc4-e19c-b66f6050e4ef"
      },
      "execution_count": 20,
      "outputs": [
        {
          "output_type": "stream",
          "name": "stdout",
          "text": [
            "Requirement already satisfied: pyproj in /usr/local/lib/python3.10/dist-packages (3.6.1)\n",
            "Requirement already satisfied: certifi in /usr/local/lib/python3.10/dist-packages (from pyproj) (2024.6.2)\n",
            "4326\n",
            "4327\n",
            "4328\n",
            "4329\n"
          ]
        }
      ]
    },
    {
      "cell_type": "markdown",
      "source": [
        "Plotting Coordinates on a Map"
      ],
      "metadata": {
        "id": "B8j24KQAB9PT"
      }
    },
    {
      "cell_type": "code",
      "source": [
        "import matplotlib.pyplot as plt\n",
        "from pyproj import CRS, Transformer\n",
        "\n",
        "# Define the CRS for WGS84 and UTM Zone 33N\n",
        "crs_wgs84 = CRS.from_epsg(4326)\n",
        "crs_utm33n = CRS.from_epsg(32633)\n",
        "\n",
        "# Create a transformer object\n",
        "transformer = Transformer.from_crs(crs_wgs84, crs_utm33n)\n",
        "\n",
        "# Define some points in WGS84 coordinates (longitude, latitude)\n",
        "points = [\n",
        "    (12.4924, 41.8902),  # Colosseum\n",
        "    (13.3603, 52.5145),  # Brandenburg Gate\n",
        "    (2.2945, 48.8584)    # Eiffel Tower\n",
        "]\n",
        "\n",
        "# Transform points to UTM coordinates\n",
        "utm_points = [transformer.transform(lat, lon) for lon, lat in points]\n",
        "\n",
        "# Extract easting and northing coordinates\n",
        "eastings, northings = zip(*utm_points)\n",
        "\n",
        "# Plot the points\n",
        "plt.figure()\n",
        "plt.scatter(eastings, northings, color='red')\n",
        "plt.title('Transformed Coordinates in UTM Zone 33N')\n",
        "plt.xlabel('Easting (meters)')\n",
        "plt.ylabel('Northing (meters)')\n",
        "plt.grid(True)\n",
        "plt.show()\n"
      ],
      "metadata": {
        "colab": {
          "base_uri": "https://localhost:8080/",
          "height": 472
        },
        "id": "QmpAw3xLCAAT",
        "outputId": "8583ca06-cec3-49f6-8a91-58d53d630ac8"
      },
      "execution_count": 21,
      "outputs": [
        {
          "output_type": "display_data",
          "data": {
            "text/plain": [
              "<Figure size 640x480 with 1 Axes>"
            ],
            "image/png": "[encoded data removed]"
          },
          "metadata": {}
        }
      ]
    }
  ]
}