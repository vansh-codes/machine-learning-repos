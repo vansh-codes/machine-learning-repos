{
  "cells": [
    {
      "cell_type": "code",
      "execution_count": null,
      "metadata": {
        "id": "tmYHT_frYOkH"
      },
      "outputs": [],
      "source": [
        "import os\n",
        "import pandas as pd\n",
        "import numpy as np\n",
        "import tensorflow as tf\n",
        "from tensorflow.keras.preprocessing.sequence import pad_sequences\n",
        "from tensorflow.keras.layers import Embedding, LSTM, Dense, Bidirectional\n",
        "from tensorflow.keras.preprocessing.text import Tokenizer\n",
        "from tensorflow.keras.models import Sequential\n",
        "from tensorflow.keras.optimizers import Adam\n",
        "import nltk\n",
        "import re"
      ]
    },
    {
      "cell_type": "code",
      "execution_count": null,
      "metadata": {
        "id": "7ZtFOW9zYhdz"
      },
      "outputs": [],
      "source": [
        "# Specify the filename\n",
        "input_file = 'holmes.txt'\n",
        "\n",
        "# Read the contents of the file\n",
        "with open(input_file, 'r', encoding='utf-8') as infile:\n",
        "    data = infile.read()"
      ]
    },
    {
      "cell_type": "code",
      "execution_count": null,
      "metadata": {
        "colab": {
          "base_uri": "https://localhost:8080/",
          "height": 36
        },
        "id": "TW9PkQ8MYlyt",
        "outputId": "45c90017-c864-438b-955d-b01f0a850dac"
      },
      "outputs": [
        {
          "output_type": "execute_result",
          "data": {
            "text/plain": [
              "\"*Project Gutenberg's Etext of Tom Swift And His Submarine Boat*\\n\\n#4 in the Victor Appleton's Tom Swi\""
            ],
            "application/vnd.google.colaboratory.intrinsic+json": {
              "type": "string"
            }
          },
          "metadata": {},
          "execution_count": 3
        }
      ],
      "source": [
        "data[:100] # view first few characters\n"
      ]
    },
    {
      "cell_type": "code",
      "execution_count": null,
      "metadata": {
        "id": "hzLlbnH8Ylvb"
      },
      "outputs": [],
      "source": [
        "# Limit data to 500000 characters\n",
        "data = data[:500000]"
      ]
    },
    {
      "cell_type": "code",
      "execution_count": null,
      "metadata": {
        "id": "AvsKOS1YYltF"
      },
      "outputs": [],
      "source": [
        "# Function to remove emojis and special characters from text\n",
        "def remove_emojis_and_special_characters(text):\n",
        "    # Remove emojis\n",
        "    emoji_pattern = re.compile(\"[\"\n",
        "                               u\"\\U0001F600-\\U0001F64F\"  # emoticons\n",
        "                               u\"\\U0001F300-\\U0001F5FF\"  # symbols & pictographs\n",
        "                               u\"\\U0001F680-\\U0001F6FF\"  # transport & map symbols\n",
        "                               u\"\\U0001F700-\\U0001F77F\"  # alchemical symbols\n",
        "                               u\"\\U0001F780-\\U0001F7FF\"  # Geometric Shapes Extended\n",
        "                               u\"\\U0001F800-\\U0001F8FF\"  # Supplemental Arrows-C\n",
        "                               u\"\\U0001F900-\\U0001F9FF\"  # Supplemental Symbols and Pictographs\n",
        "                               u\"\\U0001FA00-\\U0001FA6F\"  # Chess Symbols\n",
        "                               u\"\\U0001FA70-\\U0001FAFF\"  # Symbols and Pictographs Extended-A\n",
        "                               u\"\\U00002702-\\U000027B0\"  # Dingbats\n",
        "                               u\"\\U000024C2-\\U0001F251\"\n",
        "                               \"]+\", flags=re.UNICODE)\n",
        "\n",
        "    # Remove special characters\n",
        "    text = re.sub(r'[^a-zA-Z0-9\\s]', '', text)\n",
        "\n",
        "    # Remove extra spaces\n",
        "    text = re.sub(' +', ' ', text)\n",
        "\n",
        "    return text"
      ]
    },
    {
      "cell_type": "code",
      "execution_count": null,
      "metadata": {
        "id": "U9iUoCOXYlqZ"
      },
      "outputs": [],
      "source": [
        "# Preprocessing pipeline\n",
        "def preprocess_pipeline(data) -> 'list':\n",
        "    # Split by newline character\n",
        "    sentences = data.split('\\n')\n",
        "    for i in range(len(sentences)):\n",
        "        sentences[i] = remove_emojis_and_special_characters(sentences[i])\n",
        "    # Remove leading and trailing spaces\n",
        "    sentences = [s.strip() for s in sentences]\n",
        "    # Drop empty sentences\n",
        "    sentences = [s for s in sentences if len(s) > 0]\n",
        "    # Tokenization\n",
        "    tokenized = []\n",
        "    for sentence in sentences:\n",
        "        # Convert to lowercase\n",
        "        sentence = sentence.lower()\n",
        "        tokenized.append(sentence)\n",
        "    return tokenized\n",
        "\n",
        "# Tokenize sentences\n",
        "tokenized_sentences = preprocess_pipeline(data)"
      ]
    },
    {
      "cell_type": "code",
      "execution_count": null,
      "metadata": {
        "colab": {
          "base_uri": "https://localhost:8080/",
          "height": 53
        },
        "id": "4vuvqe_4Ylno",
        "outputId": "89d45bee-7d32-4c83-f5bf-05a2abb058ff"
      },
      "outputs": [
        {
          "output_type": "execute_result",
          "data": {
            "text/plain": [
              "'\\nn_gram example:\\n[3, 15, 8, 7, 20, 12, 6]\\n\\nFor the above sentece sentence, the code would generate the following n-gram sequences:\\n\\n[3, 15]\\n[3, 15, 8]\\n[3, 15, 8, 7]\\n[3, 15, 8, 7, 20]\\n[3, 15, 8, 7, 20, 12]\\n[3, 15, 8, 7, 20, 12, 6]\\n'"
            ],
            "application/vnd.google.colaboratory.intrinsic+json": {
              "type": "string"
            }
          },
          "metadata": {},
          "execution_count": 7
        }
      ],
      "source": [
        "\"\"\"\n",
        "What is an OOV Token?\n",
        "An out-of-vocabulary (OOV) token is a special token used in natural language processing (NLP) tasks to represent words that\n",
        "are not present in the vocabulary of the model or tokenizer. When a word that is not in the vocabulary is encountered during\n",
        "tokenization or text processing, it is replaced with the OOV token.\n",
        "\n",
        "Why Use an OOV Token?\n",
        "Using an OOV token helps handle unseen or unknown words during the training or inference phase of an NLP model.\n",
        "Instead of encountering errors or issues when encountering unknown words, the model can gracefully handle them by\n",
        "representing them with the OOV token. This is particularly useful when working with real-world data where the vocabulary\n",
        "of the model may not cover all possible words.\n",
        "\"\"\"\n",
        "# Tokenize words\n",
        "tokenizer = Tokenizer(oov_token='<oov>')\n",
        "tokenizer.fit_on_texts(tokenized_sentences)\n",
        "total_words = len(tokenizer.word_index) + 1\n",
        "# tokenizer.word_counts\n",
        "# tokenizer.word_index\n",
        "\"\"\"\n",
        "n_gram example:\n",
        "[3, 15, 8, 7, 20, 12, 6]\n",
        "\n",
        "For the above sentece sentence, the code would generate the following n-gram sequences:\n",
        "\n",
        "[3, 15]\n",
        "[3, 15, 8]\n",
        "[3, 15, 8, 7]\n",
        "[3, 15, 8, 7, 20]\n",
        "[3, 15, 8, 7, 20, 12]\n",
        "[3, 15, 8, 7, 20, 12, 6]\n",
        "\"\"\""
      ]
    },
    {
      "cell_type": "code",
      "execution_count": null,
      "metadata": {
        "id": "QHvDzgiUYlk_"
      },
      "outputs": [],
      "source": [
        "# Generate input sequences\n",
        "input_sequences = []\n",
        "for line in tokenized_sentences:\n",
        "    token_list = tokenizer.texts_to_sequences([line])[0]\n",
        "    for i in range(1, len(token_list)):\n",
        "        n_gram_sequence = token_list[:i + 1]\n",
        "        input_sequences.append(n_gram_sequence)\n",
        "\n",
        "# Pad sequences\n",
        "max_sequence_len = max([len(x) for x in input_sequences])\n",
        "input_sequences = np.array(pad_sequences(input_sequences, maxlen=max_sequence_len, padding='pre'))"
      ]
    },
    {
      "cell_type": "code",
      "execution_count": null,
      "metadata": {
        "id": "oSK9v5SPYliT"
      },
      "outputs": [],
      "source": [
        "# Creates labels with input sequences\n",
        "X,labels = input_sequences[:,:-1],input_sequences[:,-1]\n",
        "ys = tf.keras.utils.to_categorical(labels, num_classes=total_words)"
      ]
    },
    {
      "cell_type": "code",
      "execution_count": null,
      "metadata": {
        "id": "UG-uI5DCYlfw"
      },
      "outputs": [],
      "source": [
        "# Split data into training, validation, and test sets\n",
        "from sklearn.model_selection import train_test_split\n",
        "X_train_temp, X_val_test, y_train_temp, y_val_test = train_test_split(X, ys, test_size=0.2, random_state=42)\n",
        "X_val, X_test, y_val, y_test = train_test_split(X_val_test, y_val_test, test_size=0.5, random_state=42)"
      ]
    },
    {
      "cell_type": "code",
      "execution_count": null,
      "metadata": {
        "id": "IQmxI4-cYldT"
      },
      "outputs": [],
      "source": []
    },
    {
      "cell_type": "code",
      "execution_count": null,
      "metadata": {
        "colab": {
          "base_uri": "https://localhost:8080/"
        },
        "id": "MYZOm5m-ZPa6",
        "outputId": "f5ee6161-f429-4f12-9a60-7fcc8ace70c2"
      },
      "outputs": [
        {
          "output_type": "stream",
          "name": "stdout",
          "text": [
            "Epoch 1/50\n",
            "2002/2002 [==============================] - 207s 100ms/step - loss: 5.9273 - accuracy: 0.1183 - val_loss: 5.6264 - val_accuracy: 0.1421\n",
            "Epoch 2/50\n",
            "2002/2002 [==============================] - 198s 99ms/step - loss: 5.1526 - accuracy: 0.1575 - val_loss: 5.6284 - val_accuracy: 0.1484\n",
            "Epoch 3/50\n",
            "2002/2002 [==============================] - 195s 97ms/step - loss: 4.7077 - accuracy: 0.1770 - val_loss: 5.7264 - val_accuracy: 0.1596\n",
            "Epoch 4/50\n",
            "2002/2002 [==============================] - 193s 96ms/step - loss: 4.3655 - accuracy: 0.1940 - val_loss: 5.9505 - val_accuracy: 0.1524\n",
            "Epoch 5/50\n",
            "2002/2002 [==============================] - 199s 99ms/step - loss: 4.1017 - accuracy: 0.2092 - val_loss: 6.1562 - val_accuracy: 0.1524\n",
            "Epoch 6/50\n",
            "2002/2002 [==============================] - 202s 101ms/step - loss: 3.9170 - accuracy: 0.2232 - val_loss: 6.3632 - val_accuracy: 0.1551\n",
            "Epoch 7/50\n",
            "2002/2002 [==============================] - 199s 100ms/step - loss: 3.7799 - accuracy: 0.2351 - val_loss: 6.6129 - val_accuracy: 0.1495\n",
            "Epoch 8/50\n",
            "2002/2002 [==============================] - 196s 98ms/step - loss: 3.6759 - accuracy: 0.2444 - val_loss: 6.8459 - val_accuracy: 0.1524\n",
            "Epoch 9/50\n",
            "2002/2002 [==============================] - 199s 100ms/step - loss: 3.6024 - accuracy: 0.2499 - val_loss: 7.0435 - val_accuracy: 0.1501\n",
            "Epoch 10/50\n",
            "2002/2002 [==============================] - 199s 99ms/step - loss: 3.5428 - accuracy: 0.2565 - val_loss: 7.2554 - val_accuracy: 0.1535\n",
            "Epoch 11/50\n",
            "2002/2002 [==============================] - 195s 98ms/step - loss: 3.4961 - accuracy: 0.2607 - val_loss: 7.3585 - val_accuracy: 0.1484\n",
            "Epoch 12/50\n",
            "2002/2002 [==============================] - 198s 99ms/step - loss: 3.4613 - accuracy: 0.2641 - val_loss: 7.5169 - val_accuracy: 0.1480\n",
            "Epoch 13/50\n",
            "2002/2002 [==============================] - 195s 97ms/step - loss: 3.4335 - accuracy: 0.2679 - val_loss: 7.6891 - val_accuracy: 0.1506\n",
            "Epoch 14/50\n",
            "2002/2002 [==============================] - 200s 100ms/step - loss: 3.4032 - accuracy: 0.2729 - val_loss: 7.8776 - val_accuracy: 0.1414\n",
            "Epoch 15/50\n",
            "2002/2002 [==============================] - 193s 96ms/step - loss: 3.3991 - accuracy: 0.2717 - val_loss: 7.9529 - val_accuracy: 0.1490\n",
            "Epoch 16/50\n",
            "2002/2002 [==============================] - 194s 97ms/step - loss: 3.3825 - accuracy: 0.2764 - val_loss: 8.0442 - val_accuracy: 0.1450\n",
            "Epoch 17/50\n",
            "2002/2002 [==============================] - 195s 97ms/step - loss: 3.3979 - accuracy: 0.2735 - val_loss: 8.2251 - val_accuracy: 0.1413\n",
            "Epoch 18/50\n",
            "2002/2002 [==============================] - 197s 98ms/step - loss: 3.3610 - accuracy: 0.2780 - val_loss: 8.3189 - val_accuracy: 0.1474\n",
            "Epoch 19/50\n",
            "2002/2002 [==============================] - 199s 100ms/step - loss: 3.3448 - accuracy: 0.2786 - val_loss: 8.4608 - val_accuracy: 0.1410\n",
            "Epoch 20/50\n",
            "2002/2002 [==============================] - 195s 97ms/step - loss: 3.3426 - accuracy: 0.2807 - val_loss: 8.5679 - val_accuracy: 0.1394\n",
            "Epoch 21/50\n",
            "2002/2002 [==============================] - 198s 99ms/step - loss: 3.3251 - accuracy: 0.2841 - val_loss: 8.6691 - val_accuracy: 0.1396\n",
            "Epoch 22/50\n",
            "2002/2002 [==============================] - 195s 97ms/step - loss: 3.3116 - accuracy: 0.2853 - val_loss: 8.7929 - val_accuracy: 0.1440\n",
            "Epoch 23/50\n",
            "2002/2002 [==============================] - 194s 97ms/step - loss: 3.3242 - accuracy: 0.2840 - val_loss: 8.8767 - val_accuracy: 0.1388\n",
            "Epoch 24/50\n",
            "2002/2002 [==============================] - 191s 95ms/step - loss: 3.3065 - accuracy: 0.2848 - val_loss: 8.9837 - val_accuracy: 0.1480\n",
            "Epoch 25/50\n",
            "2002/2002 [==============================] - 196s 98ms/step - loss: 3.2859 - accuracy: 0.2885 - val_loss: 9.0485 - val_accuracy: 0.1430\n",
            "Epoch 26/50\n",
            "2002/2002 [==============================] - 192s 96ms/step - loss: 3.2808 - accuracy: 0.2895 - val_loss: 9.1276 - val_accuracy: 0.1449\n",
            "Epoch 27/50\n",
            "2002/2002 [==============================] - 199s 99ms/step - loss: 3.2832 - accuracy: 0.2895 - val_loss: 9.1711 - val_accuracy: 0.1366\n",
            "Epoch 28/50\n",
            "2002/2002 [==============================] - 197s 98ms/step - loss: 3.2796 - accuracy: 0.2927 - val_loss: 9.2133 - val_accuracy: 0.1366\n",
            "Epoch 29/50\n",
            "2002/2002 [==============================] - 203s 101ms/step - loss: 3.2968 - accuracy: 0.2903 - val_loss: 9.3255 - val_accuracy: 0.1381\n",
            "Epoch 30/50\n",
            "2002/2002 [==============================] - 197s 98ms/step - loss: 3.2973 - accuracy: 0.2908 - val_loss: 9.3631 - val_accuracy: 0.1420\n",
            "Epoch 31/50\n",
            "2002/2002 [==============================] - 193s 97ms/step - loss: 3.2854 - accuracy: 0.2939 - val_loss: 9.4826 - val_accuracy: 0.1414\n",
            "Epoch 32/50\n",
            "2002/2002 [==============================] - 186s 93ms/step - loss: 3.3068 - accuracy: 0.2935 - val_loss: 9.6208 - val_accuracy: 0.1395\n",
            "Epoch 33/50\n",
            "2002/2002 [==============================] - 198s 99ms/step - loss: 3.3153 - accuracy: 0.2918 - val_loss: 9.6283 - val_accuracy: 0.1403\n",
            "Epoch 34/50\n",
            "2002/2002 [==============================] - 199s 99ms/step - loss: 3.2942 - accuracy: 0.2940 - val_loss: 9.6742 - val_accuracy: 0.1375\n",
            "Epoch 35/50\n",
            "2002/2002 [==============================] - 194s 97ms/step - loss: 3.3000 - accuracy: 0.2957 - val_loss: 9.7396 - val_accuracy: 0.1419\n",
            "Epoch 36/50\n",
            "2002/2002 [==============================] - 201s 101ms/step - loss: 3.2915 - accuracy: 0.2958 - val_loss: 9.7994 - val_accuracy: 0.1380\n",
            "Epoch 37/50\n",
            "2002/2002 [==============================] - 198s 99ms/step - loss: 3.3058 - accuracy: 0.2941 - val_loss: 9.8878 - val_accuracy: 0.1351\n",
            "Epoch 38/50\n",
            "2002/2002 [==============================] - 202s 101ms/step - loss: 3.2879 - accuracy: 0.2966 - val_loss: 9.9711 - val_accuracy: 0.1364\n",
            "Epoch 39/50\n",
            "2002/2002 [==============================] - 197s 98ms/step - loss: 3.2998 - accuracy: 0.2962 - val_loss: 9.9073 - val_accuracy: 0.1361\n",
            "Epoch 40/50\n",
            "2002/2002 [==============================] - 198s 99ms/step - loss: 3.2814 - accuracy: 0.2986 - val_loss: 10.0453 - val_accuracy: 0.1384\n",
            "Epoch 41/50\n",
            "2002/2002 [==============================] - 199s 99ms/step - loss: 3.3182 - accuracy: 0.2953 - val_loss: 10.1432 - val_accuracy: 0.1414\n",
            "Epoch 42/50\n",
            "2002/2002 [==============================] - 198s 99ms/step - loss: 3.2734 - accuracy: 0.2963 - val_loss: 10.1210 - val_accuracy: 0.1404\n",
            "Epoch 43/50\n",
            "2002/2002 [==============================] - 200s 100ms/step - loss: 3.2630 - accuracy: 0.2981 - val_loss: 10.1533 - val_accuracy: 0.1356\n",
            "Epoch 44/50\n",
            "2002/2002 [==============================] - 200s 100ms/step - loss: 3.2633 - accuracy: 0.2983 - val_loss: 10.1986 - val_accuracy: 0.1370\n",
            "Epoch 45/50\n",
            "2002/2002 [==============================] - 201s 100ms/step - loss: 3.2650 - accuracy: 0.3011 - val_loss: 10.1791 - val_accuracy: 0.1433\n",
            "Epoch 46/50\n",
            "2002/2002 [==============================] - 202s 101ms/step - loss: 3.2644 - accuracy: 0.3009 - val_loss: 10.2893 - val_accuracy: 0.1386\n",
            "Epoch 47/50\n",
            "2002/2002 [==============================] - 208s 104ms/step - loss: 3.2661 - accuracy: 0.3013 - val_loss: 10.3461 - val_accuracy: 0.1433\n",
            "Epoch 48/50\n",
            "2002/2002 [==============================] - 196s 98ms/step - loss: 3.2548 - accuracy: 0.3040 - val_loss: 10.4355 - val_accuracy: 0.1365\n",
            "Epoch 49/50\n",
            "2002/2002 [==============================] - 201s 100ms/step - loss: 3.2765 - accuracy: 0.3036 - val_loss: 10.4215 - val_accuracy: 0.1390\n",
            "Epoch 50/50\n",
            "2002/2002 [==============================] - 196s 98ms/step - loss: 3.2819 - accuracy: 0.3013 - val_loss: 10.5161 - val_accuracy: 0.1386\n"
          ]
        }
      ],
      "source": [
        "# Define your model\n",
        "model = Sequential()\n",
        "model.add(Embedding(total_words, 100))\n",
        "model.add(Bidirectional(LSTM(150)))\n",
        "model.add(Dense(total_words, activation='softmax'))\n",
        "\n",
        "adam = Adam(learning_rate=0.01)\n",
        "model.compile(loss='categorical_crossentropy', optimizer=adam, metrics=['accuracy'])\n",
        "\n",
        "# Train the model\n",
        "history = model.fit(X_train_temp, y_train_temp, epochs=50, validation_data=(X_val, y_val), verbose=1)"
      ]
    },
    {
      "cell_type": "code",
      "execution_count": null,
      "metadata": {
        "id": "_0hbARrPZPXl"
      },
      "outputs": [],
      "source": []
    },
    {
      "cell_type": "code",
      "execution_count": null,
      "metadata": {
        "id": "DGro77-OZPVA"
      },
      "outputs": [],
      "source": [
        "# # Save model architecture as JSON file\n",
        "# from tensorflow.keras.models import model_from_json\n",
        "\n",
        "# model_json = model.to_json()\n",
        "# with open(\"lstm_model.json\", \"w\") as json_file:\n",
        "#     json_file.write(model_json)"
      ]
    },
    {
      "cell_type": "code",
      "execution_count": null,
      "metadata": {
        "id": "NgTI5bGVZPRJ"
      },
      "outputs": [],
      "source": [
        "# # Load model architecture from JSON file\n",
        "# from tensorflow.keras.models import model_from_json\n",
        "\n",
        "# with open(\"lstm_model.json\", \"r\") as json_file:\n",
        "#     loaded_model_json = json_file.read()\n",
        "\n",
        "# # Create model from loaded architecture\n",
        "# loaded_model = model_from_json(loaded_model_json)\n",
        "\n",
        "# print(\"Model architecture loaded successfully from JSON file.\")"
      ]
    },
    {
      "cell_type": "code",
      "execution_count": null,
      "metadata": {
        "id": "2HnKPEIiZPOC"
      },
      "outputs": [],
      "source": [
        "import matplotlib.pyplot as plt\n",
        "import seaborn as sns\n",
        "from sklearn.metrics import confusion_matrix"
      ]
    },
    {
      "cell_type": "code",
      "execution_count": null,
      "metadata": {
        "id": "b45aipKLZPLZ",
        "colab": {
          "base_uri": "https://localhost:8080/",
          "height": 927
        },
        "outputId": "2ef9954a-59b6-4cb7-809c-b2d7fe3e9c5e"
      },
      "outputs": [
        {
          "output_type": "display_data",
          "data": {
            "text/plain": [
              "<Figure size 640x480 with 1 Axes>"
            ],
            "image/png": "[encoded data removed]"
          },
          "metadata": {}
        },
        {
          "output_type": "display_data",
          "data": {
            "text/plain": [
              "<Figure size 640x480 with 1 Axes>"
            ],
            "image/png": "[encoded data removed]"
          },
          "metadata": {}
        }
      ],
      "source": [
        "# Plot Loss\n",
        "plt.plot(history.history['loss'], label='Training Loss')\n",
        "plt.plot(history.history['val_loss'], label='Validation Loss')\n",
        "plt.title('Training and Validation Loss')\n",
        "plt.xlabel('Epochs')\n",
        "plt.ylabel('Loss')\n",
        "plt.legend()\n",
        "plt.show()\n",
        "\n",
        "# Plot Accuracy\n",
        "plt.plot(history.history['accuracy'], label='Training Accuracy')\n",
        "plt.plot(history.history['val_accuracy'], label='Validation Accuracy')\n",
        "plt.title('Training and Validation Accuracy')\n",
        "plt.xlabel('Epochs')\n",
        "plt.ylabel('Accuracy')\n",
        "plt.legend()\n",
        "plt.show()"
      ]
    },
    {
      "cell_type": "code",
      "execution_count": null,
      "metadata": {
        "id": "E8xyORFBZPIv"
      },
      "outputs": [],
      "source": []
    },
    {
      "cell_type": "code",
      "execution_count": null,
      "metadata": {
        "id": "uK8lo45pZvZI"
      },
      "outputs": [],
      "source": [
        "def predict_top_five_words(model, tokenizer, seed_text):\n",
        "    token_list = tokenizer.texts_to_sequences([seed_text])[0]\n",
        "    token_list = pad_sequences([token_list], maxlen=max_sequence_len-1, padding='pre')\n",
        "    predicted = model.predict(token_list, verbose=0)\n",
        "    top_five_indexes = np.argsort(predicted[0])[::-1][:5]\n",
        "    top_five_words = []\n",
        "    for index in top_five_indexes:\n",
        "        for word, idx in tokenizer.word_index.items():\n",
        "            if idx == index:\n",
        "                top_five_words.append(word)\n",
        "                break\n",
        "    return top_five_words"
      ]
    },
    {
      "cell_type": "code",
      "execution_count": null,
      "metadata": {
        "id": "Ehhg6GaoZvVp"
      },
      "outputs": [],
      "source": [
        "from IPython.display import HTML\n",
        "\n",
        "def predict_top_five_words(model, tokenizer, seed_text):\n",
        "    token_list = tokenizer.texts_to_sequences([seed_text])[0]\n",
        "    token_list = pad_sequences([token_list], maxlen=max_sequence_len-1, padding='pre')\n",
        "    predicted = model.predict(token_list, verbose=0)\n",
        "    top_five_indexes = np.argsort(predicted[0])[::-1][:5]\n",
        "    top_five_words = []\n",
        "    for index in top_five_indexes:\n",
        "        for word, idx in tokenizer.word_index.items():\n",
        "            if idx == index:\n",
        "                top_five_words.append(word)\n",
        "                break\n",
        "    return top_five_words\n",
        "\n",
        "def predict_and_display_top_five_words(seed_text, model, tokenizer):\n",
        "    top_five_words = predict_top_five_words(model, tokenizer, seed_text)\n",
        "    heading_app = f\"<h1>Sentence AutoCompletion App With Five Outputs</h1>\"\n",
        "    output_text = f\"<ul>{''.join([f'<li>{seed_text} {word}</li>' for word in top_five_words])}</ul>\"\n",
        "    javascript_code = f\"\"\"\n",
        "    <script>\n",
        "        var newWindow = window.open(\"\", \"_blank\");\n",
        "        newWindow.document.write('<html><head><title>Top Five Words</title></head><body>{heading_app} <br> <hr> {output_text}</body></html>');\n",
        "    </script>\n",
        "    \"\"\"\n",
        "    return HTML(javascript_code)"
      ]
    },
    {
      "cell_type": "code",
      "execution_count": null,
      "metadata": {
        "id": "eukveDHOZvRi",
        "colab": {
          "base_uri": "https://localhost:8080/",
          "height": 17
        },
        "outputId": "5117a508-2fe6-4157-f5c9-a5412e46c05e"
      },
      "outputs": [
        {
          "output_type": "execute_result",
          "data": {
            "text/plain": [
              "<IPython.core.display.HTML object>"
            ],
            "text/html": [
              "\n",
              "    <script>\n",
              "        var newWindow = window.open(\"\", \"_blank\");\n",
              "        newWindow.document.write('<html><head><title>Top Five Words</title></head><body><h1>Sentence AutoCompletion App With Five Outputs</h1> <br> <hr> <ul><li>She is my name</li><li>She is my boy</li><li>She is my motor</li><li>She is my son</li><li>She is my government</li></ul></body></html>');\n",
              "    </script>\n",
              "    "
            ]
          },
          "metadata": {},
          "execution_count": 22
        }
      ],
      "source": [
        "# Test the function\n",
        "seed_text = \"She is my\"\n",
        "predict_and_display_top_five_words(seed_text, model, tokenizer)"
      ]
    },
    {
      "cell_type": "code",
      "execution_count": null,
      "metadata": {
        "id": "UwwH6CbpZvOx",
        "colab": {
          "base_uri": "https://localhost:8080/",
          "height": 17
        },
        "outputId": "e6f9e966-f1a9-44f7-c47f-49c9adfcd227"
      },
      "outputs": [
        {
          "output_type": "execute_result",
          "data": {
            "text/plain": [
              "<IPython.core.display.HTML object>"
            ],
            "text/html": [
              "\n",
              "    <script>\n",
              "        var newWindow = window.open(\"\", \"_blank\");\n",
              "        newWindow.document.write('<html><head><title>Top Five Words</title></head><body><h1>Sentence AutoCompletion App With Five Outputs</h1> <br> <hr> <ul><li>I have a</li><li>I have to</li><li>I have been</li><li>I have the</li><li>I have hummed</li></ul></body></html>');\n",
              "    </script>\n",
              "    "
            ]
          },
          "metadata": {},
          "execution_count": 23
        }
      ],
      "source": [
        "# Test 2:\n",
        "# Test the function\n",
        "seed_text = \"I have\"\n",
        "predict_and_display_top_five_words(seed_text,model, tokenizer)"
      ]
    },
    {
      "cell_type": "code",
      "execution_count": null,
      "metadata": {
        "id": "-TOZVrC8Z9K6",
        "colab": {
          "base_uri": "https://localhost:8080/",
          "height": 17
        },
        "outputId": "dabd4fbc-b537-43ae-f74a-27f9c06989f4"
      },
      "outputs": [
        {
          "output_type": "execute_result",
          "data": {
            "text/plain": [
              "<IPython.core.display.HTML object>"
            ],
            "text/html": [
              "\n",
              "    <script>\n",
              "        var newWindow = window.open(\"\", \"_blank\");\n",
              "        newWindow.document.write('<html><head><title>Top Five Words</title></head><body><h1>Sentence AutoCompletion App With Five Outputs</h1> <br> <hr> <ul><li>We love planning</li><li>We love valves</li><li>We love supplies</li><li>We love materials</li><li>We love venture</li></ul></body></html>');\n",
              "    </script>\n",
              "    "
            ]
          },
          "metadata": {},
          "execution_count": 25
        }
      ],
      "source": [
        "# Test 3:\n",
        "# Test the function\n",
        "seed_text = \"We love\"\n",
        "predict_and_display_top_five_words(seed_text,model , tokenizer)"
      ]
    },
    {
      "cell_type": "code",
      "execution_count": null,
      "metadata": {
        "id": "Ph4wyWfcZ9Hf",
        "colab": {
          "base_uri": "https://localhost:8080/",
          "height": 17
        },
        "outputId": "382f1989-8cdb-43fc-b860-4b4dcc4b0669"
      },
      "outputs": [
        {
          "output_type": "execute_result",
          "data": {
            "text/plain": [
              "<IPython.core.display.HTML object>"
            ],
            "text/html": [
              "\n",
              "    <script>\n",
              "        var newWindow = window.open(\"\", \"_blank\");\n",
              "        newWindow.document.write('<html><head><title>Top Five Words</title></head><body><h1>Sentence AutoCompletion App With Five Outputs</h1> <br> <hr> <ul><li>How are you</li><li>How are not</li><li>How are if</li><li>How are we</li><li>How are going</li></ul></body></html>');\n",
              "    </script>\n",
              "    "
            ]
          },
          "metadata": {},
          "execution_count": 26
        }
      ],
      "source": [
        "# Test 3:\n",
        "seed_text = \"How are\"\n",
        "predict_and_display_top_five_words(seed_text,model, tokenizer)"
      ]
    },
    {
      "cell_type": "code",
      "execution_count": null,
      "metadata": {
        "id": "Rxmo_-O2Z9Ep"
      },
      "outputs": [],
      "source": []
    }
  ],
  "metadata": {
    "colab": {
      "provenance": []
    },
    "kernelspec": {
      "display_name": "Python 3",
      "name": "python3"
    },
    "language_info": {
      "name": "python"
    }
  },
  "nbformat": 4,
  "nbformat_minor": 0
}