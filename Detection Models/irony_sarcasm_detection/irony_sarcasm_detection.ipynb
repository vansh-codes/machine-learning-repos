{
  "cells": [
    {
      "cell_type": "code",
      "execution_count": 1,
      "metadata": {
        "id": "OWacRd54hCgP"
      },
      "outputs": [],
      "source": [
        "import pandas as pd\n",
        "from sklearn.model_selection import train_test_split\n",
        "from sklearn.feature_extraction.text import CountVectorizer\n",
        "from sklearn.naive_bayes import MultinomialNB\n",
        "from sklearn.metrics import accuracy_score, classification_report, confusion_matrix\n",
        "import matplotlib.pyplot as plt\n",
        "from sklearn.linear_model import LogisticRegression\n",
        "from sklearn.ensemble import RandomForestClassifier\n",
        "import random\n",
        "import string\n",
        "import copy\n",
        "import re\n",
        "import numpy as np\n",
        "import seaborn as sns"
      ]
    },
    {
      "cell_type": "code",
      "execution_count": 2,
      "metadata": {
        "id": "Vv0nHYctnmqd",
        "colab": {
          "base_uri": "https://localhost:8080/"
        },
        "outputId": "507f9145-572f-4045-efc6-6d118d904089"
      },
      "outputs": [
        {
          "output_type": "stream",
          "name": "stdout",
          "text": [
            "Drive already mounted at /content/drive; to attempt to forcibly remount, call drive.mount(\"/content/drive\", force_remount=True).\n"
          ]
        }
      ],
      "source": [
        "from google.colab import drive\n",
        "drive.mount('/content/drive')"
      ]
    },
    {
      "cell_type": "code",
      "source": [
        "train = pd.read_csv(\"/content/drive/MyDrive/ml/irony_sarcasm_train.csv\")\n",
        "test = pd.read_csv(\"/content/drive/MyDrive/ml/irony_sarcasm_test.csv\")"
      ],
      "metadata": {
        "id": "nPit8xFK8mpN"
      },
      "execution_count": 3,
      "outputs": []
    },
    {
      "cell_type": "code",
      "source": [
        "train['class'].value_counts()"
      ],
      "metadata": {
        "colab": {
          "base_uri": "https://localhost:8080/"
        },
        "id": "en5bW9SwwtPO",
        "outputId": "1939111d-6614-403a-92b5-08d848dcb53e"
      },
      "execution_count": 4,
      "outputs": [
        {
          "output_type": "execute_result",
          "data": {
            "text/plain": [
              "figurative    21238\n",
              "irony         20894\n",
              "sarcasm       20681\n",
              "regular       18595\n",
              "Name: class, dtype: int64"
            ]
          },
          "metadata": {},
          "execution_count": 4
        }
      ]
    },
    {
      "cell_type": "code",
      "source": [
        "test['class'].value_counts()"
      ],
      "metadata": {
        "colab": {
          "base_uri": "https://localhost:8080/"
        },
        "id": "iuW9Lu7_wurG",
        "outputId": "0d7fe922-4c7f-4fc7-c7c0-2fbb10375e39"
      },
      "execution_count": 5,
      "outputs": [
        {
          "output_type": "execute_result",
          "data": {
            "text/plain": [
              "irony         2111\n",
              "sarcasm       2105\n",
              "figurative    2044\n",
              "regular       1859\n",
              "Name: class, dtype: int64"
            ]
          },
          "metadata": {},
          "execution_count": 5
        }
      ]
    },
    {
      "cell_type": "code",
      "source": [
        "# train.groupby('class').size().plot(kind='barh', color=sns.palettes.mpl_palette('Dark2'))\n",
        "# plt.gca().spines[['top', 'right',]].set_visible(False)\n",
        "fig, ax = plt.subplots(1, 2, figsize=(22, 6))\n",
        "sns.countplot(train['class'], ax = ax[0])\n",
        "sns.countplot(test['class'], ax = ax[1])\n",
        "ax[0].set_title('Training', size=19)\n",
        "ax[1].set_title('Testing', size=19)\n",
        "plt.show()"
      ],
      "metadata": {
        "colab": {
          "base_uri": "https://localhost:8080/",
          "height": 446
        },
        "id": "kRsz8jifD3P4",
        "outputId": "3811fd41-d37f-4a60-e9d1-88831b49ea95"
      },
      "execution_count": 6,
      "outputs": [
        {
          "output_type": "display_data",
          "data": {
            "text/plain": [
              "<Figure size 2200x600 with 2 Axes>"
            ],
            "image/png": "[encoded data removed]"
          },
          "metadata": {}
        }
      ]
    },
    {
      "cell_type": "code",
      "source": [
        "print(f'Shape of the training dataset is : {train.shape}')\n",
        "print(f'Shape of the testing dataset is : {test.shape}')"
      ],
      "metadata": {
        "colab": {
          "base_uri": "https://localhost:8080/"
        },
        "id": "5oAc1ANyxb5i",
        "outputId": "a483c6cd-d29e-4da4-f34f-e412b2adc720"
      },
      "execution_count": 7,
      "outputs": [
        {
          "output_type": "stream",
          "name": "stdout",
          "text": [
            "Shape of the training dataset is : (81408, 2)\n",
            "Shape of the testing dataset is : (8128, 2)\n"
          ]
        }
      ]
    },
    {
      "cell_type": "code",
      "source": [
        "value_to_remove1='figurative'"
      ],
      "metadata": {
        "id": "ztbOFoMvD4Fa"
      },
      "execution_count": 8,
      "outputs": []
    },
    {
      "cell_type": "code",
      "source": [
        "train=train[train['class']!=value_to_remove1]\n",
        "test=test[test['class']!=value_to_remove1]"
      ],
      "metadata": {
        "id": "cq6YKP6BwC1j"
      },
      "execution_count": 9,
      "outputs": []
    },
    {
      "cell_type": "code",
      "source": [
        "value_to_remove2='regular'"
      ],
      "metadata": {
        "id": "xhUzq67gwMVZ"
      },
      "execution_count": 10,
      "outputs": []
    },
    {
      "cell_type": "code",
      "source": [
        "train=train[train['class']!=value_to_remove2]\n",
        "test=test[test['class']!=value_to_remove2]"
      ],
      "metadata": {
        "id": "c_-0nBl8wTIH"
      },
      "execution_count": 11,
      "outputs": []
    },
    {
      "cell_type": "code",
      "source": [
        "train.head()\n",
        "test.head()"
      ],
      "metadata": {
        "colab": {
          "base_uri": "https://localhost:8080/",
          "height": 206
        },
        "id": "8C0kvE8FwWkb",
        "outputId": "f9a8ecee-ba93-42a3-8fcc-353cb0cb9c71"
      },
      "execution_count": 12,
      "outputs": [
        {
          "output_type": "execute_result",
          "data": {
            "text/plain": [
              "                                                 tweets  class\n",
              "70    Oh Scotland's only conservative MP is only a f...    NaN\n",
              "971                                I love going to work    NaN\n",
              "2046  @BBCTalkback nhs nurse hurts shoulder in work ...  irony\n",
              "2047  @jeffmeintzer @FoxNews @fxnscitech well wouldn...  irony\n",
              "2048  #IRONY Funny How more media reporters cover th...  irony"
            ],
            "text/html": [
              "\n",
              "  <div id=\"df-3ab5e85c-ae8d-42be-8cbd-43448eeb85f8\" class=\"colab-df-container\">\n",
              "    <div>\n",
              "<style scoped>\n",
              "    .dataframe tbody tr th:only-of-type {\n",
              "        vertical-align: middle;\n",
              "    }\n",
              "\n",
              "    .dataframe tbody tr th {\n",
              "        vertical-align: top;\n",
              "    }\n",
              "\n",
              "    .dataframe thead th {\n",
              "        text-align: right;\n",
              "    }\n",
              "</style>\n",
              "<table border=\"1\" class=\"dataframe\">\n",
              "  <thead>\n",
              "    <tr style=\"text-align: right;\">\n",
              "      <th></th>\n",
              "      <th>tweets</th>\n",
              "      <th>class</th>\n",
              "    </tr>\n",
              "  </thead>\n",
              "  <tbody>\n",
              "    <tr>\n",
              "      <th>70</th>\n",
              "      <td>Oh Scotland's only conservative MP is only a f...</td>\n",
              "      <td>NaN</td>\n",
              "    </tr>\n",
              "    <tr>\n",
              "      <th>971</th>\n",
              "      <td>I love going to work</td>\n",
              "      <td>NaN</td>\n",
              "    </tr>\n",
              "    <tr>\n",
              "      <th>2046</th>\n",
              "      <td>@BBCTalkback nhs nurse hurts shoulder in work ...</td>\n",
              "      <td>irony</td>\n",
              "    </tr>\n",
              "    <tr>\n",
              "      <th>2047</th>\n",
              "      <td>@jeffmeintzer @FoxNews @fxnscitech well wouldn...</td>\n",
              "      <td>irony</td>\n",
              "    </tr>\n",
              "    <tr>\n",
              "      <th>2048</th>\n",
              "      <td>#IRONY Funny How more media reporters cover th...</td>\n",
              "      <td>irony</td>\n",
              "    </tr>\n",
              "  </tbody>\n",
              "</table>\n",
              "</div>\n",
              "    <div class=\"colab-df-buttons\">\n",
              "\n",
              "  <div class=\"colab-df-container\">\n",
              "    <button class=\"colab-df-convert\" onclick=\"convertToInteractive('df-3ab5e85c-ae8d-42be-8cbd-43448eeb85f8')\"\n",
              "            title=\"Convert this dataframe to an interactive table.\"\n",
              "            style=\"display:none;\">\n",
              "\n",
              "  <svg xmlns=\"http://www.w3.org/2000/svg\" height=\"24px\" viewBox=\"0 -960 960 960\">\n",
              "    <path d=\"M120-120v-720h720v720H120Zm60-500h600v-160H180v160Zm220 220h160v-160H400v160Zm0 220h160v-160H400v160ZM180-400h160v-160H180v160Zm440 0h160v-160H620v160ZM180-180h160v-160H180v160Zm440 0h160v-160H620v160Z\"/>\n",
              "  </svg>\n",
              "    </button>\n",
              "\n",
              "  <style>\n",
              "    .colab-df-container {\n",
              "      display:flex;\n",
              "      gap: 12px;\n",
              "    }\n",
              "\n",
              "    .colab-df-convert {\n",
              "      background-color: #E8F0FE;\n",
              "      border: none;\n",
              "      border-radius: 50%;\n",
              "      cursor: pointer;\n",
              "      display: none;\n",
              "      fill: #1967D2;\n",
              "      height: 32px;\n",
              "      padding: 0 0 0 0;\n",
              "      width: 32px;\n",
              "    }\n",
              "\n",
              "    .colab-df-convert:hover {\n",
              "      background-color: #E2EBFA;\n",
              "      box-shadow: 0px 1px 2px rgba(60, 64, 67, 0.3), 0px 1px 3px 1px rgba(60, 64, 67, 0.15);\n",
              "      fill: #174EA6;\n",
              "    }\n",
              "\n",
              "    .colab-df-buttons div {\n",
              "      margin-bottom: 4px;\n",
              "    }\n",
              "\n",
              "    [theme=dark] .colab-df-convert {\n",
              "      background-color: #3B4455;\n",
              "      fill: #D2E3FC;\n",
              "    }\n",
              "\n",
              "    [theme=dark] .colab-df-convert:hover {\n",
              "      background-color: #434B5C;\n",
              "      box-shadow: 0px 1px 3px 1px rgba(0, 0, 0, 0.15);\n",
              "      filter: drop-shadow(0px 1px 2px rgba(0, 0, 0, 0.3));\n",
              "      fill: #FFFFFF;\n",
              "    }\n",
              "  </style>\n",
              "\n",
              "    <script>\n",
              "      const buttonEl =\n",
              "        document.querySelector('#df-3ab5e85c-ae8d-42be-8cbd-43448eeb85f8 button.colab-df-convert');\n",
              "      buttonEl.style.display =\n",
              "        google.colab.kernel.accessAllowed ? 'block' : 'none';\n",
              "\n",
              "      async function convertToInteractive(key) {\n",
              "        const element = document.querySelector('#df-3ab5e85c-ae8d-42be-8cbd-43448eeb85f8');\n",
              "        const dataTable =\n",
              "          await google.colab.kernel.invokeFunction('convertToInteractive',\n",
              "                                                    [key], {});\n",
              "        if (!dataTable) return;\n",
              "\n",
              "        const docLinkHtml = 'Like what you see? Visit the ' +\n",
              "          '<a target=\"_blank\" href=https://colab.research.google.com/notebooks/data_table.ipynb>data table notebook</a>'\n",
              "          + ' to learn more about interactive tables.';\n",
              "        element.innerHTML = '';\n",
              "        dataTable['output_type'] = 'display_data';\n",
              "        await google.colab.output.renderOutput(dataTable, element);\n",
              "        const docLink = document.createElement('div');\n",
              "        docLink.innerHTML = docLinkHtml;\n",
              "        element.appendChild(docLink);\n",
              "      }\n",
              "    </script>\n",
              "  </div>\n",
              "\n",
              "\n",
              "<div id=\"df-badee178-b3b6-40b8-b7f3-aef148200df2\">\n",
              "  <button class=\"colab-df-quickchart\" onclick=\"quickchart('df-badee178-b3b6-40b8-b7f3-aef148200df2')\"\n",
              "            title=\"Suggest charts\"\n",
              "            style=\"display:none;\">\n",
              "\n",
              "<svg xmlns=\"http://www.w3.org/2000/svg\" height=\"24px\"viewBox=\"0 0 24 24\"\n",
              "     width=\"24px\">\n",
              "    <g>\n",
              "        <path d=\"M19 3H5c-1.1 0-2 .9-2 2v14c0 1.1.9 2 2 2h14c1.1 0 2-.9 2-2V5c0-1.1-.9-2-2-2zM9 17H7v-7h2v7zm4 0h-2V7h2v10zm4 0h-2v-4h2v4z\"/>\n",
              "    </g>\n",
              "</svg>\n",
              "  </button>\n",
              "\n",
              "<style>\n",
              "  .colab-df-quickchart {\n",
              "      --bg-color: #E8F0FE;\n",
              "      --fill-color: #1967D2;\n",
              "      --hover-bg-color: #E2EBFA;\n",
              "      --hover-fill-color: #174EA6;\n",
              "      --disabled-fill-color: #AAA;\n",
              "      --disabled-bg-color: #DDD;\n",
              "  }\n",
              "\n",
              "  [theme=dark] .colab-df-quickchart {\n",
              "      --bg-color: #3B4455;\n",
              "      --fill-color: #D2E3FC;\n",
              "      --hover-bg-color: #434B5C;\n",
              "      --hover-fill-color: #FFFFFF;\n",
              "      --disabled-bg-color: #3B4455;\n",
              "      --disabled-fill-color: #666;\n",
              "  }\n",
              "\n",
              "  .colab-df-quickchart {\n",
              "    background-color: var(--bg-color);\n",
              "    border: none;\n",
              "    border-radius: 50%;\n",
              "    cursor: pointer;\n",
              "    display: none;\n",
              "    fill: var(--fill-color);\n",
              "    height: 32px;\n",
              "    padding: 0;\n",
              "    width: 32px;\n",
              "  }\n",
              "\n",
              "  .colab-df-quickchart:hover {\n",
              "    background-color: var(--hover-bg-color);\n",
              "    box-shadow: 0 1px 2px rgba(60, 64, 67, 0.3), 0 1px 3px 1px rgba(60, 64, 67, 0.15);\n",
              "    fill: var(--button-hover-fill-color);\n",
              "  }\n",
              "\n",
              "  .colab-df-quickchart-complete:disabled,\n",
              "  .colab-df-quickchart-complete:disabled:hover {\n",
              "    background-color: var(--disabled-bg-color);\n",
              "    fill: var(--disabled-fill-color);\n",
              "    box-shadow: none;\n",
              "  }\n",
              "\n",
              "  .colab-df-spinner {\n",
              "    border: 2px solid var(--fill-color);\n",
              "    border-color: transparent;\n",
              "    border-bottom-color: var(--fill-color);\n",
              "    animation:\n",
              "      spin 1s steps(1) infinite;\n",
              "  }\n",
              "\n",
              "  @keyframes spin {\n",
              "    0% {\n",
              "      border-color: transparent;\n",
              "      border-bottom-color: var(--fill-color);\n",
              "      border-left-color: var(--fill-color);\n",
              "    }\n",
              "    20% {\n",
              "      border-color: transparent;\n",
              "      border-left-color: var(--fill-color);\n",
              "      border-top-color: var(--fill-color);\n",
              "    }\n",
              "    30% {\n",
              "      border-color: transparent;\n",
              "      border-left-color: var(--fill-color);\n",
              "      border-top-color: var(--fill-color);\n",
              "      border-right-color: var(--fill-color);\n",
              "    }\n",
              "    40% {\n",
              "      border-color: transparent;\n",
              "      border-right-color: var(--fill-color);\n",
              "      border-top-color: var(--fill-color);\n",
              "    }\n",
              "    60% {\n",
              "      border-color: transparent;\n",
              "      border-right-color: var(--fill-color);\n",
              "    }\n",
              "    80% {\n",
              "      border-color: transparent;\n",
              "      border-right-color: var(--fill-color);\n",
              "      border-bottom-color: var(--fill-color);\n",
              "    }\n",
              "    90% {\n",
              "      border-color: transparent;\n",
              "      border-bottom-color: var(--fill-color);\n",
              "    }\n",
              "  }\n",
              "</style>\n",
              "\n",
              "  <script>\n",
              "    async function quickchart(key) {\n",
              "      const quickchartButtonEl =\n",
              "        document.querySelector('#' + key + ' button');\n",
              "      quickchartButtonEl.disabled = true;  // To prevent multiple clicks.\n",
              "      quickchartButtonEl.classList.add('colab-df-spinner');\n",
              "      try {\n",
              "        const charts = await google.colab.kernel.invokeFunction(\n",
              "            'suggestCharts', [key], {});\n",
              "      } catch (error) {\n",
              "        console.error('Error during call to suggestCharts:', error);\n",
              "      }\n",
              "      quickchartButtonEl.classList.remove('colab-df-spinner');\n",
              "      quickchartButtonEl.classList.add('colab-df-quickchart-complete');\n",
              "    }\n",
              "    (() => {\n",
              "      let quickchartButtonEl =\n",
              "        document.querySelector('#df-badee178-b3b6-40b8-b7f3-aef148200df2 button');\n",
              "      quickchartButtonEl.style.display =\n",
              "        google.colab.kernel.accessAllowed ? 'block' : 'none';\n",
              "    })();\n",
              "  </script>\n",
              "</div>\n",
              "\n",
              "    </div>\n",
              "  </div>\n"
            ],
            "application/vnd.google.colaboratory.intrinsic+json": {
              "type": "dataframe",
              "variable_name": "test",
              "summary": "{\n  \"name\": \"test\",\n  \"rows\": 4225,\n  \"fields\": [\n    {\n      \"column\": \"tweets\",\n      \"properties\": {\n        \"dtype\": \"string\",\n        \"num_unique_values\": 4223,\n        \"samples\": [\n          \"@DaniSchmidek And no wine anywhere in sight. #sarcasm\",\n          \"Such a vicious breed... #sarcasm #Pitbulls https://t.co/JFMhJCgPDM\",\n          \"@trillLizard Yeah, you should probably not attempt to regulate guns then. This letting nutters shoot people is working rather fine #Sarcasm\"\n        ],\n        \"semantic_type\": \"\",\n        \"description\": \"\"\n      }\n    },\n    {\n      \"column\": \"class\",\n      \"properties\": {\n        \"dtype\": \"category\",\n        \"num_unique_values\": 2,\n        \"samples\": [\n          \"sarcasm\",\n          \"irony\"\n        ],\n        \"semantic_type\": \"\",\n        \"description\": \"\"\n      }\n    }\n  ]\n}"
            }
          },
          "metadata": {},
          "execution_count": 12
        }
      ]
    },
    {
      "cell_type": "code",
      "source": [
        "# let's check for the null values in dataste\n",
        "print(f'Null values : \\n{train.isna().sum()}')\n",
        "print(f'Null values : \\n{test.isna().sum()}')"
      ],
      "metadata": {
        "colab": {
          "base_uri": "https://localhost:8080/"
        },
        "id": "b1LpeMVXxkcs",
        "outputId": "d999cd72-8951-41a9-b65f-a72439df86a0"
      },
      "execution_count": 13,
      "outputs": [
        {
          "output_type": "stream",
          "name": "stdout",
          "text": [
            "Null values : \n",
            "tweets    0\n",
            "class     0\n",
            "dtype: int64\n",
            "Null values : \n",
            "tweets    2\n",
            "class     9\n",
            "dtype: int64\n"
          ]
        }
      ]
    },
    {
      "cell_type": "code",
      "source": [
        "test.dropna(axis=0, inplace=True)"
      ],
      "metadata": {
        "colab": {
          "base_uri": "https://localhost:8080/"
        },
        "id": "9S8RhTR0xorS",
        "outputId": "de1727a9-7ea5-47e2-bc88-b412bd9c9c90"
      },
      "execution_count": 14,
      "outputs": [
        {
          "output_type": "stream",
          "name": "stderr",
          "text": [
            "<ipython-input-14-ca929d0d286a>:1: SettingWithCopyWarning: \n",
            "A value is trying to be set on a copy of a slice from a DataFrame\n",
            "\n",
            "See the caveats in the documentation: https://pandas.pydata.org/pandas-docs/stable/user_guide/indexing.html#returning-a-view-versus-a-copy\n",
            "  test.dropna(axis=0, inplace=True)\n"
          ]
        }
      ]
    },
    {
      "cell_type": "code",
      "source": [
        "# let's check again the null values\n",
        "print(f'Null values : \\n{test.isna().sum()}')"
      ],
      "metadata": {
        "colab": {
          "base_uri": "https://localhost:8080/"
        },
        "id": "qDpj6twZxt2B",
        "outputId": "80f1fe96-2380-4f06-bcfd-757356d1c286"
      },
      "execution_count": 15,
      "outputs": [
        {
          "output_type": "stream",
          "name": "stdout",
          "text": [
            "Null values : \n",
            "tweets    0\n",
            "class     0\n",
            "dtype: int64\n"
          ]
        }
      ]
    },
    {
      "source": [
        "# @title class\n",
        "train.groupby('class').size().plot(kind='barh', color=sns.palettes.mpl_palette('Dark2'))\n",
        "plt.gca().spines[['top', 'right',]].set_visible(False)"
      ],
      "cell_type": "code",
      "execution_count": 16,
      "outputs": [
        {
          "output_type": "display_data",
          "data": {
            "text/plain": [
              "<Figure size 640x480 with 1 Axes>"
            ],
            "image/png": "[encoded data removed]"
          },
          "metadata": {}
        }
      ],
      "metadata": {
        "colab": {
          "base_uri": "https://localhost:8080/",
          "height": 430
        },
        "id": "ul6byZJ5w0hm",
        "outputId": "946dbfd8-d373-43fc-eb10-eca2c05d38bd"
      }
    },
    {
      "cell_type": "code",
      "source": [
        "# train=train.dropna(subset=['tweets','class'])\n",
        "# test=test.dropna(subset=['tweets','class'])"
      ],
      "metadata": {
        "id": "TBvUjW9RpWiJ"
      },
      "execution_count": 17,
      "outputs": []
    },
    {
      "cell_type": "code",
      "source": [
        "stopwordlist = ['a','about','above', 'after', 'again', 'ain', 'all', 'am', 'an', 'also',\n",
        "                        'and','any','are', 'as', 'at', 'be', 'because', 'been', 'before',\n",
        "                        'being', 'below', 'between','both', 'by', 'but','can', 'cant',\"can\\'\",\"cannot\", 'd', 'did', 'do','dont', \"don\\'\",\n",
        "                        'does', 'doing', 'down', 'during', 'each','even','few', 'for', 'from',\n",
        "                        'further', 'get','had', 'has', 'have', 'having', 'he', 'her', 'here',\n",
        "                        'hers', 'herself', 'him', 'himself', 'his', 'how', 'i', 'if', 'in',\n",
        "                        'into','is', 'it', 'its', 'itself', 'just', 'll', 'm', 'ma','make','made',\n",
        "                        'me', 'more', 'most','my', 'must','myself', 'now', 'not',\"didn\\'\",'o', 'of', 'on', 'once', 'one',\n",
        "                        'only', 'or', 'other', 'our', 'ours','ourselves', 'out', 'own', 're','s', 'same', 'she', \"shes\", 'should', \"shouldve\",'so', 'some', 'such', 'still',\n",
        "                        't', 'than', 'that', \"thatll\", 'the', 'their', 'theirs', 'them',\n",
        "                        'themselves', 'then', 'there', 'these', 'they','this', 'those',\n",
        "                        'through', 'to', 'too','under', 'until', 'up', 've', 'very', 'was',\n",
        "                        'we', 'were', 'what', 'when', 'where','which','while', 'who', 'whom',\n",
        "                        'why', 'will', 'with', 'won', 'would','y', 'you', \"youd\",\"youll\", \"youre\",\n",
        "                        \"youve\", 'your', 'yours', 'yourself', 'yourselves', '➡' ,'✌']\n",
        "\n",
        "L1=copy.deepcopy(stopwordlist)\n",
        "L=[word.capitalize() for word in L1]\n",
        "stopwordlist.extend(L)\n",
        "\n",
        "STOPWORDS = set(stopwordlist)\n",
        "english_punctuations = string.punctuation\n",
        "punctuations_list = english_punctuations"
      ],
      "metadata": {
        "id": "IwGMrrRQDSHZ"
      },
      "execution_count": 18,
      "outputs": []
    },
    {
      "cell_type": "code",
      "source": [
        "def cleaning_stopwords(text):\n",
        "        return \" \".join([word for word in str(text).split() if word not in STOPWORDS])\n",
        "def cleaning_punctuations(text):\n",
        "        translator = str.maketrans('', '', punctuations_list)\n",
        "        return text.translate(translator)\n",
        "def deEmojify(text):\n",
        "    regrex_pattern = re.compile(pattern = \"[\"\n",
        "        u\"\\U0001F600-\\U0001F64F\"  # emoticons\n",
        "        u\"\\U0001F300-\\U0001F5FF\"  # symbols & pictographs\n",
        "        u\"\\U0001F680-\\U0001F6FF\"  # transport & map symbols\n",
        "        u\"\\U0001F1E0-\\U0001F1FF\"  # flags (iOS)\n",
        "                           \"]+\", flags = re.UNICODE)\n",
        "    return regrex_pattern.sub(r'',text)"
      ],
      "metadata": {
        "id": "9xKyFvHVDmfo"
      },
      "execution_count": 19,
      "outputs": []
    },
    {
      "cell_type": "code",
      "source": [
        "train['tweets']=train['tweets'].apply(lambda text:cleaning_stopwords(text))\n",
        "train['tweets']=train['tweets'].apply(lambda text:cleaning_punctuations(text))\n",
        "train['tweets']=train['tweets'].apply(lambda text:deEmojify(text))\n",
        "\n",
        "test['tweets']=test['tweets'].apply(lambda text:cleaning_stopwords(text))\n",
        "test['tweets']=test['tweets'].apply(lambda text:cleaning_punctuations(text))\n",
        "test['tweets']=test['tweets'].apply(lambda text:deEmojify(text))"
      ],
      "metadata": {
        "id": "NoOqiRmHycdL"
      },
      "execution_count": 20,
      "outputs": []
    },
    {
      "cell_type": "code",
      "source": [
        "from sklearn import preprocessing\n",
        "le = preprocessing.LabelEncoder()\n",
        "\n",
        "le = le.fit(train['class'])"
      ],
      "metadata": {
        "id": "Z9U9-bHbvYN9"
      },
      "execution_count": 21,
      "outputs": []
    },
    {
      "cell_type": "code",
      "source": [
        "labels = le.transform(train['class'])"
      ],
      "metadata": {
        "id": "4kyA0H_Svcrg"
      },
      "execution_count": 22,
      "outputs": []
    },
    {
      "cell_type": "code",
      "source": [
        "from sklearn.feature_extraction.text import TfidfVectorizer\n",
        "tfidf = TfidfVectorizer()"
      ],
      "metadata": {
        "id": "7i6fM8KMvfuI"
      },
      "execution_count": 23,
      "outputs": []
    },
    {
      "cell_type": "code",
      "source": [
        "texts_train = tfidf.fit_transform(train['tweets']).todense()"
      ],
      "metadata": {
        "id": "USY0bP8Ovigv"
      },
      "execution_count": 24,
      "outputs": []
    },
    {
      "cell_type": "code",
      "source": [
        "texts_train.shape"
      ],
      "metadata": {
        "colab": {
          "base_uri": "https://localhost:8080/"
        },
        "id": "Y2XqeTwa0Kib",
        "outputId": "3d43aa05-82a1-43b0-f67d-e72b244c9dc8"
      },
      "execution_count": 25,
      "outputs": [
        {
          "output_type": "execute_result",
          "data": {
            "text/plain": [
              "(41575, 76310)"
            ]
          },
          "metadata": {},
          "execution_count": 25
        }
      ]
    },
    {
      "cell_type": "code",
      "source": [
        "# test_text = test['tweets'].apply(clean_text)\n",
        "test_labels = le.transform(test['class'])\n",
        "\n",
        "texts_test = tfidf.transform(test['tweets']).todense()"
      ],
      "metadata": {
        "id": "MQeI2Ht3vylX"
      },
      "execution_count": 26,
      "outputs": []
    },
    {
      "cell_type": "code",
      "source": [
        "texts_test.shape"
      ],
      "metadata": {
        "colab": {
          "base_uri": "https://localhost:8080/"
        },
        "id": "sVnqgDu60VIm",
        "outputId": "57b63e45-db20-4c60-aa63-d0147135a273"
      },
      "execution_count": 27,
      "outputs": [
        {
          "output_type": "execute_result",
          "data": {
            "text/plain": [
              "(4216, 76310)"
            ]
          },
          "metadata": {},
          "execution_count": 27
        }
      ]
    },
    {
      "cell_type": "code",
      "source": [
        "classifier_rf = RandomForestClassifier(random_state=42, n_jobs=-1, max_depth=5,\n",
        "                                       n_estimators=100, oob_score=True)\n",
        "classifier_rf.fit(np.asarray(texts_train),labels)\n"
      ],
      "metadata": {
        "id": "R-txS2e2mS0S"
      },
      "execution_count": null,
      "outputs": []
    },
    {
      "cell_type": "code",
      "source": [
        "LRmodel = LogisticRegression(C = 2, max_iter = 1000, n_jobs=-1)\n",
        "LRmodel.fit(np.asarray(texts_train), labels)"
      ],
      "metadata": {
        "id": "hOezlxMlod8L"
      },
      "execution_count": null,
      "outputs": []
    },
    {
      "cell_type": "code",
      "source": [
        "NBclassifier=MultinomialNB()\n",
        "NBclassifier.fit(np.asarray(texts_train),labels)"
      ],
      "metadata": {
        "id": "0ccTyZKguzDo"
      },
      "execution_count": null,
      "outputs": []
    },
    {
      "cell_type": "code",
      "source": [
        "# accuracy1 = accuracy_score(y_test, y_pred1)\n",
        "# print(f'Accuracy: {accuracy1}')\n",
        "print(classification_report(test_labels, classifier_rf.predict(texts_test)))"
      ],
      "metadata": {
        "id": "szSsb91Cqu-b"
      },
      "execution_count": null,
      "outputs": []
    },
    {
      "cell_type": "code",
      "source": [
        "# accuracy2 = accuracy_score(y_test, y_pred2)\n",
        "# print(f'Accuracy: {accuracy2}')\n",
        "print(classification_report(test_labels,LRmodel.predict(texts_test)))"
      ],
      "metadata": {
        "id": "Nxw_d2LvrQAq"
      },
      "execution_count": null,
      "outputs": []
    },
    {
      "cell_type": "code",
      "source": [
        "# accuracy3 = accuracy_score(y_test, y_pred3)\n",
        "# print(f'Accuracy: {accuracy3}')\n",
        "print(classification_report(test_labels, NBclassifier.predict(texts_test)))"
      ],
      "metadata": {
        "id": "CH7XcPlhvNlK"
      },
      "execution_count": null,
      "outputs": []
    },
    {
      "cell_type": "code",
      "source": [
        "confusion_mat1 = confusion_matrix(test_labels, classifier_rf.predict(texts_test))\n",
        "print(confusion_mat1)"
      ],
      "metadata": {
        "id": "tqhD0QXTzelP"
      },
      "execution_count": null,
      "outputs": []
    },
    {
      "cell_type": "code",
      "source": [
        "confusion_mat_values1=confusion_mat1.flatten()\n",
        "print(confusion_mat_values1)"
      ],
      "metadata": {
        "id": "eVyiFUWozyiC"
      },
      "execution_count": null,
      "outputs": []
    },
    {
      "cell_type": "code",
      "source": [
        "confusion_mat2 = confusion_matrix(test_labels, LRmodel.predict(texts_test))\n",
        "print(confusion_mat2)"
      ],
      "metadata": {
        "id": "An3Vqzy3zjwM"
      },
      "execution_count": null,
      "outputs": []
    },
    {
      "cell_type": "code",
      "source": [
        "confusion_mat_values2=confusion_mat2.flatten()\n",
        "print(confusion_mat_values2)"
      ],
      "metadata": {
        "id": "XsRpjkjizzWl"
      },
      "execution_count": null,
      "outputs": []
    },
    {
      "cell_type": "code",
      "source": [
        "confusion_mat3 = confusion_matrix(test_labels, NBClassifier.predict(texts_test))\n",
        "print(confusion_mat3)"
      ],
      "metadata": {
        "id": "tdNgHwoizlJK"
      },
      "execution_count": null,
      "outputs": []
    },
    {
      "cell_type": "code",
      "source": [
        "confusion_mat_values3=confusion_mat3.flatten()\n",
        "print(confusion_mat_values3)"
      ],
      "metadata": {
        "id": "vTt-kHiXz0Or"
      },
      "execution_count": null,
      "outputs": []
    },
    {
      "cell_type": "code",
      "source": [
        "categories = ['Irony','Sarcasm']\n",
        "group_names = ['True Irony', 'False Sarcasm', 'False Irony', 'True Sarcasm']\n",
        "group_percentages = ['{0:.2%}'.format(value) for value in confusion_mat1.flatten() / np.sum(confusion_mat1)]\n",
        "labels = [f'{v1} {v2}' for v1, v2 in zip(group_names,group_percentages)]\n",
        "labels = np.asarray(labels).reshape(2,2)\n",
        "sns.heatmap(confusion_mat1, annot = labels, cmap = 'Blues',fmt = '',\n",
        "xticklabels = categories, yticklabels = categories)\n",
        "plt.xlabel(\"Predicted values\", fontdict = {'size':14}, labelpad = 10)\n",
        "plt.ylabel(\"Actual values\" , fontdict = {'size':14}, labelpad = 10)\n",
        "plt.title (\"Confusion Matrix\", fontdict = {'size':18}, pad = 20)"
      ],
      "metadata": {
        "id": "68Ps5WH6zI06"
      },
      "execution_count": null,
      "outputs": []
    },
    {
      "cell_type": "code",
      "source": [
        "categories = ['Irony','Sarcasm']\n",
        "group_names = ['True Irony', 'False Sarcasm', 'False Irony', 'True Sarcasm']\n",
        "group_percentages = ['{0:.2%}'.format(value) for value in confusion_mat2.flatten() / np.sum(confusion_mat2)]\n",
        "labels = [f'{v1} {v2}' for v1, v2 in zip(group_names,group_percentages)]\n",
        "labels = np.asarray(labels).reshape(2,2)\n",
        "sns.heatmap(confusion_mat2, annot = labels, cmap = 'Blues',fmt = '',\n",
        "xticklabels = categories, yticklabels = categories)\n",
        "plt.xlabel(\"Predicted values\", fontdict = {'size':14}, labelpad = 10)\n",
        "plt.ylabel(\"Actual values\" , fontdict = {'size':14}, labelpad = 10)\n",
        "plt.title (\"Confusion Matrix\", fontdict = {'size':18}, pad = 20)"
      ],
      "metadata": {
        "id": "7zAsG7HG4kzi"
      },
      "execution_count": null,
      "outputs": []
    },
    {
      "cell_type": "code",
      "source": [
        "categories = ['Irony','Sarcasm']\n",
        "group_names = ['True Irony', 'False Sarcasm', 'False Irony', 'True Sarcasm']\n",
        "group_percentages = ['{0:.2%}'.format(value) for value in confusion_mat3.flatten() / np.sum(confusion_mat3)]\n",
        "labels = [f'{v1} {v2}' for v1, v2 in zip(group_names,group_percentages)]\n",
        "labels = np.asarray(labels).reshape(2,2)\n",
        "sns.heatmap(confusion_mat3, annot = labels, cmap = 'Blues',fmt = '',\n",
        "xticklabels = categories, yticklabels = categories)\n",
        "plt.xlabel(\"Predicted values\", fontdict = {'size':14}, labelpad = 10)\n",
        "plt.ylabel(\"Actual values\" , fontdict = {'size':14}, labelpad = 10)\n",
        "plt.title (\"Confusion Matrix\", fontdict = {'size':18}, pad = 20)"
      ],
      "metadata": {
        "id": "5T8Obd4B4qto"
      },
      "execution_count": null,
      "outputs": []
    },
    {
      "cell_type": "code",
      "source": [],
      "metadata": {
        "id": "CcKFx8r_o3mk"
      },
      "execution_count": null,
      "outputs": []
    }
  ],
  "metadata": {
    "colab": {
      "provenance": []
    },
    "kernelspec": {
      "display_name": "Python 3",
      "name": "python3"
    },
    "language_info": {
      "name": "python"
    },
    "accelerator": "TPU"
  },
  "nbformat": 4,
  "nbformat_minor": 0
}